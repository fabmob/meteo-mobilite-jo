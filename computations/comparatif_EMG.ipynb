{
 "cells": [
  {
   "cell_type": "code",
   "execution_count": null,
   "metadata": {},
   "outputs": [],
   "source": [
    "import pandas as pd\n",
    "import geopandas as gpd\n",
    "import h3pandas\n",
    "from shapely.geometry import Point, Polygon, LineString\n",
    "import json\n",
    "import folium\n",
    "import os\n",
    "import numpy as np\n",
    "from mappymatch.constructs.geofence import Geofence\n",
    "from shapely import prepare"
   ]
  },
  {
   "cell_type": "code",
   "execution_count": null,
   "metadata": {},
   "outputs": [],
   "source": [
    "# configuration\n",
    "OUTPUT_FILE ='../static/data/emg_compare.json'"
   ]
  },
  {
   "cell_type": "code",
   "execution_count": null,
   "metadata": {},
   "outputs": [],
   "source": [
    "result_dict = {}"
   ]
  },
  {
   "cell_type": "code",
   "execution_count": null,
   "metadata": {},
   "outputs": [],
   "source": [
    "geofence_paris = Geofence.from_geojson(\"sources/paris.geojson\")\n",
    "geofence_idf = Geofence.from_geojson(\"sources/region-ile-de-france.geojson\")\n",
    "geofence_idf_pc_only = Geofence.from_geojson(\"sources/idf_pc_only.geojson\")"
   ]
  },
  {
   "cell_type": "code",
   "execution_count": null,
   "metadata": {},
   "outputs": [],
   "source": [
    "# Load csv data, only for idf\n",
    "li = []\n",
    "li.append(pd.read_csv(\"sources/data_france_2024-07-24.csv\", engine=\"pyarrow\")[lambda x: x['code'] == 11])\n",
    "li.append(pd.read_csv(\"sources/data_france_2024-07-25.csv\", engine=\"pyarrow\")[lambda x: x['code'] == 11])\n",
    "li.append(pd.read_csv(\"sources/data_france_2024-07-26.csv\", engine=\"pyarrow\")[lambda x: x['code'] == 11])\n",
    "li.append(pd.read_csv(\"sources/data_france_2024-07-27.csv\", engine=\"pyarrow\")[lambda x: x['code'] == 11])\n",
    "li.append(pd.read_csv(\"sources/data_france_2024-07-28.csv\", engine=\"pyarrow\")[lambda x: x['code'] == 11])\n",
    "li.append(pd.read_csv(\"sources/data_france_2024-07-29.csv\", engine=\"pyarrow\")[lambda x: x['code'] == 11])\n",
    "li.append(pd.read_csv(\"sources/data_france_2024-07-30.csv\", engine=\"pyarrow\")[lambda x: x['code'] == 11])\n",
    "li.append(pd.read_csv(\"sources/data_france_2024-07-31.csv\", engine=\"pyarrow\")[lambda x: x['code'] == 11])\n",
    "li.append(pd.read_csv(\"sources/data_france_2024-08-01.csv\", engine=\"pyarrow\")[lambda x: x['code'] == 11])\n",
    "li.append(pd.read_csv(\"sources/data_france_2024-08-02.csv\", engine=\"pyarrow\")[lambda x: x['code'] == 11])\n",
    "li.append(pd.read_csv(\"sources/data_france_2024-08-03.csv\", engine=\"pyarrow\")[lambda x: x['code'] == 11])\n",
    "li.append(pd.read_csv(\"sources/data_france_2024-08-04.csv\", engine=\"pyarrow\")[lambda x: x['code'] == 11])\n",
    "li.append(pd.read_csv(\"sources/data_france_2024-08-05.csv\", engine=\"pyarrow\")[lambda x: x['code'] == 11])\n",
    "li.append(pd.read_csv(\"sources/data_france_2024-08-06.csv\", engine=\"pyarrow\")[lambda x: x['code'] == 11])\n",
    "df_src = pd.concat(li, axis=0, ignore_index=True)\n",
    "df_src = df_src.drop(columns=[\"geometry\", \"index_right\", \"nom\", \"code\"])\n",
    "df_src"
   ]
  },
  {
   "cell_type": "code",
   "execution_count": null,
   "metadata": {},
   "outputs": [],
   "source": [
    "tr = {\n",
    "-10 : \"NOT_DEFINED\",\n",
    "0 : \"UNKNOWN\",\n",
    "1 : \"PASSENGER_CAR\",\n",
    "2 : \"MOTORCYCLE\",\n",
    "3 : \"HEAVY_DUTY_VEHICLE\",\n",
    "4 : \"BUS\",\n",
    "5 : \"COACH\",\n",
    "6 : \"RAIL_TRIP\",\n",
    "7 : \"BOAT_TRIP\",\n",
    "8 : \"BIKE_TRIP\",\n",
    "9 : \"PLANE\",\n",
    "10 : \"SKI\",\n",
    "11 : \"FOOT\",\n",
    "12 : \"IDLE\",\n",
    "13 : \"OTHER\",\n",
    "101 : \"SCOOTER\",\n",
    "102 : \"HIGH_SPEED_TRAIN\"\n",
    "}\n",
    "tre = {\n",
    "    -10: \"\",\n",
    "    1: \"Essence\",\n",
    "    2: \"Diesel\",\n",
    "    3: \"Electrique\",\n",
    "    4: \"Essence Hybride\",\n",
    "    5: \"Diesiel Hybride\"\n",
    "}\n",
    "df_src['transportation_mode_tr'] = df_src['transportation_mode'].apply(lambda x: tr[x])\n",
    "df_src['engine_type_tr'] = df_src['engine_type'].apply(lambda x: tre[x]) # Unused"
   ]
  },
  {
   "cell_type": "code",
   "execution_count": null,
   "metadata": {},
   "outputs": [],
   "source": [
    "# Convert columns to datetime\n",
    "df_src['start_time'] = pd.to_datetime(df_src['start_time'], format='mixed')\n",
    "df_src['end_time'] = pd.to_datetime(df_src['end_time'], format='mixed')\n",
    "\n",
    "# Calculate duration in seconds\n",
    "df_src['duration'] = (df_src['end_time'] - df_src['start_time']).dt.total_seconds()"
   ]
  },
  {
   "cell_type": "code",
   "execution_count": null,
   "metadata": {},
   "outputs": [],
   "source": [
    "journey_df = df_src.groupby(\"journey_id\").agg(\n",
    "    journey_starting_longitude=('starting_longitude', 'first'),\n",
    "    journey_starting_latitude=('starting_latitude', 'first'),\n",
    "    journey_ending_longitude=('ending_longitude', 'last'),\n",
    "    journey_ending_latitude=('ending_latitude', 'last'),\n",
    "    journey_start_time=('start_time', 'first'),\n",
    "    journey_end_time=('end_time', 'last'),\n",
    "    journey_duration=('duration', 'sum'),\n",
    "    journey_distance=('distance_km', 'sum')\n",
    ").reset_index()\n",
    "df_src = pd.merge(df_src, journey_df, on=\"journey_id\")\n",
    "df_src"
   ]
  },
  {
   "cell_type": "code",
   "execution_count": null,
   "metadata": {},
   "outputs": [],
   "source": [
    "gdf = gpd.GeoDataFrame(df_src, geometry=gpd.points_from_xy(df_src.journey_starting_longitude, df_src.journey_starting_latitude), crs=\"EPSG:4326\")\n",
    "gdf['end_geometry'] = gpd.points_from_xy(gdf.journey_ending_longitude, gdf.journey_ending_latitude)"
   ]
  },
  {
   "cell_type": "code",
   "execution_count": null,
   "metadata": {},
   "outputs": [],
   "source": [
    "prepare(geofence_paris.geometry)\n",
    "prepare(geofence_idf.geometry)\n",
    "prepare(geofence_idf_pc_only.geometry)\n",
    "gdf[\"start_in_paris\"] = geofence_paris.geometry.contains(gdf.geometry)\n",
    "gdf[\"end_in_paris\"] = geofence_paris.geometry.contains(gdf.end_geometry)\n",
    "gdf[\"start_in_idf\"] = geofence_idf.geometry.contains(gdf.geometry)\n",
    "gdf[\"end_in_idf\"] = geofence_idf.geometry.contains(gdf.end_geometry)\n",
    "gdf[\"start_in_pc\"] = geofence_idf_pc_only.geometry.contains(gdf.geometry)\n",
    "gdf[\"end_in_pc\"] = geofence_idf_pc_only.geometry.contains(gdf.end_geometry)\n",
    "gdf[\"start_in_gc\"] = gdf.start_in_idf & ~gdf.start_in_paris & ~gdf.start_in_pc\n",
    "gdf[\"end_in_gc\"] = gdf.end_in_idf & ~gdf.end_in_paris & ~gdf.end_in_pc"
   ]
  },
  {
   "cell_type": "code",
   "execution_count": null,
   "metadata": {},
   "outputs": [],
   "source": [
    "df = gdf[gdf.start_in_idf & gdf.end_in_idf]"
   ]
  },
  {
   "cell_type": "code",
   "execution_count": null,
   "metadata": {},
   "outputs": [],
   "source": [
    "df_gp_journey = df.groupby('journey_id').nth(0)"
   ]
  },
  {
   "cell_type": "markdown",
   "metadata": {},
   "source": [
    "## Nombre de déplacements par jour de la semaine"
   ]
  },
  {
   "cell_type": "code",
   "execution_count": null,
   "metadata": {},
   "outputs": [],
   "source": [
    "result_dict[\"nb_journey_days\"] = {\"data\": {}, \"emg\": {}, \"diff\": {}}"
   ]
  },
  {
   "cell_type": "code",
   "execution_count": null,
   "metadata": {},
   "outputs": [],
   "source": [
    "nb_journey_days = df_gp_journey.groupby(df_gp_journey[\"journey_start_time\"].dt.dayofweek).agg(NbJourney=('journey_id', 'count'))\n",
    "total = nb_journey_days.reset_index()[\"NbJourney\"].sum()\n",
    "nb_journey_days[\"percent\"] = nb_journey_days.NbJourney / total\n",
    "nb_journey_days = nb_journey_days.set_index(pd.Index(['Lundi', 'Mardi', 'Mercredi', 'Jeudi', 'Vendredi', 'Samedi', 'Dimanche']))\n",
    "result_dict[\"nb_journey_days\"][\"data\"] = nb_journey_days.to_dict()\n",
    "nb_journey_days"
   ]
  },
  {
   "cell_type": "code",
   "execution_count": null,
   "metadata": {},
   "outputs": [],
   "source": [
    "emg_nb_journey_days = pd.DataFrame({\n",
    "    'index': ['Lundi', 'Mardi', 'Mercredi', 'Jeudi', 'Vendredi', 'Samedi', 'Dimanche'],\n",
    "    'NbJourney': [34.5, 35.5, 34.9, 34.2, 33.8, 29.0, 19.0]\n",
    "})\n",
    "total = emg_nb_journey_days.reset_index()[\"NbJourney\"].sum()\n",
    "emg_nb_journey_days[\"percent\"] = emg_nb_journey_days.NbJourney / total\n",
    "emg_nb_journey_days = emg_nb_journey_days.set_index('index')\n",
    "result_dict[\"nb_journey_days\"][\"emg\"] = emg_nb_journey_days.to_dict()\n",
    "emg_nb_journey_days"
   ]
  },
  {
   "cell_type": "code",
   "execution_count": null,
   "metadata": {},
   "outputs": [],
   "source": [
    "result_dict[\"nb_journey_days\"][\"diff\"] = ((nb_journey_days[\"percent\"] - emg_nb_journey_days[\"percent\"]) * 100).to_dict()"
   ]
  },
  {
   "cell_type": "markdown",
   "metadata": {},
   "source": [
    "## % des individus ne se déplaçant pas par jour de la semaine\n",
    "Pour éviter les faux positifs, avec des gens qui quittent ou arrive en idf pendant la période, je ne considère que les utilsiateurs avec au moins 7 jours de déplacement au cours des 2 semaines"
   ]
  },
  {
   "cell_type": "code",
   "execution_count": null,
   "metadata": {},
   "outputs": [],
   "source": [
    "result_dict[\"users_not_moving\"] = {\"data\": {}, \"emg\": {}, \"diff\": {}}"
   ]
  },
  {
   "cell_type": "code",
   "execution_count": null,
   "metadata": {},
   "outputs": [],
   "source": [
    "df_gp_journey['day'] = df_gp_journey[\"journey_start_time\"].dt.day\n",
    "distinctDay = df_gp_journey.groupby('moover_id').agg(DistinctDay=('day', 'nunique'))\n",
    "active_users = distinctDay[distinctDay.DistinctDay > 6].index\n",
    "df_gp_journey.drop(columns='day')"
   ]
  },
  {
   "cell_type": "code",
   "execution_count": null,
   "metadata": {},
   "outputs": [],
   "source": [
    "nb_users_days = df_gp_journey[df_gp_journey['moover_id'].isin(active_users)].groupby(df_gp_journey[\"journey_start_time\"].dt.dayofweek).agg(NbUsers=('moover_id', 'nunique'))\n",
    "total = df_gp_journey[df_gp_journey['moover_id'].isin(active_users)][\"moover_id\"].nunique()\n",
    "nb_users_days[\"percent\"] = nb_users_days.NbUsers * 100 / total\n",
    "nb_users_days[\"percent_users_not_moving\"] = 100 - nb_users_days[\"percent\"]\n",
    "nb_users_days = nb_users_days.set_index(pd.Index(['Lundi', 'Mardi', 'Mercredi', 'Jeudi', 'Vendredi', 'Samedi', 'Dimanche']))\n",
    "result_dict[\"users_not_moving\"][\"data\"] = nb_users_days.to_dict()\n",
    "nb_users_days"
   ]
  },
  {
   "cell_type": "code",
   "execution_count": null,
   "metadata": {},
   "outputs": [],
   "source": [
    "emg_users_not_moving = pd.DataFrame({\n",
    "    'percent_users_not_moving': [5.1, 4.4, 4.9, 5.4, 6.4, 10.8, 24]\n",
    "})\n",
    "emg_users_not_moving = emg_users_not_moving.set_index(pd.Index(['Lundi', 'Mardi', 'Mercredi', 'Jeudi', 'Vendredi', 'Samedi', 'Dimanche']))\n",
    "result_dict[\"users_not_moving\"][\"emg\"] = emg_users_not_moving.to_dict()\n",
    "emg_users_not_moving"
   ]
  },
  {
   "cell_type": "code",
   "execution_count": null,
   "metadata": {},
   "outputs": [],
   "source": [
    "result_dict[\"users_not_moving\"][\"diff\"] = ((nb_users_days[\"percent_users_not_moving\"] - emg_users_not_moving[\"percent_users_not_moving\"])).to_dict()"
   ]
  },
  {
   "cell_type": "markdown",
   "metadata": {},
   "source": [
    "## Nb déplacement par heure de la journée"
   ]
  },
  {
   "cell_type": "code",
   "execution_count": null,
   "metadata": {},
   "outputs": [],
   "source": [
    "result_dict[\"nb_journey_hour\"] = {\"data\": {}, \"emg\": {}, \"diff\": {}}"
   ]
  },
  {
   "cell_type": "code",
   "execution_count": null,
   "metadata": {},
   "outputs": [],
   "source": [
    "nb_journey_hour = df_gp_journey.groupby(df_gp_journey[\"journey_start_time\"].dt.hour).agg(NbJourney=('journey_id', 'count'))\n",
    "total = nb_journey_hour.reset_index()[\"NbJourney\"].sum()\n",
    "nb_journey_hour[\"percent\"] = nb_journey_hour.NbJourney * 100 / total\n",
    "nb_journey_hour = nb_journey_hour.set_index((nb_journey_hour.reset_index()[\"journey_start_time\"] + 2) % 24).sort_index()\n",
    "result_dict[\"nb_journey_hour\"][\"data\"] = nb_journey_hour.to_dict()\n",
    "nb_journey_hour"
   ]
  },
  {
   "cell_type": "code",
   "execution_count": null,
   "metadata": {},
   "outputs": [],
   "source": [
    "nb_journey_hour['NbJourney'].plot()"
   ]
  },
  {
   "cell_type": "code",
   "execution_count": null,
   "metadata": {},
   "outputs": [],
   "source": [
    "emg_nb_journey_hour = pd.DataFrame({\n",
    "    'NbJourney': [1126, 7314, 37907, 80506, 183966, 714481, 1105175, 641844, 611138, 790746, 981349, 766795, 597375, 705335, 1072581, 1287459, 1035738, 603330, 343792, 182376, 119474, 61715, 28364, 5942]\n",
    "})\n",
    "emg_nb_journey_hour[\"percent\"] = emg_nb_journey_hour[\"NbJourney\"] * 100 / emg_nb_journey_hour[\"NbJourney\"].sum()\n",
    "emg_nb_journey_hour = emg_nb_journey_hour.set_index(pd.Index(range(0,24)))\n",
    "emg_nb_journey_hour = emg_nb_journey_hour.set_index((emg_nb_journey_hour.reset_index()[\"index\"] + 2) % 24).sort_index()\n",
    "result_dict[\"nb_journey_hour\"][\"emg\"] = emg_nb_journey_hour.to_dict()\n",
    "emg_nb_journey_hour"
   ]
  },
  {
   "cell_type": "code",
   "execution_count": null,
   "metadata": {},
   "outputs": [],
   "source": [
    "result_dict[\"nb_journey_hour\"][\"diff\"] = (nb_journey_hour.percent - emg_nb_journey_hour.percent).to_dict()"
   ]
  },
  {
   "cell_type": "markdown",
   "metadata": {},
   "source": [
    "## Grandes moyennes"
   ]
  },
  {
   "cell_type": "code",
   "execution_count": null,
   "metadata": {},
   "outputs": [],
   "source": [
    "# Nb deplacement moyen par jour par personne, naif\n",
    "total_users = df_gp_journey[\"moover_id\"].nunique()\n",
    "total_journey = df_gp_journey['journey_id'].nunique()\n",
    "total_journey / 14 / total_users"
   ]
  },
  {
   "cell_type": "code",
   "execution_count": null,
   "metadata": {},
   "outputs": [],
   "source": [
    "# Nb deplacement moyen par jour par personne, actifs seulement\n",
    "total_users = df_gp_journey[df_gp_journey['moover_id'].isin(active_users)][\"moover_id\"].nunique()\n",
    "total_journey = df_gp_journey[df_gp_journey['moover_id'].isin(active_users)]['journey_id'].nunique()\n",
    "total_journey / 14 / total_users"
   ]
  },
  {
   "cell_type": "code",
   "execution_count": null,
   "metadata": {},
   "outputs": [],
   "source": [
    "# Nb deplacement moyen par jour par personne, jours de deplacement uniquement\n",
    "value = df_gp_journey.groupby(['moover_id', df_gp_journey[\"journey_start_time\"].dt.day])['journey_id'].nunique().reset_index(drop=True).mean()\n",
    "result_dict[\"nb_daily_journey_per_user\"] = {\"data\": value, \"emg\": 3.82}\n",
    "value"
   ]
  },
  {
   "cell_type": "code",
   "execution_count": null,
   "metadata": {},
   "outputs": [],
   "source": [
    "# Nb deplacement moyen par jour par personne, EMG\n",
    "3.82"
   ]
  },
  {
   "cell_type": "code",
   "execution_count": null,
   "metadata": {},
   "outputs": [],
   "source": [
    "# Durée moyenne de déplacement par personne par jour, jours de deplacement uniquement\n",
    "value = df_gp_journey.groupby(['moover_id', df_gp_journey[\"journey_start_time\"].dt.day])['journey_duration'].sum().reset_index(drop=True).median() / 60\n",
    "result_dict[\"avg_daily_traveling_time\"] = {\"data\": value, \"emg\": 92}\n",
    "value"
   ]
  },
  {
   "cell_type": "code",
   "execution_count": null,
   "metadata": {},
   "outputs": [],
   "source": [
    "# Durée moyenne de déplacement par personne par jour à paris, jours de deplacement uniquement\n",
    "df_gp_journey[df_gp_journey.start_in_paris & df_gp_journey.end_in_paris].groupby(['moover_id', df_gp_journey[\"journey_start_time\"].dt.day])['journey_duration'].sum().reset_index(drop=True).median() / 60"
   ]
  },
  {
   "cell_type": "code",
   "execution_count": null,
   "metadata": {},
   "outputs": [],
   "source": [
    "# Durée moyenne de déplacement par personne par jour, EMG\n",
    "92"
   ]
  },
  {
   "cell_type": "markdown",
   "metadata": {},
   "source": [
    "## Parts modales"
   ]
  },
  {
   "cell_type": "code",
   "execution_count": null,
   "metadata": {},
   "outputs": [],
   "source": [
    "result_dict[\"modal_shares\"] = {\"data\": {}, \"emg\": {}, \"diff\": {}}"
   ]
  },
  {
   "cell_type": "code",
   "execution_count": null,
   "metadata": {},
   "outputs": [],
   "source": [
    "df_filtered = df[df.journey_duration < 18000] # ignore trips longer than 6 hours, they cannot be right...\n",
    "dominant_mode = df_filtered.groupby(['journey_id', 'transportation_mode_tr'])[['duration']].sum().sort_values(by=['journey_id', 'duration'], ascending=[True, False]).reset_index().groupby('journey_id').nth(0).drop(columns=\"duration\").rename(columns={'transportation_mode_tr': 'dominant_transportation_mode_tr'})\n",
    "df_gp_journey_with_dominant = df_gp_journey.merge(dominant_mode, on='journey_id')\n",
    "df_gp_journey_with_dominant"
   ]
  },
  {
   "cell_type": "code",
   "execution_count": null,
   "metadata": {},
   "outputs": [],
   "source": [
    "# Overall\n",
    "overall_modal_share = df_gp_journey_with_dominant.groupby('dominant_transportation_mode_tr')[['journey_id']].nunique() / df_gp_journey_with_dominant[['journey_id']].nunique()\n",
    "overall_modal_share = overall_modal_share.rename(columns={\"journey_id\": \"percent\"})\n",
    "result_dict[\"modal_shares\"][\"data\"][\"overall\"] = overall_modal_share.to_dict()\n",
    "overall_modal_share"
   ]
  },
  {
   "cell_type": "code",
   "execution_count": null,
   "metadata": {},
   "outputs": [],
   "source": [
    "# Paris -> Paris\n",
    "ddf = df_gp_journey_with_dominant[df_gp_journey_with_dominant.start_in_paris & df_gp_journey_with_dominant.end_in_paris]\n",
    "paris_paris_modal_share = ddf.groupby('dominant_transportation_mode_tr')[['journey_id']].nunique() / ddf[['journey_id']].nunique()\n",
    "paris_paris_modal_share = paris_paris_modal_share.rename(columns={\"journey_id\": \"percent\"})\n",
    "result_dict[\"modal_shares\"][\"data\"][\"paris_paris\"] = paris_paris_modal_share.to_dict()\n",
    "paris_paris_modal_share"
   ]
  },
  {
   "cell_type": "code",
   "execution_count": null,
   "metadata": {},
   "outputs": [],
   "source": [
    "# Paris <-> Idf GC\n",
    "ddf = df_gp_journey_with_dominant[\n",
    "    (df_gp_journey_with_dominant.start_in_paris & df_gp_journey_with_dominant.end_in_gc)\n",
    "    |\n",
    "    (df_gp_journey_with_dominant.start_in_gc & df_gp_journey_with_dominant.end_in_paris)\n",
    "]\n",
    "paris_idf_gc_modal_share = ddf.groupby('dominant_transportation_mode_tr')[['journey_id']].nunique() / ddf[['journey_id']].nunique()\n",
    "paris_idf_gc_modal_share = paris_idf_gc_modal_share.rename(columns={\"journey_id\": \"percent\"})\n",
    "result_dict[\"modal_shares\"][\"data\"][\"paris_idf_gc\"] = paris_idf_gc_modal_share.to_dict()\n",
    "paris_idf_gc_modal_share\n"
   ]
  },
  {
   "cell_type": "code",
   "execution_count": null,
   "metadata": {},
   "outputs": [],
   "source": [
    "# Paris <-> Idf PC\n",
    "ddf = df_gp_journey_with_dominant[\n",
    "    (df_gp_journey_with_dominant.start_in_paris & df_gp_journey_with_dominant.end_in_pc)\n",
    "    |\n",
    "    (df_gp_journey_with_dominant.start_in_pc & df_gp_journey_with_dominant.end_in_paris)\n",
    "]\n",
    "paris_idf_pc_modal_share = ddf.groupby('dominant_transportation_mode_tr')[['journey_id']].nunique() / ddf[['journey_id']].nunique()\n",
    "paris_idf_pc_modal_share = paris_idf_pc_modal_share.rename(columns={\"journey_id\": \"percent\"})\n",
    "result_dict[\"modal_shares\"][\"data\"][\"paris_idf_pc\"] = paris_idf_pc_modal_share.to_dict()\n",
    "paris_idf_pc_modal_share\n"
   ]
  },
  {
   "cell_type": "code",
   "execution_count": null,
   "metadata": {},
   "outputs": [],
   "source": [
    "# Idf GC <-> Idf GC\n",
    "ddf = df_gp_journey_with_dominant[df_gp_journey_with_dominant.start_in_gc & df_gp_journey_with_dominant.end_in_gc]\n",
    "idf_idf_gc_modal_share = ddf.groupby('dominant_transportation_mode_tr')[['journey_id']].nunique() / ddf[['journey_id']].nunique()\n",
    "idf_idf_gc_modal_share = idf_idf_gc_modal_share.rename(columns={\"journey_id\": \"percent\"})\n",
    "result_dict[\"modal_shares\"][\"data\"][\"idf_idf_gc\"] = idf_idf_gc_modal_share.to_dict()\n",
    "idf_idf_gc_modal_share"
   ]
  },
  {
   "cell_type": "code",
   "execution_count": null,
   "metadata": {},
   "outputs": [],
   "source": [
    "# Idf PC <-> Idf PC\n",
    "ddf = df_gp_journey_with_dominant[df_gp_journey_with_dominant.start_in_pc & df_gp_journey_with_dominant.end_in_pc]\n",
    "idf_idf_pc_modal_share = ddf.groupby('dominant_transportation_mode_tr')[['journey_id']].nunique() / ddf[['journey_id']].nunique()\n",
    "idf_idf_pc_modal_share = idf_idf_pc_modal_share.rename(columns={\"journey_id\": \"percent\"})\n",
    "result_dict[\"modal_shares\"][\"data\"][\"idf_idf_pc\"] = idf_idf_pc_modal_share.to_dict()\n",
    "idf_idf_pc_modal_share"
   ]
  },
  {
   "cell_type": "code",
   "execution_count": null,
   "metadata": {},
   "outputs": [],
   "source": [
    "emg_paris_paris_modal_share = pd.DataFrame({\n",
    "    'percent': [0.535, 0.112, 0.3, 0.047, 0.006]\n",
    "})\n",
    "emg_paris_paris_modal_share = emg_paris_paris_modal_share.set_index(pd.Index(['FOOT', 'BIKE_TRIP', 'PT', 'PASSENGER_CAR', 'MOTORCYCLE']))\n",
    "result_dict[\"modal_shares\"][\"emg\"][\"paris_paris\"] = emg_paris_paris_modal_share.to_dict()\n",
    "\n",
    "emg_paris_idf_gc_modal_share = pd.DataFrame({\n",
    "    'percent': [0.005, 0.029, 0.773, 0.179, 0.013]\n",
    "})\n",
    "emg_paris_idf_gc_modal_share = emg_paris_idf_gc_modal_share.set_index(pd.Index(['FOOT', 'BIKE_TRIP', 'PT', 'PASSENGER_CAR', 'MOTORCYCLE']))\n",
    "result_dict[\"modal_shares\"][\"emg\"][\"paris_idf_gc\"] = emg_paris_idf_gc_modal_share.to_dict()\n",
    "\n",
    "emg_paris_idf_pc_modal_share = pd.DataFrame({\n",
    "    'percent': [0.055, 0.14, 0.661, 0.125, 0.018]\n",
    "})\n",
    "emg_paris_idf_pc_modal_share = emg_paris_idf_pc_modal_share.set_index(pd.Index(['FOOT', 'BIKE_TRIP', 'PT', 'PASSENGER_CAR', 'MOTORCYCLE']))\n",
    "result_dict[\"modal_shares\"][\"emg\"][\"paris_idf_pc\"] = emg_paris_idf_pc_modal_share.to_dict()\n",
    "\n",
    "emg_idf_idf_pc_modal_share = pd.DataFrame({\n",
    "    'percent': [0.418, 0.098, 0.195, 0.213, 0.016]\n",
    "})\n",
    "emg_idf_idf_pc_modal_share = emg_idf_idf_pc_modal_share.set_index(pd.Index(['FOOT', 'BIKE_TRIP', 'PT', 'PASSENGER_CAR', 'MOTORCYCLE']))\n",
    "result_dict[\"modal_shares\"][\"emg\"][\"idf_idf_pc\"] = emg_idf_idf_pc_modal_share.to_dict()\n",
    "\n",
    "emg_idf_idf_gc_modal_share = pd.DataFrame({\n",
    "    'percent': [0.244, 0.04, 0.092, 0.619, 0.005]\n",
    "})\n",
    "emg_idf_idf_gc_modal_share = emg_idf_idf_gc_modal_share.set_index(pd.Index(['FOOT', 'BIKE_TRIP', 'PT', 'PASSENGER_CAR', 'MOTORCYCLE']))\n",
    "result_dict[\"modal_shares\"][\"emg\"][\"idf_idf_gc\"] = emg_idf_idf_gc_modal_share.to_dict()"
   ]
  },
  {
   "cell_type": "code",
   "execution_count": null,
   "metadata": {},
   "outputs": [],
   "source": [
    "# Diff computations\n",
    "\n",
    "# Aggregate Public transports\n",
    "paris_paris_modal_share.loc[\"PT\"] = paris_paris_modal_share.loc[\"BUS\"] + paris_paris_modal_share.loc[\"RAIL_TRIP\"] + paris_paris_modal_share.loc[\"HIGH_SPEED_TRAIN\"]\n",
    "paris_idf_gc_modal_share.loc[\"PT\"] = paris_idf_gc_modal_share.loc[\"BUS\"] + paris_idf_gc_modal_share.loc[\"RAIL_TRIP\"] + paris_idf_gc_modal_share.loc[\"HIGH_SPEED_TRAIN\"]\n",
    "paris_idf_pc_modal_share.loc[\"PT\"] = paris_idf_pc_modal_share.loc[\"BUS\"] + paris_idf_pc_modal_share.loc[\"RAIL_TRIP\"] + paris_idf_pc_modal_share.loc[\"HIGH_SPEED_TRAIN\"]\n",
    "idf_idf_gc_modal_share.loc[\"PT\"] = idf_idf_gc_modal_share.loc[\"BUS\"] + idf_idf_gc_modal_share.loc[\"RAIL_TRIP\"] + idf_idf_gc_modal_share.loc[\"HIGH_SPEED_TRAIN\"]\n",
    "idf_idf_pc_modal_share.loc[\"PT\"] = idf_idf_pc_modal_share.loc[\"BUS\"] + idf_idf_pc_modal_share.loc[\"RAIL_TRIP\"] + idf_idf_pc_modal_share.loc[\"HIGH_SPEED_TRAIN\"]\n",
    "\n",
    "result_dict[\"modal_shares\"][\"diff\"][\"paris_paris\"] = ((paris_paris_modal_share.percent - emg_paris_paris_modal_share.percent).dropna() * 100).to_dict()\n",
    "result_dict[\"modal_shares\"][\"diff\"][\"paris_idf_gc\"] = ((paris_idf_gc_modal_share.percent - emg_paris_idf_gc_modal_share.percent).dropna() * 100).to_dict()\n",
    "result_dict[\"modal_shares\"][\"diff\"][\"paris_idf_pc\"] = ((paris_idf_pc_modal_share.percent - emg_paris_idf_pc_modal_share.percent).dropna() * 100).to_dict()\n",
    "result_dict[\"modal_shares\"][\"diff\"][\"idf_idf_pc\"] = ((idf_idf_gc_modal_share.percent - emg_idf_idf_pc_modal_share.percent).dropna() * 100).to_dict()\n",
    "result_dict[\"modal_shares\"][\"diff\"][\"idf_idf_gc\"] = ((idf_idf_pc_modal_share.percent - emg_idf_idf_gc_modal_share.percent).dropna() * 100).to_dict()"
   ]
  },
  {
   "cell_type": "markdown",
   "metadata": {},
   "source": [
    "## Durée moyenne des deplacements par mode\n",
    "Dans les deux cas les résultats sont très différents de l'EMG, je ne sais pas trop si c'est JO ou les données qui sont pas précises sur les horaires\n",
    "\n",
    "Aussi on mesure pas la même chose: durée moyenne de s déplacement vs budget temps par mode (ce que je comprends, c'est le temps passé dans le bus par jour .. pour les gens uqi prennent le bus)\n",
    "\n",
    "Le budget temps est un indicateur qui a plus de valeur avec la regularité des déplacements, ce qui n'existe pas trop dans les JO"
   ]
  },
  {
   "cell_type": "code",
   "execution_count": null,
   "metadata": {},
   "outputs": [],
   "source": [
    "result_dict[\"avg_duration_per_mode\"] = {\"data\": {}, \"emg\": {}, \"diff\": {}}"
   ]
  },
  {
   "cell_type": "code",
   "execution_count": null,
   "metadata": {},
   "outputs": [],
   "source": [
    "# Giving the whole journey duration to the dominant mode\n",
    "avg_duration_per_mode_full_journey = ddf.groupby('dominant_transportation_mode_tr')[['journey_duration']].median() / 60\n",
    "result_dict[\"avg_duration_per_mode\"][\"data\"][\"full_journey\"] = avg_duration_per_mode_full_journey.to_dict()\n",
    "avg_duration_per_mode_full_journey"
   ]
  },
  {
   "cell_type": "code",
   "execution_count": null,
   "metadata": {},
   "outputs": [],
   "source": [
    "# Keeping the duration per mode (but still summing by journeys and mode, because often the same mode is split into different trips)\n",
    "avg_duration_per_mode_mode_only = df.groupby(['journey_id', 'transportation_mode_tr'])[['duration']].sum().reset_index().groupby('transportation_mode_tr')[['duration']].median() / 60\n",
    "result_dict[\"avg_duration_per_mode\"][\"data\"][\"mode_only\"] = avg_duration_per_mode_mode_only.to_dict()\n",
    "avg_duration_per_mode_mode_only"
   ]
  },
  {
   "cell_type": "code",
   "execution_count": null,
   "metadata": {},
   "outputs": [],
   "source": [
    "emg_avg_duration_per_mode = pd.DataFrame({\n",
    "    'duration': [12, 25, 31, 20, 26, 57, 32, 11]\n",
    "})\n",
    "emg_avg_duration_per_mode = emg_avg_duration_per_mode.set_index(pd.Index(['FOOT', 'BIKE_TRIP', 'BUS', 'PASSENGER_CAR', 'MOTORCYCLE', 'HIGH_SPEED_TRAIN', 'RAIL_TRIP', 'SCOOTER']))\n",
    "result_dict[\"avg_duration_per_mode\"][\"emg\"] = emg_avg_duration_per_mode.to_dict()"
   ]
  },
  {
   "cell_type": "code",
   "execution_count": null,
   "metadata": {},
   "outputs": [],
   "source": [
    "result_dict[\"avg_duration_per_mode\"][\"diff\"] = (avg_duration_per_mode_mode_only - emg_avg_duration_per_mode).dropna().to_dict()"
   ]
  },
  {
   "cell_type": "markdown",
   "metadata": {},
   "source": [
    "## Multimodalité des trajets avec du train\n",
    "La marche est ignorée dans le comptage des modes multimodaux\n",
    "\n",
    "Difficilement comparable avec l'EMD, car on différencie difficilement entre Metro et Train\n",
    "\n",
    "Plus grave, les stats de bus me semble vraiment faibles, dans l'EMG, on a 10 fois plus de trajets en BUS qu'en voiture pour ces trajets avec une composante train. Ici on a 20 fois plus de voiture que de bus !!"
   ]
  },
  {
   "cell_type": "code",
   "execution_count": null,
   "metadata": {},
   "outputs": [],
   "source": [
    "result_dict[\"multimodal_train_trips\"] = {\"data\": {}, \"emg\": {}, \"diff\": {}}"
   ]
  },
  {
   "cell_type": "code",
   "execution_count": null,
   "metadata": {},
   "outputs": [],
   "source": [
    "journeys_with_train = df[(df[\"transportation_mode_tr\"] == \"RAIL_TRIP\") | (df[\"transportation_mode_tr\"] == \"HIGH_SPEED_TRAIN\")][\"journey_id\"]\n",
    "res = df[df.journey_id.isin(journeys_with_train) & (df.transportation_mode_tr != \"FOOT\")].groupby('journey_id').agg(NbUniqueModes=('transportation_mode_tr', 'nunique')).reset_index().groupby('NbUniqueModes').nunique()\n",
    "res['percent'] = res['journey_id'] / df[df.journey_id.isin(journeys_with_train) & (df.transportation_mode_tr != \"FOOT\")]['journey_id'].nunique()\n",
    "res = res.rename(columns={\"journey_id\": \"nb_journey\"})\n",
    "result_dict[\"multimodal_train_trips\"][\"data\"][\"nb_unique_modes\"] = res.to_dict()\n",
    "res\n"
   ]
  },
  {
   "cell_type": "code",
   "execution_count": null,
   "metadata": {},
   "outputs": [],
   "source": [
    "ddf = df[df.journey_id.isin(journeys_with_train) & (df.transportation_mode_tr != \"FOOT\") & (df.transportation_mode_tr != \"RAIL_TRIP\") & (df.transportation_mode_tr != \"HIGH_SPEED_TRAIN\")]\n",
    "ddfg = ddf.groupby('transportation_mode_tr')[['journey_id']].nunique()\n",
    "ddfg[\"percent\"] = ddfg * 100 / ddf[['journey_id']].nunique()\n",
    "ddfg = ddfg.rename(columns={\"journey_id\": \"nb_journey\"})\n",
    "result_dict[\"multimodal_train_trips\"][\"data\"][\"nb_journey_per_modes\"] = ddfg.to_dict()\n",
    "ddfg"
   ]
  },
  {
   "cell_type": "code",
   "execution_count": null,
   "metadata": {},
   "outputs": [],
   "source": [
    "emg_multimodal_train_trips_nb_unique_modes_rer = pd.DataFrame({\n",
    "    'percent': [0.281, 0.529, 0.187, 0.003]\n",
    "})\n",
    "emg_multimodal_train_trips_nb_unique_modes_rer = emg_multimodal_train_trips_nb_unique_modes_rer.set_index(pd.Index([\"1\", \"2\", \"3\", \"4+\"]))\n",
    "result_dict[\"multimodal_train_trips\"][\"emg\"][\"nb_unique_modes_rer\"] = emg_multimodal_train_trips_nb_unique_modes_rer.to_dict()\n",
    "\n",
    "emg_multimodal_train_trips_nb_journey_per_modes_rer = pd.DataFrame({\n",
    "    'percent': [x*100 for x in [0.038, 0.27, 0.025, 0.42, 0.009, 0.78]]\n",
    "})\n",
    "emg_multimodal_train_trips_nb_journey_per_modes_rer = emg_multimodal_train_trips_nb_journey_per_modes_rer.set_index(pd.Index(['BIKE_TRIP', 'BUS', 'PASSENGER_CAR', 'RAIL_TRIP', 'SCOOTER', 'TRAM']))\n",
    "result_dict[\"multimodal_train_trips\"][\"emg\"][\"nb_journey_per_modes_rer\"] = emg_multimodal_train_trips_nb_journey_per_modes_rer.to_dict()\n",
    "\n",
    "emg_multimodal_train_trips_nb_unique_modes_metro = pd.DataFrame({\n",
    "    'percent': [0.535, 0.332, 0.131, 0.002]\n",
    "})\n",
    "emg_multimodal_train_trips_nb_unique_modes_metro = emg_multimodal_train_trips_nb_unique_modes_metro.set_index(pd.Index([\"1\", \"2\", \"3\", \"4+\"]))\n",
    "result_dict[\"multimodal_train_trips\"][\"emg\"][\"nb_unique_modes_metro\"] = emg_multimodal_train_trips_nb_unique_modes_metro.to_dict()\n",
    "\n",
    "emg_multimodal_train_trips_nb_journey_per_modes_metro = pd.DataFrame({\n",
    "    'percent': [x*100 for x in [0.006, 0.135, 0.009, 0.355, 0.001, 0.065]]\n",
    "})\n",
    "emg_multimodal_train_trips_nb_journey_per_modes_metro = emg_multimodal_train_trips_nb_journey_per_modes_metro.set_index(pd.Index(['BIKE_TRIP', 'BUS', 'PASSENGER_CAR', 'HIGH_SPEED_TRAIN', 'SCOOTER', 'TRAM']))\n",
    "result_dict[\"multimodal_train_trips\"][\"emg\"][\"nb_journey_per_modes_metro\"] = emg_multimodal_train_trips_nb_journey_per_modes_metro.to_dict()"
   ]
  },
  {
   "cell_type": "code",
   "execution_count": null,
   "metadata": {},
   "outputs": [],
   "source": [
    "result_dict[\"multimodal_train_trips\"][\"diff\"] = {\n",
    "    \"nb_unique_modes_rer\": ((res[res.index < 5].percent -  emg_multimodal_train_trips_nb_unique_modes_rer.set_index(pd.Index([1,2,3,4])).percent) *100).to_dict(),\n",
    "    \"nb_unique_modes_metro\": ((res[res.index < 5].percent -  emg_multimodal_train_trips_nb_unique_modes_metro.set_index(pd.Index([1,2,3,4])).percent)*100).to_dict(),\n",
    "    \"nb_journey_per_modes_rer\": (ddfg.percent -  emg_multimodal_train_trips_nb_journey_per_modes_rer.percent).dropna().to_dict(),\n",
    "    \"nb_journey_per_modes_metro\": (ddfg.percent -  emg_multimodal_train_trips_nb_journey_per_modes_metro.percent).dropna().to_dict()\n",
    "}"
   ]
  },
  {
   "cell_type": "markdown",
   "metadata": {},
   "source": [
    "## Taux d'occupation des véhicules\n",
    "Biais covoiturage ici, 1.73 est énorme comparé aux 1.11 normaux"
   ]
  },
  {
   "cell_type": "code",
   "execution_count": null,
   "metadata": {},
   "outputs": [],
   "source": [
    "val = df[df['transportation_mode_tr'] == \"PASSENGER_CAR\"].passenger_count.mean()\n",
    "result_dict[\"occupancy\"] = {\"data\": val, \"emg\": 1.11}\n",
    "val"
   ]
  },
  {
   "cell_type": "markdown",
   "metadata": {},
   "source": [
    "## Save to file"
   ]
  },
  {
   "cell_type": "code",
   "execution_count": null,
   "metadata": {},
   "outputs": [],
   "source": [
    "with open(OUTPUT_FILE, 'w') as f:\n",
    "    f.write(json.dumps(result_dict, indent=2))"
   ]
  },
  {
   "cell_type": "code",
   "execution_count": null,
   "metadata": {},
   "outputs": [],
   "source": []
  },
  {
   "cell_type": "code",
   "execution_count": null,
   "metadata": {},
   "outputs": [],
   "source": []
  }
 ],
 "metadata": {
  "kernelspec": {
   "display_name": "emission",
   "language": "python",
   "name": "python3"
  },
  "language_info": {
   "codemirror_mode": {
    "name": "ipython",
    "version": 3
   },
   "file_extension": ".py",
   "mimetype": "text/x-python",
   "name": "python",
   "nbconvert_exporter": "python",
   "pygments_lexer": "ipython3",
   "version": "3.9.16"
  }
 },
 "nbformat": 4,
 "nbformat_minor": 2
}
