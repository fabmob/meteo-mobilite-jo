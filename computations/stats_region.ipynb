{
 "cells": [
  {
   "cell_type": "code",
   "execution_count": 1,
   "metadata": {},
   "outputs": [],
   "source": [
    "import pandas as pd\n",
    "import geopandas as gpd\n",
    "import h3pandas\n",
    "from shapely.geometry import Point, Polygon, LineString\n",
    "import json\n",
    "import folium\n",
    "import os\n",
    "import numpy as np\n",
    "from mappymatch.constructs.geofence import Geofence\n",
    "from shapely import prepare"
   ]
  },
  {
   "cell_type": "code",
   "execution_count": 2,
   "metadata": {},
   "outputs": [],
   "source": [
    "# import osmnx as ox\n",
    "\n",
    "# # Récupérer le périmètre de la ville de Lyon\n",
    "# lyon = ox.geocode_to_gdf(\"Lyon, France\")\n",
    "# lyon.to_file(\"lyon.geojson\", driver=\"GeoJSON\")\n",
    "\n",
    "# # Récupérer le périmètre de la métropole du Grand Lyon\n",
    "# grand_lyon = ox.geocode_to_gdf(\"Métropole de Lyon, France\")\n",
    "# grand_lyon.to_file(\"grand_lyon.geojson\", driver=\"GeoJSON\")"
   ]
  },
  {
   "cell_type": "code",
   "execution_count": 106,
   "metadata": {},
   "outputs": [],
   "source": [
    "# configuration\n",
    "OUTPUT_FILE ='../static/data/grand_lyon.json'\n",
    "DEPARTURES_OUTPUT_FILE = '../static/data/lyon/departures.geojson'\n",
    "OUTPUT_FOLDER=\"../static/data/lyon\"\n",
    "REGION_CODE = 84\n",
    "CSV_SOURCE_FOLDER = \"sources\""
   ]
  },
  {
   "cell_type": "code",
   "execution_count": 4,
   "metadata": {},
   "outputs": [],
   "source": [
    "result_dict = {}"
   ]
  },
  {
   "cell_type": "code",
   "execution_count": 5,
   "metadata": {},
   "outputs": [],
   "source": [
    "geofence_city = Geofence.from_geojson(\"sources/lyon.geojson\")\n",
    "geofence_metro_area = Geofence.from_geojson(\"sources/grand_lyon.geojson\")"
   ]
  },
  {
   "cell_type": "code",
   "execution_count": null,
   "metadata": {},
   "outputs": [],
   "source": [
    "# Load csv data, only for region\n",
    "li = []\n",
    "li.append(pd.read_csv(CSV_SOURCE_FOLDER + \"/data_france_2024-07-24.csv\", engine=\"pyarrow\")[lambda x: x['code'] == REGION_CODE])\n",
    "li.append(pd.read_csv(CSV_SOURCE_FOLDER + \"/data_france_2024-07-25.csv\", engine=\"pyarrow\")[lambda x: x['code'] == REGION_CODE])\n",
    "li.append(pd.read_csv(CSV_SOURCE_FOLDER + \"/data_france_2024-07-26.csv\", engine=\"pyarrow\")[lambda x: x['code'] == REGION_CODE])\n",
    "li.append(pd.read_csv(CSV_SOURCE_FOLDER + \"/data_france_2024-07-27.csv\", engine=\"pyarrow\")[lambda x: x['code'] == REGION_CODE])\n",
    "li.append(pd.read_csv(CSV_SOURCE_FOLDER + \"/data_france_2024-07-28.csv\", engine=\"pyarrow\")[lambda x: x['code'] == REGION_CODE])\n",
    "li.append(pd.read_csv(CSV_SOURCE_FOLDER + \"/data_france_2024-07-29.csv\", engine=\"pyarrow\")[lambda x: x['code'] == REGION_CODE])\n",
    "li.append(pd.read_csv(CSV_SOURCE_FOLDER + \"/data_france_2024-07-30.csv\", engine=\"pyarrow\")[lambda x: x['code'] == REGION_CODE])\n",
    "li.append(pd.read_csv(CSV_SOURCE_FOLDER + \"/data_france_2024-07-31.csv\", engine=\"pyarrow\")[lambda x: x['code'] == REGION_CODE])\n",
    "li.append(pd.read_csv(CSV_SOURCE_FOLDER + \"/data_france_2024-08-01.csv\", engine=\"pyarrow\")[lambda x: x['code'] == REGION_CODE])\n",
    "li.append(pd.read_csv(CSV_SOURCE_FOLDER + \"/data_france_2024-08-02.csv\", engine=\"pyarrow\")[lambda x: x['code'] == REGION_CODE])\n",
    "li.append(pd.read_csv(CSV_SOURCE_FOLDER + \"/data_france_2024-08-03.csv\", engine=\"pyarrow\")[lambda x: x['code'] == REGION_CODE])\n",
    "li.append(pd.read_csv(CSV_SOURCE_FOLDER + \"/data_france_2024-08-04.csv\", engine=\"pyarrow\")[lambda x: x['code'] == REGION_CODE])\n",
    "li.append(pd.read_csv(CSV_SOURCE_FOLDER + \"/data_france_2024-08-05.csv\", engine=\"pyarrow\")[lambda x: x['code'] == REGION_CODE])\n",
    "li.append(pd.read_csv(CSV_SOURCE_FOLDER + \"/data_france_2024-08-06.csv\", engine=\"pyarrow\")[lambda x: x['code'] == REGION_CODE])\n",
    "df_src = pd.concat(li, axis=0, ignore_index=True)\n",
    "df_src = df_src.drop(columns=[\"geometry\", \"index_right\", \"nom\", \"code\"])\n",
    "df_src"
   ]
  },
  {
   "cell_type": "code",
   "execution_count": 7,
   "metadata": {},
   "outputs": [],
   "source": [
    "tr = {\n",
    "-10 : \"NOT_DEFINED\",\n",
    "0 : \"UNKNOWN\",\n",
    "1 : \"PASSENGER_CAR\",\n",
    "2 : \"MOTORCYCLE\",\n",
    "3 : \"HEAVY_DUTY_VEHICLE\",\n",
    "4 : \"BUS\",\n",
    "5 : \"COACH\",\n",
    "6 : \"RAIL_TRIP\",\n",
    "7 : \"BOAT_TRIP\",\n",
    "8 : \"BIKE_TRIP\",\n",
    "9 : \"PLANE\",\n",
    "10 : \"SKI\",\n",
    "11 : \"FOOT\",\n",
    "12 : \"IDLE\",\n",
    "13 : \"OTHER\",\n",
    "101 : \"SCOOTER\",\n",
    "102 : \"HIGH_SPEED_TRAIN\"\n",
    "}\n",
    "tre = {\n",
    "    -10: \"\",\n",
    "    1: \"Essence\",\n",
    "    2: \"Diesel\",\n",
    "    3: \"Electrique\",\n",
    "    4: \"Essence Hybride\",\n",
    "    5: \"Diesiel Hybride\"\n",
    "}\n",
    "df_src['transportation_mode_tr'] = df_src['transportation_mode'].apply(lambda x: tr[x])\n",
    "df_src['engine_type_tr'] = df_src['engine_type'].apply(lambda x: tre[x]) # Unused"
   ]
  },
  {
   "cell_type": "code",
   "execution_count": 8,
   "metadata": {},
   "outputs": [],
   "source": [
    "# Convert columns to datetime\n",
    "df_src['start_time'] = pd.to_datetime(df_src['start_time'], format='mixed')\n",
    "df_src['end_time'] = pd.to_datetime(df_src['end_time'], format='mixed')\n",
    "\n",
    "# Calculate duration in seconds\n",
    "df_src['duration'] = (df_src['end_time'] - df_src['start_time']).dt.total_seconds()"
   ]
  },
  {
   "cell_type": "code",
   "execution_count": null,
   "metadata": {},
   "outputs": [],
   "source": [
    "journey_df = df_src.groupby(\"journey_id\").agg(\n",
    "    journey_starting_longitude=('starting_longitude', 'first'),\n",
    "    journey_starting_latitude=('starting_latitude', 'first'),\n",
    "    journey_ending_longitude=('ending_longitude', 'last'),\n",
    "    journey_ending_latitude=('ending_latitude', 'last'),\n",
    "    journey_start_time=('start_time', 'first'),\n",
    "    journey_end_time=('end_time', 'last'),\n",
    "    journey_duration=('duration', 'sum'),\n",
    "    journey_distance=('distance_km', 'sum')\n",
    ").reset_index()\n",
    "df_src = pd.merge(df_src, journey_df, on=\"journey_id\")\n",
    "df_src"
   ]
  },
  {
   "cell_type": "code",
   "execution_count": 10,
   "metadata": {},
   "outputs": [],
   "source": [
    "gdf = gpd.GeoDataFrame(df_src, geometry=gpd.points_from_xy(df_src.journey_starting_longitude, df_src.journey_starting_latitude), crs=\"EPSG:4326\")\n",
    "gdf['end_geometry'] = gpd.points_from_xy(gdf.journey_ending_longitude, gdf.journey_ending_latitude)"
   ]
  },
  {
   "cell_type": "code",
   "execution_count": 11,
   "metadata": {},
   "outputs": [],
   "source": [
    "prepare(geofence_city.geometry)\n",
    "prepare(geofence_metro_area.geometry)\n",
    "gdf[\"start_in_city\"] = geofence_city.geometry.contains(gdf.geometry)\n",
    "gdf[\"end_in_city\"] = geofence_city.geometry.contains(gdf.end_geometry)\n",
    "gdf[\"start_in_metro_area\"] = geofence_metro_area.geometry.contains(gdf.geometry)\n",
    "gdf[\"end_in_metro_area\"] = geofence_metro_area.geometry.contains(gdf.end_geometry)"
   ]
  },
  {
   "cell_type": "code",
   "execution_count": 12,
   "metadata": {},
   "outputs": [],
   "source": [
    "df = gdf[gdf.start_in_metro_area & gdf.end_in_metro_area]"
   ]
  },
  {
   "cell_type": "code",
   "execution_count": 13,
   "metadata": {},
   "outputs": [],
   "source": [
    "df_gp_journey = df.groupby('journey_id').nth(0)"
   ]
  },
  {
   "cell_type": "markdown",
   "metadata": {},
   "source": [
    "## Nombre de déplacements par jour de la semaine"
   ]
  },
  {
   "cell_type": "code",
   "execution_count": 14,
   "metadata": {},
   "outputs": [],
   "source": [
    "result_dict[\"nb_journey_days\"] = {\"data\": {}}"
   ]
  },
  {
   "cell_type": "code",
   "execution_count": null,
   "metadata": {},
   "outputs": [],
   "source": [
    "nb_journey_days = df_gp_journey.groupby(df_gp_journey[\"journey_start_time\"].dt.dayofweek).agg(NbJourney=('journey_id', 'count'))\n",
    "total = nb_journey_days.reset_index()[\"NbJourney\"].sum()\n",
    "nb_journey_days[\"percent\"] = nb_journey_days.NbJourney / total\n",
    "nb_journey_days = nb_journey_days.set_index(pd.Index(['Lundi', 'Mardi', 'Mercredi', 'Jeudi', 'Vendredi', 'Samedi', 'Dimanche']))\n",
    "result_dict[\"nb_journey_days\"][\"data\"] = nb_journey_days.to_dict()\n",
    "nb_journey_days"
   ]
  },
  {
   "cell_type": "markdown",
   "metadata": {},
   "source": [
    "## % des individus ne se déplaçant pas par jour de la semaine\n",
    "Pour éviter les faux positifs, avec des gens qui quittent ou arrive en idf pendant la période, je ne considère que les utilsiateurs avec au moins 7 jours de déplacement au cours des 2 semaines"
   ]
  },
  {
   "cell_type": "code",
   "execution_count": 16,
   "metadata": {},
   "outputs": [],
   "source": [
    "result_dict[\"users_not_moving\"] = {\"data\": {}}"
   ]
  },
  {
   "cell_type": "code",
   "execution_count": null,
   "metadata": {},
   "outputs": [],
   "source": [
    "df_gp_journey['day'] = df_gp_journey[\"journey_start_time\"].dt.day\n",
    "distinctDay = df_gp_journey.groupby('moover_id').agg(DistinctDay=('day', 'nunique'))\n",
    "active_users = distinctDay[distinctDay.DistinctDay > 6].index\n",
    "df_gp_journey.drop(columns='day')"
   ]
  },
  {
   "cell_type": "code",
   "execution_count": null,
   "metadata": {},
   "outputs": [],
   "source": [
    "df_gp_journey.moover_id.nunique()"
   ]
  },
  {
   "cell_type": "code",
   "execution_count": null,
   "metadata": {},
   "outputs": [],
   "source": [
    "nb_users_days = df_gp_journey[df_gp_journey['moover_id'].isin(active_users)].groupby(df_gp_journey[\"journey_start_time\"].dt.dayofweek).agg(NbUsers=('moover_id', 'nunique'))\n",
    "total = df_gp_journey[df_gp_journey['moover_id'].isin(active_users)][\"moover_id\"].nunique()\n",
    "nb_users_days[\"percent\"] = nb_users_days.NbUsers * 100 / total\n",
    "nb_users_days[\"percent_users_not_moving\"] = 100 - nb_users_days[\"percent\"]\n",
    "nb_users_days = nb_users_days.set_index(pd.Index(['Lundi', 'Mardi', 'Mercredi', 'Jeudi', 'Vendredi', 'Samedi', 'Dimanche']))\n",
    "result_dict[\"users_not_moving\"][\"data\"] = nb_users_days.to_dict()\n",
    "nb_users_days"
   ]
  },
  {
   "cell_type": "markdown",
   "metadata": {},
   "source": [
    "## Nb déplacement par heure de la journée"
   ]
  },
  {
   "cell_type": "code",
   "execution_count": 19,
   "metadata": {},
   "outputs": [],
   "source": [
    "result_dict[\"nb_journey_hour\"] = {\"data\": {}}"
   ]
  },
  {
   "cell_type": "code",
   "execution_count": null,
   "metadata": {},
   "outputs": [],
   "source": [
    "nb_journey_hour = df_gp_journey.groupby(df_gp_journey[\"journey_start_time\"].dt.hour).agg(NbJourney=('journey_id', 'count'))\n",
    "total = nb_journey_hour.reset_index()[\"NbJourney\"].sum()\n",
    "nb_journey_hour[\"percent\"] = nb_journey_hour.NbJourney * 100 / total\n",
    "nb_journey_hour = nb_journey_hour.set_index((nb_journey_hour.reset_index()[\"journey_start_time\"] + 2) % 24).sort_index()\n",
    "result_dict[\"nb_journey_hour\"][\"data\"] = nb_journey_hour.to_dict()\n",
    "nb_journey_hour"
   ]
  },
  {
   "cell_type": "code",
   "execution_count": null,
   "metadata": {},
   "outputs": [],
   "source": [
    "nb_journey_hour['NbJourney'].plot()"
   ]
  },
  {
   "cell_type": "markdown",
   "metadata": {},
   "source": [
    "## Grandes moyennes"
   ]
  },
  {
   "cell_type": "code",
   "execution_count": null,
   "metadata": {},
   "outputs": [],
   "source": [
    "# Nb deplacement moyen par jour par personne, naif\n",
    "total_users = df_gp_journey[\"moover_id\"].nunique()\n",
    "total_journey = df_gp_journey['journey_id'].nunique()\n",
    "total_journey / 14 / total_users"
   ]
  },
  {
   "cell_type": "code",
   "execution_count": null,
   "metadata": {},
   "outputs": [],
   "source": [
    "# Nb deplacement moyen par jour par personne, actifs seulement\n",
    "total_users = df_gp_journey[df_gp_journey['moover_id'].isin(active_users)][\"moover_id\"].nunique()\n",
    "total_journey = df_gp_journey[df_gp_journey['moover_id'].isin(active_users)]['journey_id'].nunique()\n",
    "total_journey / 14 / total_users"
   ]
  },
  {
   "cell_type": "code",
   "execution_count": null,
   "metadata": {},
   "outputs": [],
   "source": [
    "# Nb deplacement moyen par jour par personne, jours de deplacement uniquement\n",
    "value = df_gp_journey.groupby(['moover_id', df_gp_journey[\"journey_start_time\"].dt.day])['journey_id'].nunique().reset_index(drop=True).mean()\n",
    "result_dict[\"nb_daily_journey_per_user\"] = {\"data\": value}\n",
    "value"
   ]
  },
  {
   "cell_type": "code",
   "execution_count": null,
   "metadata": {},
   "outputs": [],
   "source": [
    "# Durée moyenne de déplacement par personne par jour, jours de deplacement uniquement\n",
    "value = df_gp_journey.groupby(['moover_id', df_gp_journey[\"journey_start_time\"].dt.day])['journey_duration'].sum().reset_index(drop=True).median() / 60\n",
    "result_dict[\"avg_daily_traveling_time\"] = {\"data\": value}\n",
    "value"
   ]
  },
  {
   "cell_type": "code",
   "execution_count": null,
   "metadata": {},
   "outputs": [],
   "source": [
    "# Durée moyenne de déplacement par personne par jour à paris, jours de deplacement uniquement\n",
    "df_gp_journey[df_gp_journey.start_in_city & df_gp_journey.end_in_city].groupby(['moover_id', df_gp_journey[\"journey_start_time\"].dt.day])['journey_duration'].sum().reset_index(drop=True).median() / 60"
   ]
  },
  {
   "cell_type": "markdown",
   "metadata": {},
   "source": [
    "## Parts modales"
   ]
  },
  {
   "cell_type": "code",
   "execution_count": 28,
   "metadata": {},
   "outputs": [],
   "source": [
    "result_dict[\"modal_shares\"] = {\"data\": {}}"
   ]
  },
  {
   "cell_type": "code",
   "execution_count": null,
   "metadata": {},
   "outputs": [],
   "source": [
    "df_filtered = df[df.journey_duration < 18000] # ignore trips longer than 6 hours, they cannot be right...\n",
    "dominant_mode = df_filtered.groupby(['journey_id', 'transportation_mode_tr'])[['duration']].sum().sort_values(by=['journey_id', 'duration'], ascending=[True, False]).reset_index().groupby('journey_id').nth(0).drop(columns=\"duration\").rename(columns={'transportation_mode_tr': 'dominant_transportation_mode_tr'})\n",
    "df_gp_journey_with_dominant = df_gp_journey.merge(dominant_mode, on='journey_id')\n",
    "df_gp_journey_with_dominant"
   ]
  },
  {
   "cell_type": "code",
   "execution_count": null,
   "metadata": {},
   "outputs": [],
   "source": [
    "# Overall\n",
    "overall_modal_share = df_gp_journey_with_dominant.groupby('dominant_transportation_mode_tr')[['journey_id']].nunique() / df_gp_journey_with_dominant[['journey_id']].nunique()\n",
    "overall_modal_share = overall_modal_share.rename(columns={\"journey_id\": \"percent\"})\n",
    "result_dict[\"modal_shares\"][\"data\"][\"overall\"] = overall_modal_share.to_dict()\n",
    "overall_modal_share"
   ]
  },
  {
   "cell_type": "code",
   "execution_count": null,
   "metadata": {},
   "outputs": [],
   "source": [
    "# City -> City\n",
    "ddf = df_gp_journey_with_dominant[df_gp_journey_with_dominant.start_in_city & df_gp_journey_with_dominant.end_in_city]\n",
    "city_city_modal_share = ddf.groupby('dominant_transportation_mode_tr')[['journey_id']].nunique() / ddf[['journey_id']].nunique()\n",
    "city_city_modal_share = city_city_modal_share.rename(columns={\"journey_id\": \"percent\"})\n",
    "result_dict[\"modal_shares\"][\"data\"][\"city_city\"] = city_city_modal_share.to_dict()\n",
    "city_city_modal_share"
   ]
  },
  {
   "cell_type": "code",
   "execution_count": null,
   "metadata": {},
   "outputs": [],
   "source": [
    "# City <-> Metro Area\n",
    "ddf = df_gp_journey_with_dominant[\n",
    "    (df_gp_journey_with_dominant.start_in_city & df_gp_journey_with_dominant.end_in_metro_area)\n",
    "    |\n",
    "    (df_gp_journey_with_dominant.start_in_metro_area & df_gp_journey_with_dominant.end_in_city)\n",
    "]\n",
    "city_metro_area_modal_share = ddf.groupby('dominant_transportation_mode_tr')[['journey_id']].nunique() / ddf[['journey_id']].nunique()\n",
    "city_metro_area_modal_share = city_metro_area_modal_share.rename(columns={\"journey_id\": \"percent\"})\n",
    "result_dict[\"modal_shares\"][\"data\"][\"city_metro_area\"] = city_metro_area_modal_share.to_dict()\n",
    "city_metro_area_modal_share\n"
   ]
  },
  {
   "cell_type": "code",
   "execution_count": null,
   "metadata": {},
   "outputs": [],
   "source": [
    "# Metro Area <-> Metro Area\n",
    "ddf = df_gp_journey_with_dominant[df_gp_journey_with_dominant.start_in_metro_area & df_gp_journey_with_dominant.end_in_metro_area]\n",
    "metro_area_metro_area_modal_share = ddf.groupby('dominant_transportation_mode_tr')[['journey_id']].nunique() / ddf[['journey_id']].nunique()\n",
    "metro_area_metro_area_modal_share = metro_area_metro_area_modal_share.rename(columns={\"journey_id\": \"percent\"})\n",
    "result_dict[\"modal_shares\"][\"data\"][\"metro_area_metro_area\"] = metro_area_metro_area_modal_share.to_dict()\n",
    "metro_area_metro_area_modal_share"
   ]
  },
  {
   "cell_type": "markdown",
   "metadata": {},
   "source": [
    "## Durée moyenne des deplacements par mode\n",
    "Dans les deux cas les résultats sont très différents de l'EMG, je ne sais pas trop si c'est JO ou les données qui sont pas précises sur les horaires\n",
    "\n",
    "Aussi on mesure pas la même chose: durée moyenne de s déplacement vs budget temps par mode (ce que je comprends, c'est le temps passé dans le bus par jour .. pour les gens uqi prennent le bus)\n",
    "\n",
    "Le budget temps est un indicateur qui a plus de valeur avec la regularité des déplacements, ce qui n'existe pas trop dans les JO"
   ]
  },
  {
   "cell_type": "code",
   "execution_count": 34,
   "metadata": {},
   "outputs": [],
   "source": [
    "result_dict[\"avg_duration_per_mode\"] = {\"data\": {}}"
   ]
  },
  {
   "cell_type": "code",
   "execution_count": null,
   "metadata": {},
   "outputs": [],
   "source": [
    "# Giving the whole journey duration to the dominant mode\n",
    "avg_duration_per_mode_full_journey = ddf.groupby('dominant_transportation_mode_tr')[['journey_duration']].median() / 60\n",
    "result_dict[\"avg_duration_per_mode\"][\"data\"][\"full_journey\"] = avg_duration_per_mode_full_journey.to_dict()\n",
    "avg_duration_per_mode_full_journey"
   ]
  },
  {
   "cell_type": "code",
   "execution_count": null,
   "metadata": {},
   "outputs": [],
   "source": [
    "# Keeping the duration per mode (but still summing by journeys and mode, because often the same mode is split into different trips)\n",
    "avg_duration_per_mode_mode_only = df.groupby(['journey_id', 'transportation_mode_tr'])[['duration']].sum().reset_index().groupby('transportation_mode_tr')[['duration']].median() / 60\n",
    "result_dict[\"avg_duration_per_mode\"][\"data\"][\"mode_only\"] = avg_duration_per_mode_mode_only.to_dict()\n",
    "avg_duration_per_mode_mode_only"
   ]
  },
  {
   "cell_type": "markdown",
   "metadata": {},
   "source": [
    "## Multimodalité des trajets avec du train\n",
    "La marche est ignorée dans le comptage des modes multimodaux"
   ]
  },
  {
   "cell_type": "code",
   "execution_count": 37,
   "metadata": {},
   "outputs": [],
   "source": [
    "result_dict[\"multimodal_train_trips\"] = {\"data\": {}}"
   ]
  },
  {
   "cell_type": "code",
   "execution_count": null,
   "metadata": {},
   "outputs": [],
   "source": [
    "journeys_with_train = df[(df[\"transportation_mode_tr\"] == \"RAIL_TRIP\") | (df[\"transportation_mode_tr\"] == \"HIGH_SPEED_TRAIN\")][\"journey_id\"]\n",
    "res = df[df.journey_id.isin(journeys_with_train) & (df.transportation_mode_tr != \"FOOT\")].groupby('journey_id').agg(NbUniqueModes=('transportation_mode_tr', 'nunique')).reset_index().groupby('NbUniqueModes').nunique()\n",
    "res['percent'] = res['journey_id'] / df[df.journey_id.isin(journeys_with_train) & (df.transportation_mode_tr != \"FOOT\")]['journey_id'].nunique()\n",
    "res = res.rename(columns={\"journey_id\": \"nb_journey\"})\n",
    "result_dict[\"multimodal_train_trips\"][\"data\"][\"nb_unique_modes\"] = res.to_dict()\n",
    "res\n"
   ]
  },
  {
   "cell_type": "code",
   "execution_count": null,
   "metadata": {},
   "outputs": [],
   "source": [
    "ddf = df[df.journey_id.isin(journeys_with_train) & (df.transportation_mode_tr != \"FOOT\") & (df.transportation_mode_tr != \"RAIL_TRIP\") & (df.transportation_mode_tr != \"HIGH_SPEED_TRAIN\")]\n",
    "ddfg = ddf.groupby('transportation_mode_tr')[['journey_id']].nunique()\n",
    "ddfg[\"percent\"] = ddfg * 100 / ddf[['journey_id']].nunique()\n",
    "ddfg = ddfg.rename(columns={\"journey_id\": \"nb_journey\"})\n",
    "result_dict[\"multimodal_train_trips\"][\"data\"][\"nb_journey_per_modes\"] = ddfg.to_dict()\n",
    "ddfg"
   ]
  },
  {
   "cell_type": "markdown",
   "metadata": {},
   "source": [
    "## Taux d'occupation des véhicules"
   ]
  },
  {
   "cell_type": "code",
   "execution_count": null,
   "metadata": {},
   "outputs": [],
   "source": [
    "val = df[df['transportation_mode_tr'] == \"PASSENGER_CAR\"].passenger_count.mean()\n",
    "result_dict[\"occupancy\"] = {\"data\": val}\n",
    "val"
   ]
  },
  {
   "cell_type": "markdown",
   "metadata": {},
   "source": [
    "## Save to file"
   ]
  },
  {
   "cell_type": "code",
   "execution_count": 41,
   "metadata": {},
   "outputs": [],
   "source": [
    "with open(OUTPUT_FILE, 'w') as f:\n",
    "    f.write(json.dumps(result_dict, indent=2))"
   ]
  },
  {
   "cell_type": "code",
   "execution_count": null,
   "metadata": {},
   "outputs": [],
   "source": []
  },
  {
   "cell_type": "code",
   "execution_count": null,
   "metadata": {},
   "outputs": [],
   "source": [
    "df_gp_journey"
   ]
  },
  {
   "cell_type": "code",
   "execution_count": 97,
   "metadata": {},
   "outputs": [],
   "source": [
    "dfh3_start = df_gp_journey.h3.geo_to_h3(7, lat_col=\"journey_starting_latitude\", lng_col=\"journey_starting_longitude\", set_index=False)"
   ]
  },
  {
   "cell_type": "code",
   "execution_count": null,
   "metadata": {},
   "outputs": [],
   "source": [
    "drawgeoframe_start = dfh3_start.groupby(['h3_07']).agg(Count=('journey_id', 'nunique'), UserCount=('moover_id', 'nunique'))\n",
    "drawgeoframe_start = drawgeoframe_start[drawgeoframe_start[\"UserCount\"] > 3]\n",
    "drawgeoframe_start = drawgeoframe_start.h3.h3_to_geo_boundary()\n",
    "drawgeoframe_start"
   ]
  },
  {
   "cell_type": "code",
   "execution_count": 102,
   "metadata": {},
   "outputs": [],
   "source": [
    "import branca.colormap as cm\n",
    "colormap = cm.LinearColormap([\"green\", \"yellow\", \"red\"], vmin=0, vmax=drawgeoframe_start[\"Count\"].max())\n",
    "drawgeoframe_start[\"color\"] = drawgeoframe_start[\"Count\"].apply(lambda x: colormap(x)[:-2])\n",
    "\n",
    "drawgeoframe_start[[\"geometry\", \"color\", \"Count\", 'UserCount']].to_file(DEPARTURES_OUTPUT_FILE, driver=\"GeoJSON\")"
   ]
  },
  {
   "cell_type": "code",
   "execution_count": null,
   "metadata": {},
   "outputs": [],
   "source": [
    "import folium\n",
    "start_lat = 48.8915079\n",
    "start_long = 2.3495425\n",
    "m = folium.Map(location=[start_lat, start_long], zoom_start=13)\n",
    "folium.GeoJson(drawgeoframe_start[[\"geometry\", \"color\"]], style_function=lambda f: {\"color\": f['properties']['color']}).add_to(m)\n",
    "m"
   ]
  },
  {
   "cell_type": "code",
   "execution_count": 98,
   "metadata": {},
   "outputs": [],
   "source": [
    "dfh3_start = dfh3_start.set_index(\"h3_07\").h3.h3_to_geo().reset_index()\n",
    "dfh3_start[\"center_geom\"] = dfh3_start[\"geometry\"]"
   ]
  },
  {
   "cell_type": "code",
   "execution_count": null,
   "metadata": {},
   "outputs": [],
   "source": [
    "def gen_end_map(start_h3):\n",
    "    fixed_point = dfh3_start[dfh3_start[\"h3_07\"] == start_h3][\"center_geom\"].iloc[0]\n",
    "    dfh3_start_filter = dfh3_start[dfh3_start[\"h3_07\"] == start_h3].drop(columns=[\"geometry\", \"h3_07\"])\n",
    "    dfh3_start_filter[\"geometry\"] = dfh3_start_filter[\"end_geometry\"]\n",
    "    dfh3_end = dfh3_start_filter.h3.geo_to_h3(7, lat_col=\"journey_ending_latitude\", lng_col=\"journey_ending_longitude\", set_index=False)\n",
    "    \n",
    "    drawgeoframe_end = dfh3_end.groupby(['h3_07']).agg(Count=('journey_id', 'nunique'), UserCount=('moover_id', 'nunique'))\n",
    "    drawgeoframe_end = drawgeoframe_end[drawgeoframe_end[\"UserCount\"] > 3]\n",
    "    # Find center of h3 cell and store the point in center_geom\n",
    "    drawgeoframe_end = drawgeoframe_end.h3.h3_to_geo()\n",
    "    drawgeoframe_end[\"center_geom\"] = drawgeoframe_end[\"geometry\"]\n",
    "\n",
    "    # Store the hexagon shape in \"geometry\" (default)\n",
    "    drawgeoframe_end = drawgeoframe_end.h3.h3_to_geo_boundary()\n",
    "    \n",
    "    # Function to create a line from the fixed point to each point\n",
    "    def create_line(point):\n",
    "        return LineString([fixed_point, point])\n",
    "\n",
    "    # Store in geom a line between the center of IDF and the center of the cell, this will be used for the lines viz\n",
    "    drawgeoframe_end['geom'] = drawgeoframe_end['center_geom'].apply(create_line)\n",
    "\n",
    "    colormap = cm.LinearColormap([\"green\", \"yellow\", \"red\"], vmin=0, vmax=drawgeoframe_end[\"Count\"].max())\n",
    "    drawgeoframe_end[\"color\"] = drawgeoframe_end[\"Count\"].apply(lambda x: colormap(x)[:-2])\n",
    "    drawgeoframe_end[[\"geometry\", \"color\", \"Count\", 'UserCount']].to_file(OUTPUT_FOLDER + \"/arrival_\" + start_h3 + \".geojson\", driver=\"GeoJSON\")\n",
    "    drawgeoframe_end[[\"geom\", \"color\", \"Count\", \"UserCount\"]].rename(columns={\"geom\": \"geometry\"}).to_file(OUTPUT_FOLDER + \"/arrival_\" + start_h3 + \"_lines.geojson\", driver=\"GeoJSON\")\n",
    "    return drawgeoframe_end\n",
    "\n",
    "for start_h3 in drawgeoframe_start.reset_index()[\"h3_07\"]:\n",
    "    gen_end_map(start_h3)\n",
    "\n"
   ]
  },
  {
   "cell_type": "code",
   "execution_count": null,
   "metadata": {},
   "outputs": [],
   "source": []
  }
 ],
 "metadata": {
  "kernelspec": {
   "display_name": "emission",
   "language": "python",
   "name": "python3"
  },
  "language_info": {
   "codemirror_mode": {
    "name": "ipython",
    "version": 3
   },
   "file_extension": ".py",
   "mimetype": "text/x-python",
   "name": "python",
   "nbconvert_exporter": "python",
   "pygments_lexer": "ipython3",
   "version": "3.9.16"
  }
 },
 "nbformat": 4,
 "nbformat_minor": 2
}
