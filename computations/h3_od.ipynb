{
 "cells": [
  {
   "cell_type": "markdown",
   "id": "82f331bd",
   "metadata": {},
   "source": [
    "**Computes hourly departures and arrivals per h3 cells (level 9)**\n",
    "\n",
    "**Input**: csv using the following columns:\n",
    "* `transportation_mode`: used mode of transport for the trip (see table below)\n",
    "* `start_time`: datetime of begining of trip\n",
    "* `end_time`: datetime of end of trip\n",
    "* `user_id`: Id of the traveling user, used to make sure results include more than one user per geographic division\n",
    "* `trace_gps`: list of (lon, lat) tuples\n",
    "\n",
    "**Output**: geoJSON files for origins (departures) and destination (arrivals) for each hour (eg. \"../static/data/origins/origins_1h.geojson\") containing h3 cell shapes with the following metadata:\n",
    "* `trace_gps`: (Badly named) number of trips starting or ending in cell\n",
    "* `color` and `fill`: A color representation of the number of trips, from green to red\n",
    "\n",
    "For anonymity, there must be at least 3 trips in a given cell for data to be considered\n",
    "\n",
    "\n",
    "The notebook also displays the first few GPS points starting from a given cell, color coded by transport mode.\n",
    "This feature helps explore mobility behaviour around cells containing a landmark for olympic games.\n",
    "For now, it isn't exported to frontend."
   ]
  },
  {
   "cell_type": "code",
   "execution_count": null,
   "id": "53fc8aeb",
   "metadata": {},
   "outputs": [],
   "source": [
    "import pandas as pd\n",
    "import geopandas as gpd\n",
    "import h3pandas\n",
    "from shapely.geometry import Point, Polygon, LineString\n",
    "import json\n",
    "import folium"
   ]
  },
  {
   "cell_type": "code",
   "execution_count": null,
   "id": "629e1620",
   "metadata": {},
   "outputs": [],
   "source": [
    "df_src = pd.read_csv(\"sources/data.csv\")"
   ]
  },
  {
   "cell_type": "code",
   "execution_count": null,
   "id": "91aa57dd",
   "metadata": {},
   "outputs": [],
   "source": [
    "tr = {\n",
    "-10 : \"NOT_DEFINED\",\n",
    "0 : \"UNKNOWN\",\n",
    "1 : \"PASSENGER_CAR\",\n",
    "2 : \"MOTORCYCLE\",\n",
    "3 : \"HEAVY_DUTY_VEHICLE\",\n",
    "4 : \"BUS\",\n",
    "5 : \"COACH\",\n",
    "6 : \"RAIL_TRIP\",\n",
    "7 : \"BOAT_TRIP\",\n",
    "8 : \"BIKE_TRIP\",\n",
    "9 : \"PLANE\",\n",
    "10 : \"SKI\",\n",
    "11 : \"FOOT\",\n",
    "12 : \"IDLE\",\n",
    "13 : \"OTHER\",\n",
    "101 : \"SCOOTER\",\n",
    "102 : \"HIGH_SPEED_TRAIN\"\n",
    "}\n",
    "df_src['transportation_mode_tr'] = df_src['transportation_mode'].apply(lambda x: tr[x])"
   ]
  },
  {
   "cell_type": "code",
   "execution_count": null,
   "id": "a7c389a1",
   "metadata": {},
   "outputs": [],
   "source": [
    "#df = df_src[df_src['transportation_mode_tr'] == \"FOOT\"]\n",
    "df = df_src"
   ]
  },
  {
   "cell_type": "code",
   "execution_count": null,
   "id": "a3d56cf6",
   "metadata": {},
   "outputs": [],
   "source": [
    "#dfh3 = df.h3.geo_to_h3_aggregate(9, operation=\"count\", lat_col=\"latitude\", lng_col=\"longitude\")\n",
    "dfh3 = df.h3.geo_to_h3(9, lat_col=\"latitude\", lng_col=\"longitude\", set_index=False).rename(columns={\"h3_09\": \"h3_\"})\n",
    "times = pd.DatetimeIndex(dfh3.start_time)\n",
    "dfh3['start_time'] = pd.to_datetime(dfh3['start_time'])\n",
    "dfh3['start_hour'] = dfh3['start_time'].dt.hour\n",
    "drawgeoframe = dfh3.groupby(['h3_', 'start_hour']).agg('count').reset_index()[['h3_', 'start_hour','trace_gps']].set_index('h3_')\n",
    "\n",
    "drawgeoframe = drawgeoframe.h3.h3_to_geo_boundary()\n",
    "drawgeoframe"
   ]
  },
  {
   "cell_type": "code",
   "execution_count": null,
   "id": "65baa29d",
   "metadata": {
    "scrolled": false
   },
   "outputs": [],
   "source": [
    "import folium\n",
    "import branca.colormap as cm\n",
    "colormap = cm.LinearColormap([\"green\", \"yellow\", \"red\"], vmin=0, vmax=drawgeoframe[\"trace_gps\"].max())\n",
    "\n",
    "drawgeoframe[\"color\"] = drawgeoframe[\"trace_gps\"].apply(lambda x: colormap(x)[:-2])\n",
    "drawgeoframe[\"fill\"] = drawgeoframe[\"color\"]\n",
    "drawgeoframe = drawgeoframe[drawgeoframe[\"trace_gps\"]>2]\n",
    "start_lat = 48.8915079\n",
    "start_long = 2.3495425\n",
    "m = folium.Map(location=[start_lat, start_long], zoom_start=13)\n",
    "folium.TileLayer('openstreetmap').add_to(m)\n",
    "folium.TileLayer('cartodbdark_matter').add_to(m)\n",
    "# other mapping code (e.g. lines, markers etc.)\n",
    "for i in range(0,24):\n",
    "    folium.GeoJson(drawgeoframe[drawgeoframe['start_hour']==i], name=i, style_function=lambda f: {\"color\": f['properties']['color']}).add_to(m)\n",
    "    drawgeoframe[drawgeoframe['start_hour']==i].to_file(\"../static/data/origins/origins_\" + str(i) + \"h.geojson\", driver=\"GeoJSON\")\n",
    "folium.LayerControl().add_to(m)\n",
    "m"
   ]
  },
  {
   "cell_type": "code",
   "execution_count": null,
   "id": "fd3931fc",
   "metadata": {
    "scrolled": false
   },
   "outputs": [],
   "source": [
    "import json\n",
    "def extract_end_coords(t):\n",
    "    return json.loads(t)[-1]\n",
    "df['lon_end'], df['lat_end'] = zip(*df[\"trace_gps\"].map(extract_end_coords))\n",
    "dfh3 = df.h3.geo_to_h3(9, lat_col=\"lat_end\", lng_col=\"lon_end\", set_index=False).rename(columns={\"h3_09\": \"h3_\"})\n",
    "times = pd.DatetimeIndex(dfh3.end_time)\n",
    "dfh3['end_time'] = pd.to_datetime(dfh3['end_time'])\n",
    "dfh3['end_hour'] = dfh3['end_time'].dt.hour\n",
    "drawgeoframe = dfh3.groupby(['h3_', 'end_hour']).agg('count').reset_index()[['h3_', 'end_hour','trace_gps']].set_index('h3_')\n",
    "\n",
    "drawgeoframe = drawgeoframe.h3.h3_to_geo_boundary()\n",
    "drawgeoframe[\"color\"] = drawgeoframe[\"trace_gps\"].apply(lambda x: colormap(x)[:-2])\n",
    "drawgeoframe[\"fill\"] = drawgeoframe[\"color\"]\n",
    "drawgeoframe = drawgeoframe[drawgeoframe[\"trace_gps\"]>2]\n",
    "start_lat = 48.8915079\n",
    "start_long = 2.3495425\n",
    "m = folium.Map(location=[start_lat, start_long], zoom_start=13)\n",
    "folium.TileLayer('openstreetmap').add_to(m)\n",
    "folium.TileLayer('cartodbdark_matter').add_to(m)\n",
    "# other mapping code (e.g. lines, markers etc.)\n",
    "for i in range(0,24):\n",
    "    folium.GeoJson(drawgeoframe[drawgeoframe['end_hour']==i], name=i, style_function=lambda f: {\"color\": f['properties']['color']}).add_to(m)\n",
    "    drawgeoframe[drawgeoframe['end_hour']==i].to_file(\"../static/data/destinations/destinations_\" + str(i) + \"h.geojson\", driver=\"GeoJSON\")\n",
    "folium.LayerControl().add_to(m)\n",
    "m"
   ]
  },
  {
   "cell_type": "code",
   "execution_count": null,
   "id": "9439dd10",
   "metadata": {},
   "outputs": [],
   "source": [
    "h3_saint_lazare = [\"891fb475b37ffff\"]\n",
    "h3_gare_du_nord = [\"891fb4660dbffff\"]\n",
    "h3_gare_de_lest = [\"891fb466053ffff\", \"891fb4660cfffff\", \"891fb4660cbffff\"]\n",
    "h3_addidas_arena = [\"891fb4664afffff\", \"891fb4664abffff\", \"891fb466433ffff\"]\n",
    "h3_pont_alexandre_trois = [\"891fb4675d3ffff\"]\n",
    "h3_invalides = [\"891fb4675dbffff\"]\n",
    "h3_grand_palais = [\"891fb475b6bffff\"]\n",
    "h3_tour_eiffel = [\"891fb46741bffff\", \"891fb467413ffff\", \"891fb467403ffff\", \"891fb46740bffff\"]\n",
    "h3_trocadero = [\"891fb4674d7ffff\"]\n",
    "h3_grand_palais_ephemere = [\"891fb467477ffff\"]\n",
    "h3_place_concorde = [\"891fb46759bffff\"]\n",
    "h3_porte_versailles = [\"891fb467673ffff\"]\n",
    "h3_arena_bercy = [\"891fb46440fffff\"]\n",
    "h3_parc_des_princes = [\"891fb462b8bffff\",\"891fb462b8fffff\", \"891fb462b13ffff\"]\n",
    "h3_rolland_garros = [\"891fb462867ffff\"]\n",
    "h3_la_defense_arena = [\"891fb475313ffff\", \"891fb47538fffff\"]\n",
    "h3_stade_de_france = [\"891fb474b83ffff\", \"891fb474b9bffff\", \"891fb474b93ffff\", \"891fb474b97ffff\", \"891fb474b87ffff\"]\n",
    "dfh3_filter = dfh3[dfh3[\"h3_\"].isin(h3_saint_lazare)]\n",
    "def extract_coords(t):\n",
    "    return LineString(json.loads(t)[0:2])\n",
    "dfh3_filter['trace_geom']= dfh3_filter[\"trace_gps\"].apply(extract_coords)"
   ]
  },
  {
   "cell_type": "code",
   "execution_count": null,
   "id": "821cc0dd",
   "metadata": {},
   "outputs": [],
   "source": [
    "geo_df = gpd.GeoDataFrame(dfh3_filter,geometry='trace_geom',crs='epsg:4326')"
   ]
  },
  {
   "cell_type": "code",
   "execution_count": null,
   "id": "89f93e9e",
   "metadata": {
    "scrolled": false
   },
   "outputs": [],
   "source": [
    "def transportation_mode_tr_colors(x):\n",
    "    if x == \"RAIL_TRIP\":\n",
    "        return \"red\"\n",
    "    if x == \"HIGH_SPEED_TRAIN\":\n",
    "        return \"orange\"\n",
    "    if x == \"FOOT\":\n",
    "        return \"lightgreen\"\n",
    "    if x == \"BIKE_TRIP\":\n",
    "        return \"green\"\n",
    "    if x == \"PASSENGER_CAR\":\n",
    "        return \"black\"\n",
    "    return \"blue\"\n",
    "geo_df[\"color\"] = geo_df[\"transportation_mode_tr\"].apply(lambda x: transportation_mode_tr_colors(x))\n",
    "m = folium.Map(location=[48.8915079, 2.3495425], zoom_start=13)\n",
    "folium.GeoJson(geo_df[['trace_geom', 'color']], style_function=lambda f: {\"color\": f['properties']['color']}).add_to(m)\n",
    "m"
   ]
  },
  {
   "cell_type": "code",
   "execution_count": null,
   "id": "28350af9",
   "metadata": {},
   "outputs": [],
   "source": []
  },
  {
   "cell_type": "code",
   "execution_count": null,
   "id": "b21d30d7",
   "metadata": {},
   "outputs": [],
   "source": []
  }
 ],
 "metadata": {
  "kernelspec": {
   "display_name": "Python 3 (ipykernel)",
   "language": "python",
   "name": "python3"
  },
  "language_info": {
   "codemirror_mode": {
    "name": "ipython",
    "version": 3
   },
   "file_extension": ".py",
   "mimetype": "text/x-python",
   "name": "python",
   "nbconvert_exporter": "python",
   "pygments_lexer": "ipython3",
   "version": "3.9.-1"
  }
 },
 "nbformat": 4,
 "nbformat_minor": 5
}
