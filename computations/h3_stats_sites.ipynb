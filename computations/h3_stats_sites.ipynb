{
 "cells": [
  {
   "cell_type": "markdown",
   "id": "82f331bd",
   "metadata": {},
   "source": [
    "**Computes stats per JO locations**\n",
    "\n",
    "**Input**: csv using the following columns:\n",
    "* `transportation_mode`: used mode of transport for the trip (see table below)\n",
    "* `start_time`: datetime of begining of trip\n",
    "* `end_time`: datetime of end of trip\n",
    "* `user_id`: Id of the traveling user, used to make sure results include more than one user per geographic division\n",
    "* `trace_gps`: list of (lon, lat) tuples\n",
    "\n",
    "**Output**: JSON files for each location (eg. \"../static/data/sites/Arena Bercy/modal_share.json\") containing the following data:\n",
    "* `start`: Total number of trips, duration and distance per transport mode, for trips starting from location (departures)\n",
    "* `start_percents_count`: Mode share based on number of trips, for departures\n",
    "* `start_percents_duration`: Mode share based on duration of trips, for departures\n",
    "* `start_percents_distance`: Mode share based on distance of trips, for departures\n",
    "* `end`: Total number of trips, duration and distance per transport mode, for trips ending in location (arrivals)\n",
    "* `end_percents_count`: Mode share based on number of trips, for arrivals\n",
    "* `end_percents_duration`: Mode share based on duration of trips, for arrivals\n",
    "* `end_percents_distance`: Mode share based on distance of trips, for arrivals\n",
    "\n",
    "**Output**: JSON file with locations sorted by popularity (number of trips) (\"../static/data/sites_popularity.json\"), formated as an array of objects:\n",
    "* `name`: Name of location\n",
    "* `total_trips`: Total number of trips starting and ending at location\n",
    "* `arrivals`: Number of trips ending in location\n",
    "* `departures`: Number of trips starting from location\n",
    "* `prefered_arrival_mode`: Most used transport mode for arrivals\n",
    "* `prefered_departure_mode`: Most used transport mode for departures\n",
    "\n",
    "**Output**: GeoJSON files listing popular h3 cells for start or end points of trips arriving or leaving each location (e.g. \"../static/data/sites/Arena Bercy/origin_zones.geojson\" and \"../static/data/sites/Arena Bercy/destination_zones.geojson\")\n",
    "* The geoJSON contains a `color` metadata from green to red depending on the popularity of the cell\n",
    "\n",
    "\n",
    "For anonymity, there must be at least 3 different users in a given cell for data to be considered\n"
   ]
  },
  {
   "cell_type": "code",
   "execution_count": null,
   "id": "1373599d",
   "metadata": {},
   "outputs": [],
   "source": [
    "!pip install geopy"
   ]
  },
  {
   "cell_type": "code",
   "execution_count": null,
   "id": "53fc8aeb",
   "metadata": {},
   "outputs": [],
   "source": [
    "import pandas as pd\n",
    "import geopandas as gpd\n",
    "import h3pandas\n",
    "from shapely.geometry import Point, Polygon, LineString\n",
    "import json\n",
    "import folium\n",
    "import os\n",
    "from geopy.distance import great_circle\n",
    "import numpy as np"
   ]
  },
  {
   "cell_type": "code",
   "execution_count": null,
   "id": "629e1620",
   "metadata": {},
   "outputs": [],
   "source": [
    "df = pd.read_csv(\"sources/data.csv\")"
   ]
  },
  {
   "cell_type": "code",
   "execution_count": null,
   "id": "b2ac6d67",
   "metadata": {},
   "outputs": [],
   "source": [
    "df"
   ]
  },
  {
   "cell_type": "code",
   "execution_count": null,
   "id": "91aa57dd",
   "metadata": {},
   "outputs": [],
   "source": [
    "tr = {\n",
    "-10 : \"NOT_DEFINED\",\n",
    "0 : \"UNKNOWN\",\n",
    "1 : \"PASSENGER_CAR\",\n",
    "2 : \"MOTORCYCLE\",\n",
    "3 : \"HEAVY_DUTY_VEHICLE\",\n",
    "4 : \"BUS\",\n",
    "5 : \"COACH\",\n",
    "6 : \"RAIL_TRIP\",\n",
    "7 : \"BOAT_TRIP\",\n",
    "8 : \"BIKE_TRIP\",\n",
    "9 : \"PLANE\",\n",
    "10 : \"SKI\",\n",
    "11 : \"FOOT\",\n",
    "12 : \"IDLE\",\n",
    "13 : \"OTHER\",\n",
    "101 : \"SCOOTER\",\n",
    "102 : \"HIGH_SPEED_TRAIN\"\n",
    "}\n",
    "df['transportation_mode_tr'] = df['transportation_mode'].apply(lambda x: tr[x])"
   ]
  },
  {
   "cell_type": "code",
   "execution_count": null,
   "id": "a02e8906",
   "metadata": {},
   "outputs": [],
   "source": [
    "def decode_gps(trace_gps):\n",
    "    return json.loads(trace_gps)\n",
    "df[\"gps_decoded\"] = df['trace_gps'].apply(decode_gps)"
   ]
  },
  {
   "cell_type": "code",
   "execution_count": null,
   "id": "123c9454",
   "metadata": {},
   "outputs": [],
   "source": [
    "df['end_longitude'] = df[\"gps_decoded\"].apply(lambda x: x[-1][0])\n",
    "df['end_latitude'] = df[\"gps_decoded\"].apply(lambda x: x[-1][1])"
   ]
  },
  {
   "cell_type": "code",
   "execution_count": null,
   "id": "1c32770a",
   "metadata": {},
   "outputs": [],
   "source": [
    "# Function to compute the total travelled distance using geopy\n",
    "def total_distance(coords):\n",
    "    total_dist = 0.0\n",
    "    for i in range(len(coords) - 1):\n",
    "        total_dist += great_circle(coords[i][::-1], coords[i + 1][::-1]).kilometers\n",
    "    return total_dist\n",
    "\n",
    "# Applying the total_distance function to the DataFrame\n",
    "df['total_distance'] = df['gps_decoded'].apply(total_distance)\n"
   ]
  },
  {
   "cell_type": "code",
   "execution_count": null,
   "id": "0e543b85",
   "metadata": {},
   "outputs": [],
   "source": [
    "# Convert columns to datetime\n",
    "df['start_time'] = pd.to_datetime(df['start_time'])\n",
    "df['end_time'] = pd.to_datetime(df['end_time'])\n",
    "\n",
    "# Calculate duration in seconds\n",
    "df['duration'] = (df['end_time'] - df['start_time']).dt.total_seconds()"
   ]
  },
  {
   "cell_type": "code",
   "execution_count": null,
   "id": "df0cab64",
   "metadata": {},
   "outputs": [],
   "source": [
    "df"
   ]
  },
  {
   "cell_type": "code",
   "execution_count": null,
   "id": "a3d56cf6",
   "metadata": {},
   "outputs": [],
   "source": [
    "dfh3_start = df.h3.geo_to_h3(9, lat_col=\"latitude\", lng_col=\"longitude\", set_index=False)\n",
    "dfh3_end = df.h3.geo_to_h3(9, lat_col=\"end_latitude\", lng_col=\"end_longitude\", set_index=False)"
   ]
  },
  {
   "cell_type": "code",
   "execution_count": null,
   "id": "9439dd10",
   "metadata": {},
   "outputs": [],
   "source": [
    "# h3 level 9 cells loosely covering every olympic location\n",
    "# For bigger sites, we try to cover the whole site with many cells\n",
    "# There might be imprecisions:\n",
    "# * With people parking far outside the cell (even though the trip should continue with a walking segment)\n",
    "# * With people stopping in the cell, but not going to the Olympic location (very true for locations near train stations)\n",
    "# * With people moving within the cell\n",
    "\n",
    "SITES_OLYMPIQUES = {\n",
    "    #\"saint_lazare\": {\"h3\": [\"891fb475b37ffff\"]},\n",
    "    #\"gare_du_nord\": {\"h3\": [\"891fb4660dbffff\"]},\n",
    "    #\"gare_de_lest\": {\"h3\": [\"891fb466053ffff\", \"891fb4660cfffff\", \"891fb4660cbffff\"]},\n",
    "    \"addidas_arena\": {\"name\": \"Arena Porte de La Chapelle\", \"h3\": [\"891fb4664afffff\", \"891fb4664abffff\", \"891fb466433ffff\"]},\n",
    "    \"pont_alexandre_trois\": {\"name\": \"Pont Alexandre III\", \"h3\": [\"891fb4675d3ffff\"]},\n",
    "    \"invalides\": {\"name\": \"Invalides\", \"h3\": [\"891fb4675dbffff\"]},\n",
    "    \"grand_palais\": {\"name\": \"Grand Palais\", \"h3\": [\"891fb475b6bffff\"]},\n",
    "    \"tour_eiffel\": {\"name\": \"Stade Tour Eiffel\", \"h3\": [\"891fb46741bffff\", \"891fb467413ffff\", \"891fb467403ffff\", \"891fb46740bffff\"]},\n",
    "    \"trocadero\": {\"name\": \"Trocadéro\", \"h3\": [\"891fb4674d7ffff\"]},\n",
    "    \"grand_palais_ephemere\": {\"name\": \"Arena Champ-de-Mars\", \"h3\": [\"891fb467477ffff\"]},\n",
    "    \"place_concorde\": {\"name\": \"La Concorde\", \"h3\": [\"891fb46759bffff\"]},\n",
    "    \"porte_versailles\": {\"name\": \"Arena Paris Sud\", \"h3\": [\"891fb467673ffff\"]},\n",
    "    \"arena_bercy\": {\"name\": \"Arena Bercy\", \"h3\": [\"891fb46440fffff\"]},\n",
    "    \"parc_des_princes\": {\"name\": \"Parc des Princes\", \"h3\": [\"891fb462b8bffff\",\"891fb462b8fffff\", \"891fb462b13ffff\"]},\n",
    "    \"rolland_garros\": {\"name\": \"Stade Roland-Garros\", \"h3\": [\"891fb462867ffff\"]},\n",
    "    \"la_defense_arena\": {\"name\": \"Paris La Défense Arena\", \"h3\": [\"891fb475313ffff\", \"891fb47538fffff\"]},\n",
    "    \"stade_de_france\": {\"name\": \"Stade de France\", \"h3\": [\"891fb474b83ffff\", \"891fb474b9bffff\", \"891fb474b93ffff\", \"891fb474b97ffff\", \"891fb474b87ffff\"]},\n",
    "    \"villepinte\" : {\"name\": \"Arena Paris Nord\", \"h3\": [\"891fb428197ffff\", \"891fb42aa5bffff\" , \"891fb42aa4bffff\", \"891fb42aa43ffff\", \"891fb42aa57ffff\", \"891fb4281b3ffff\", \"891fb42aa4fffff\", \"891fb42aa47ffff\", \"891fb42aa0bffff\", \"891fb4281b7ffff\", \"891fb42aa7bffff\", \"891fb42aa73ffff\", \"891fb42aa0fffff\", \"891fb42aa6bffff\", \"891fb42aa63ffff\", \"891fb42aa77ffff\", \"891fb42aa3bffff\", \"891fb42aa67ffff\", \"891fb42aa2bffff\"]},\n",
    "    \"centre_aquatique_st_denis\" : {\"name\": \"Centre Aquatique\", \"h3\": [\"891fb474b9bffff\"]},\n",
    "    \"tir_chateauroux\" : {\"name\": \"Centre National de Tir de Châteauroux\", \"h3\": [\"89186dd5027ffff\", \"89186dd51cbffff\", \"89186dd515bffff\", \"89186dd5153ffff\", \"89186dd51cfffff\", \"89186dd514bffff\", \"89186dd5143ffff\", \"89186dd5157ffff\", \"89186dd514fffff\", \"89186dd5147ffff\", \"89186dd510bffff\", \"89186dd5173ffff\", \"89186dd510fffff\"]},\n",
    "    \"chateau_de_versailles\" : {\"name\": \"Château de Versailles\", \"h3\": [\"891fb4632d3ffff\", \"891fb4632c3ffff\", \"891fb4632d7ffff\", \"891fb4632c7ffff\"]},\n",
    "    \"colline_elancourt\" : {\"name\": \"Colline d'Elancourt\", \"h3\": [\"891fb4782afffff\", \"891fb478237ffff\", \"891fb478233ffff\", \"891fb4782abffff\", \"891fb478207ffff\", \"891fb47823bffff\", \"891fb4783c3ffff\"]},\n",
    "    # \"\" : {\"name\": \"Hôtel de Ville\", \"h3\": []},\n",
    "    # \"\" : {\"name\": \"Golf National\", \"h3\": []},\n",
    "    # \"\" : {\"name\": \"Marina de Marseille\", \"h3\": []},\n",
    "    # \"\" : {\"name\": \"Site d'escalade Bourget\", \"h3\": []},\n",
    "    \"bmx_st_quentin\" : {\"name\": \"Stade BMX de Saint-Quentin-en-Yvelines\", \"h3\": [\"891fb478e37ffff\", \"891fb4788cbffff\", \"891fb4788cfffff\", \"891fb478e23ffff\", \"891fb478e27ffff\", \"891fb478853ffff\"]},\n",
    "    # \"\" : {\"name\": \"Stade de Bordeaux\", \"h3\": []},\n",
    "    # \"\" : {\"name\": \"Stade de la Beaujoire\", \"h3\": []},\n",
    "    # \"\" : {\"name\": \"Stade de Lyon\", \"h3\": []},\n",
    "    # \"\" : {\"name\": \"Stade de Marseille\", \"h3\": []},\n",
    "    # \"\" : {\"name\": \"Stade de Nice\", \"h3\": []},\n",
    "    # \"\" : {\"name\": \"Stade Geoffroy-Guichard\", \"h3\": []},\n",
    "    # \"\" : {\"name\": \"Stade Nautique de Vaires-sur-Marne\", \"h3\": []},\n",
    "    # \"\" : {\"name\": \"Stade Pierre Mauroy\", \"h3\": []},\n",
    "    # \"\" : {\"name\": \"Stade Yves-du-Manoir\", \"h3\": []},\n",
    "    # \"\" : {\"name\": \"Teahupo'o, Tahiti\", \"h3\": []},\n",
    "    # \"\" : {\"name\": \"Vélodrome National de Saint-Quentin-en-Yvelines\", \"h3\": []}\n",
    "}"
   ]
  },
  {
   "cell_type": "code",
   "execution_count": null,
   "id": "821cc0dd",
   "metadata": {},
   "outputs": [],
   "source": [
    "def compute_modal_share(site_data):\n",
    "    dfh3_filter_start = dfh3_start[dfh3_start[\"h3_09\"].isin(site_data[\"h3\"])]\n",
    "    dfh3_filter_end = dfh3_end[dfh3_end[\"h3_09\"].isin(site_data[\"h3\"])]\n",
    "\n",
    "    # Do not display information if cell has less than 4 users\n",
    "    if dfh3_filter_start['user_id'].nunique() < 4 or dfh3_filter_end['user_id'].nunique() < 4:\n",
    "        return\n",
    "\n",
    "    mode_share_start = dfh3_filter_start.groupby(['transportation_mode_tr']).agg(Count=('transportation_mode_tr', np.size), Duration=('duration', np.sum), Distance=('total_distance', np.sum))\n",
    "    mode_share_start_dict = mode_share_start.to_dict()\n",
    "    mode_share_start_dict['Total_Count'] = len(dfh3_filter_start)\n",
    "    mode_share_start_dict['Total_Duration'] = dfh3_filter_start[\"duration\"].sum()\n",
    "    mode_share_start_dict['Total_Distance'] = dfh3_filter_start[\"total_distance\"].sum()\n",
    "    mode_share_start_percents_count = mode_share_start[\"Count\"] / mode_share_start_dict['Total_Count']\n",
    "    mode_share_start_percents_duration = mode_share_start[\"Duration\"] / mode_share_start_dict['Total_Duration']\n",
    "    mode_share_start_percents_distance = mode_share_start[\"Distance\"] / mode_share_start_dict['Total_Distance']\n",
    "    \n",
    "    mode_share_end = dfh3_filter_end.groupby(['transportation_mode_tr']).agg(Count=('transportation_mode_tr', np.size), Duration=('duration', np.sum), Distance=('total_distance', np.sum))\n",
    "    mode_share_end_dict = mode_share_end.to_dict()\n",
    "    mode_share_end_dict['Total_Count'] = len(dfh3_filter_end)\n",
    "    mode_share_end_dict['Total_Duration'] = dfh3_filter_end[\"duration\"].sum()\n",
    "    mode_share_end_dict['Total_Distance'] = dfh3_filter_end[\"total_distance\"].sum()\n",
    "    mode_share_end_percents_count = mode_share_end[\"Count\"] / mode_share_end_dict['Total_Count']\n",
    "    mode_share_end_percents_duration = mode_share_end[\"Duration\"] / mode_share_end_dict['Total_Duration']\n",
    "    mode_share_end_percents_distance = mode_share_end[\"Distance\"] / mode_share_end_dict['Total_Distance']\n",
    "    mode_share = json.dumps({\n",
    "        \"start\": mode_share_start_dict,\n",
    "        \"start_percents_count\": mode_share_start_percents_count.to_dict(),\n",
    "        \"start_percents_duration\": mode_share_start_percents_duration.to_dict(),\n",
    "        \"start_percents_distance\": mode_share_start_percents_distance.to_dict(),\n",
    "        \"end\": mode_share_end_dict,\n",
    "        \"end_percents_count\": mode_share_end_percents_count.to_dict(),\n",
    "        \"end_percents_duration\": mode_share_end_percents_duration.to_dict(),\n",
    "        \"end_percents_distance\": mode_share_end_percents_distance.to_dict(),\n",
    "    })\n",
    "    os.makedirs(os.path.dirname(f'../static/data/sites/{site_data[\"name\"]}/'), exist_ok=True)\n",
    "    with open(f'../static/data/sites/{site_data[\"name\"]}/modal_share.json', 'w') as f:\n",
    "        f.write(mode_share)\n",
    "    return {\n",
    "        \"name\": site_data[\"name\"],\n",
    "        \"total_trips\": mode_share_start_dict['Total_Count'] + mode_share_end_dict['Total_Count'],\n",
    "        \"arrivals\": mode_share_end_dict['Total_Count'],\n",
    "        \"departures\": mode_share_start_dict['Total_Count'],\n",
    "        \"prefered_arrival_mode\": mode_share_start['Count'].idxmax(),\n",
    "        \"prefered_departure_mode\": mode_share_end['Count'].idxmax(),\n",
    "    }"
   ]
  },
  {
   "cell_type": "code",
   "execution_count": null,
   "id": "89f93e9e",
   "metadata": {
    "scrolled": false
   },
   "outputs": [],
   "source": [
    "sites_popularity = []\n",
    "for site in SITES_OLYMPIQUES:\n",
    "    data = compute_modal_share(SITES_OLYMPIQUES[site])\n",
    "    if data:\n",
    "        sites_popularity.append(data)\n",
    "sites_popularity"
   ]
  },
  {
   "cell_type": "code",
   "execution_count": null,
   "id": "d799fe2e",
   "metadata": {},
   "outputs": [],
   "source": [
    "sorted_sites = sorted(sites_popularity, key=lambda d: d['total_trips'], reverse=True)\n",
    "json.dumps(sorted_sites)\n",
    "with open('../static/data/sites_popularity.json', 'w') as f:\n",
    "    f.write(json.dumps(sorted_sites))\n"
   ]
  },
  {
   "cell_type": "code",
   "execution_count": null,
   "id": "6842a293",
   "metadata": {},
   "outputs": [],
   "source": [
    "import branca.colormap as cm\n",
    "def compute_destinations(site_data):\n",
    "    dfh3_filter_start = dfh3_start[dfh3_start[\"h3_09\"].isin(site_data[\"h3\"])]\n",
    "    dfh3 = dfh3_filter_start.h3.geo_to_h3(7, lat_col=\"end_latitude\", lng_col=\"end_longitude\", set_index=False)\n",
    "    drawgeoframe_start = dfh3.groupby(['h3_07']).agg(Count=('user_id', np.size), UniqueUsers=('user_id', 'nunique')).reset_index().set_index('h3_07')\n",
    "    drawgeoframe_start = drawgeoframe_start[drawgeoframe_start[\"UniqueUsers\"] > 3]\n",
    "    drawgeoframe_start = drawgeoframe_start.h3.h3_to_geo_boundary()\n",
    "    colormap = cm.LinearColormap([\"green\", \"yellow\", \"red\"], vmin=0, vmax=drawgeoframe_start[\"Count\"].max())\n",
    "    drawgeoframe_start[\"color\"] = drawgeoframe_start[\"Count\"].apply(lambda x: colormap(x)[:-2])\n",
    "    if not drawgeoframe_start.empty:\n",
    "        os.makedirs(os.path.dirname(f'../static/data/sites/{site_data[\"name\"]}/'), exist_ok=True)\n",
    "        drawgeoframe_start.to_file(f'../static/data/sites/{site_data[\"name\"]}/destination_zones.geojson', driver=\"GeoJSON\")\n",
    "\n",
    "    dfh3_filter_end = dfh3_end[dfh3_end[\"h3_09\"].isin(site_data[\"h3\"])]\n",
    "    dfh3 = dfh3_filter_end.h3.geo_to_h3(7, lat_col=\"latitude\", lng_col=\"longitude\", set_index=False)\n",
    "    drawgeoframe_end = dfh3.groupby(['h3_07']).agg(Count=('user_id', np.size), UniqueUsers=('user_id', 'nunique')).reset_index().set_index('h3_07')\n",
    "    drawgeoframe_end = drawgeoframe_end[drawgeoframe_end[\"UniqueUsers\"] > 3]\n",
    "    drawgeoframe_end = drawgeoframe_end.h3.h3_to_geo_boundary()\n",
    "    colormap = cm.LinearColormap([\"green\", \"yellow\", \"red\"], vmin=0, vmax=drawgeoframe_end[\"Count\"].max())\n",
    "    drawgeoframe_end[\"color\"] = drawgeoframe_end[\"Count\"].apply(lambda x: colormap(x)[:-2])\n",
    "    if not drawgeoframe_end.empty:\n",
    "        os.makedirs(os.path.dirname(f'../static/data/sites/{site_data[\"name\"]}/'), exist_ok=True)\n",
    "        drawgeoframe_end.to_file(f'../static/data/sites/{site_data[\"name\"]}/origin_zones.geojson', driver=\"GeoJSON\")\n",
    "\n",
    "#compute_destinations(SITES_OLYMPIQUES[\"arena_bercy\"])"
   ]
  },
  {
   "cell_type": "code",
   "execution_count": null,
   "id": "1b0d75c8",
   "metadata": {},
   "outputs": [],
   "source": [
    "for site in SITES_OLYMPIQUES:\n",
    "    compute_destinations(SITES_OLYMPIQUES[site])"
   ]
  },
  {
   "cell_type": "code",
   "execution_count": null,
   "id": "9411f47e",
   "metadata": {},
   "outputs": [],
   "source": []
  }
 ],
 "metadata": {
  "kernelspec": {
   "display_name": "Python 3 (ipykernel)",
   "language": "python",
   "name": "python3"
  },
  "language_info": {
   "codemirror_mode": {
    "name": "ipython",
    "version": 3
   },
   "file_extension": ".py",
   "mimetype": "text/x-python",
   "name": "python",
   "nbconvert_exporter": "python",
   "pygments_lexer": "ipython3",
   "version": "3.9.16"
  }
 },
 "nbformat": 4,
 "nbformat_minor": 5
}
