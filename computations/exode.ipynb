{
 "cells": [
  {
   "cell_type": "markdown",
   "id": "8dac6d05",
   "metadata": {},
   "source": [
    "**Computes large population movements**\n",
    "\n",
    "**Input**: csv using the following columns:\n",
    "* `transportation_mode_tr`: used mode of transport for the trip, in readable format\n",
    "* `longitude` and `latitude`: Starting point of trip\n",
    "* `end_longitude` and `end_latitude`: Ending point of trip\n",
    "* `user_id`: Id of the traveling user, used to make sure results include more than 3 users per geographic division\n",
    "\n",
    "**Output**: geoJSON file \"../static/data/exode.geojson\" containing h3 cell shapes with the following metadata:\n",
    "* `geometry`: h3 shape of the destinations\n",
    "* `MostCommonTransport`: prefered `transportation_mode_tr` for most trips\n",
    "* `color`: A color representation of `MostCommonTransport`\n",
    "* `Count`: Total number of trips arriving in cell\n",
    "\n",
    "**Output**: geoJSON file \"../static/data/exode_lines.geojson\" containing line shapes with the following metadata:\n",
    "* `geometry`: LineString strating from paris and ending in the centroid of h3 celles\n",
    "* `MostCommonTransport`: prefered `transportation_mode_tr` for most trips\n",
    "* `color`: A color representation of `MostCommonTransport`\n",
    "* `Count`: Total number of trips arriving in cell\n"
   ]
  },
  {
   "cell_type": "code",
   "execution_count": null,
   "id": "7a3eb413",
   "metadata": {},
   "outputs": [],
   "source": [
    "import pandas as pd\n",
    "from mappymatch.constructs.geofence import Geofence\n",
    "from shapely.geometry import Point, LineString\n",
    "from shapely.vectorized import contains\n",
    "import h3pandas\n",
    "import geopandas as gpd\n",
    "import folium\n",
    "import json\n",
    "import numpy as np\n"
   ]
  },
  {
   "cell_type": "code",
   "execution_count": null,
   "id": "cc585af2",
   "metadata": {},
   "outputs": [],
   "source": [
    "geofence_idf = Geofence.from_geojson(\"sources/region-ile-de-france.geojson\")"
   ]
  },
  {
   "cell_type": "code",
   "execution_count": null,
   "id": "d20d10ca",
   "metadata": {},
   "outputs": [],
   "source": [
    "df = pd.read_csv(\"sources/data_france_ascension_09_et_12_mai_2024.csv\")"
   ]
  },
  {
   "cell_type": "code",
   "execution_count": null,
   "id": "8b73c7e8",
   "metadata": {},
   "outputs": [],
   "source": [
    "tr = {\n",
    "-10 : \"NOT_DEFINED\",\n",
    "0 : \"UNKNOWN\",\n",
    "1 : \"PASSENGER_CAR\",\n",
    "2 : \"MOTORCYCLE\",\n",
    "3 : \"HEAVY_DUTY_VEHICLE\",\n",
    "4 : \"BUS\",\n",
    "5 : \"COACH\",\n",
    "6 : \"RAIL_TRIP\",\n",
    "7 : \"BOAT_TRIP\",\n",
    "8 : \"BIKE_TRIP\",\n",
    "9 : \"PLANE\",\n",
    "10 : \"SKI\",\n",
    "11 : \"FOOT\",\n",
    "12 : \"IDLE\",\n",
    "13 : \"OTHER\",\n",
    "101 : \"SCOOTER\",\n",
    "102 : \"HIGH_SPEED_TRAIN\"\n",
    "}\n",
    "df['transportation_mode_tr'] = df['transportation_mode'].apply(lambda x: tr[x])"
   ]
  },
  {
   "cell_type": "code",
   "execution_count": null,
   "id": "9a006f13",
   "metadata": {},
   "outputs": [],
   "source": [
    "df"
   ]
  },
  {
   "cell_type": "code",
   "execution_count": null,
   "id": "20733a29",
   "metadata": {},
   "outputs": [],
   "source": [
    "# Aggregate the main features\n",
    "agg_main = df.groupby('journey_id').agg(\n",
    "    starting_longitude=('starting_longitude', 'first'),\n",
    "    starting_latitude=('starting_latitude', 'first'),\n",
    "    start_time=('start_time', 'first'),\n",
    "    ending_longitude=('ending_longitude', 'last'),\n",
    "    ending_latitude=('ending_latitude', 'last'),\n",
    "    end_time=('end_time', 'last'),\n",
    "    user_id=('user_id', 'first')\n",
    ").reset_index()\n",
    "\n",
    "# Calculate the sum of distances for each transportation mode within each journey\n",
    "agg_distance = df.groupby(['journey_id', 'transportation_mode_tr']).agg(\n",
    "    total_distance=('distance_km', 'sum')\n",
    ").reset_index()\n",
    "\n",
    "# Sort the distance aggregation and find the top two transportation modes for each journey\n",
    "agg_distance_sorted = agg_distance.sort_values(by=['journey_id', 'total_distance'], ascending=[True, False])\n",
    "\n",
    "# Get the top two transportation modes for each journey\n",
    "agg_distance_top2 = agg_distance_sorted.groupby('journey_id').head(2).reset_index(drop=True)\n",
    "\n",
    "# Split the top two transportation modes into separate columns\n",
    "agg_distance_top2['rank'] = agg_distance_top2.groupby('journey_id').cumcount() + 1\n",
    "agg_distance_pivot = agg_distance_top2.pivot(index='journey_id', columns='rank', values=['transportation_mode_tr', 'total_distance']).reset_index()\n",
    "\n",
    "# Rename columns for clarity\n",
    "agg_distance_pivot.columns = ['journey_id', \n",
    "                              'top_transportation_mode_tr', 'second_top_transportation_mode_tr', \n",
    "                              'top_transportation_mode_distance', 'second_top_transportation_mode_distance']\n",
    "\n",
    "# Merge the results\n",
    "result = pd.merge(agg_main, agg_distance_pivot, on='journey_id', how='left')"
   ]
  },
  {
   "cell_type": "code",
   "execution_count": null,
   "id": "23e9526b",
   "metadata": {},
   "outputs": [],
   "source": [
    "result[result[\"second_top_transportation_mode_distance\"] > 0]"
   ]
  },
  {
   "cell_type": "code",
   "execution_count": null,
   "id": "1f6930c7",
   "metadata": {},
   "outputs": [],
   "source": [
    "result[\"merge_transportation_mode_tr\"] = result[\"top_transportation_mode_tr\"] + result[\"second_top_transportation_mode_tr\"].fillna('')\n",
    "result"
   ]
  },
  {
   "cell_type": "code",
   "execution_count": null,
   "id": "be64228e",
   "metadata": {},
   "outputs": [],
   "source": [
    "df = result"
   ]
  },
  {
   "cell_type": "code",
   "execution_count": null,
   "id": "3c65a467",
   "metadata": {},
   "outputs": [],
   "source": [
    "#geofence_paris_geometry = geofence_paris.geometry\n",
    "\n",
    "# Convert the DataFrame to a GeoDataFrame\n",
    "gdf = gpd.GeoDataFrame(df, geometry=gpd.points_from_xy(df.starting_longitude, df.starting_latitude), crs=\"EPSG:4326\")\n"
   ]
  },
  {
   "cell_type": "code",
   "execution_count": null,
   "id": "8d587f79",
   "metadata": {},
   "outputs": [],
   "source": [
    "geofence_idf_geometry = geofence_idf.geometry\n",
    "\n",
    "# Filter points within the geofence\n",
    "gdf_from_idf = gdf[gdf.geometry.within(geofence_idf_geometry)]\n",
    "\n",
    "# Create end_geometry for the end points\n",
    "gdf_from_idf['end_geometry'] = gpd.points_from_xy(gdf_from_idf.ending_longitude, gdf_from_idf.ending_latitude)\n",
    "\n",
    "# Filter points where end location is outside the geofence\n",
    "gdf_exit_idf = gdf_from_idf[~gdf_from_idf['end_geometry'].within(geofence_idf_geometry)]\n",
    "\n",
    "# Drop the temporary 'end_geometry' column if not needed\n",
    "gdf_exit_idf = gdf_exit_idf.drop(columns=['geometry', 'end_geometry'])\n",
    "gdf_exit_idf"
   ]
  },
  {
   "cell_type": "code",
   "execution_count": null,
   "id": "2fab6972",
   "metadata": {},
   "outputs": [],
   "source": [
    "dfh3 = gdf_exit_idf[gdf_exit_idf[\"start_time\"] < \"2024-05-10\"].h3.geo_to_h3(4, lat_col=\"ending_latitude\", lng_col=\"ending_longitude\", set_index=False)\n",
    "df_unique_user = dfh3.drop_duplicates(subset=['h3_04', 'user_id'])\n",
    "drawgeoframe = df_unique_user[['h3_04']].groupby(['h3_04']).agg(Count=('h3_04', np.size))\n",
    "drawgeoframe=drawgeoframe.reset_index().set_index('h3_04')\n",
    "drawgeoframe = drawgeoframe[drawgeoframe['Count'] > 3]\n",
    "drawgeoframe = drawgeoframe.h3.h3_to_geo()\n",
    "drawgeoframe[\"center_geom\"] = drawgeoframe[\"geometry\"]\n",
    "drawgeoframe = drawgeoframe.h3.h3_to_geo_boundary()\n",
    "drawgeoframe"
   ]
  },
  {
   "cell_type": "code",
   "execution_count": null,
   "id": "f253ea05",
   "metadata": {},
   "outputs": [],
   "source": [
    "fixed_point = Point(2.333333, 48.866667)\n",
    "\n",
    "# Function to create a line from the fixed point to each point\n",
    "def create_line(point):\n",
    "    return LineString([fixed_point, point])\n",
    "\n",
    "# Apply the function to each geometry in the GeoDataFrame\n",
    "drawgeoframe['geom'] = drawgeoframe['center_geom'].apply(create_line)\n",
    "drawgeoframe.max()"
   ]
  },
  {
   "cell_type": "code",
   "execution_count": null,
   "id": "3928c8b3",
   "metadata": {},
   "outputs": [],
   "source": [
    "import branca.colormap as cm\n",
    "colormap = cm.LinearColormap([\"green\", \"yellow\", \"red\"], vmin=0, vmax=50)\n",
    "drawgeoframe[\"color\"] = drawgeoframe[\"Count\"].apply(lambda x: colormap(x)[:-2])\n",
    "\n",
    "start_lat = 48.8915079\n",
    "start_long = 2.3495425\n",
    "m = folium.Map(location=[start_lat, start_long], zoom_start=13)\n",
    "folium.GeoJson(drawgeoframe[[\"geometry\", \"color\"]], style_function=lambda f: {\"color\": f['properties']['color']}).add_to(m)\n",
    "folium.GeoJson(drawgeoframe[[\"geom\", \"color\"]].rename(columns={\"geom\": \"geometry\"}), style_function=lambda f: {\"color\": f['properties']['color']}).add_to(m)\n",
    "m"
   ]
  },
  {
   "cell_type": "code",
   "execution_count": null,
   "id": "d9bba6fa",
   "metadata": {},
   "outputs": [],
   "source": [
    "def most_common_value(series):\n",
    "    return series.mode().iloc[0]\n",
    "dfh3 = gdf_exit_idf.h3.geo_to_h3(4, lat_col=\"ending_latitude\", lng_col=\"ending_longitude\", set_index=False)\n",
    "df_unique_user = dfh3.drop_duplicates(subset=['h3_04', 'user_id'])\n",
    "drawgeoframe = df_unique_user[['h3_04', 'top_transportation_mode_tr']].groupby(['h3_04']).agg(Count=('h3_04', np.size), MostCommonTransport=('top_transportation_mode_tr', most_common_value))\n",
    "drawgeoframe=drawgeoframe.reset_index().set_index('h3_04')\n",
    "drawgeoframe = drawgeoframe[drawgeoframe['Count'] > 3]\n",
    "drawgeoframe = drawgeoframe.h3.h3_to_geo()\n",
    "drawgeoframe[\"center_geom\"] = drawgeoframe[\"geometry\"]\n",
    "drawgeoframe = drawgeoframe.h3.h3_to_geo_boundary()\n",
    "drawgeoframe"
   ]
  },
  {
   "cell_type": "code",
   "execution_count": null,
   "id": "ca0313ba",
   "metadata": {},
   "outputs": [],
   "source": [
    "fixed_point = Point(2.333333, 48.866667)\n",
    "\n",
    "# Function to create a line from the fixed point to each point\n",
    "def create_line(point):\n",
    "    return LineString([fixed_point, point])\n",
    "\n",
    "# Apply the function to each geometry in the GeoDataFrame\n",
    "drawgeoframe['geom'] = drawgeoframe['center_geom'].apply(create_line)"
   ]
  },
  {
   "cell_type": "code",
   "execution_count": null,
   "id": "1a0a2c05",
   "metadata": {},
   "outputs": [],
   "source": [
    "colormap = {\n",
    "    \"PLANE\": \"red\",\n",
    "    \"PASSENGER_CAR\": \"orange\",\n",
    "    \"PASSENGER_CARFOOT\": \"darkorange\",\n",
    "    \"RAIL_TRIP\": \"green\",\n",
    "    \"HIGH_SPEED_TRAIN\": \"green\",\n",
    "    \"HIGH_SPEED_TRAINRAIL_TRIP\": \"darkgreen\",\n",
    "    \"PASSENGER_CARRAIL_TRIP\": \"yellow\",\n",
    "    \"FOOT\": \"black\" # wtf\n",
    "}\n",
    "drawgeoframe[\"color\"] = drawgeoframe[\"MostCommonTransport\"].apply(lambda x: colormap.get(x, \"gray\"))\n",
    "\n",
    "start_lat = 48.8915079\n",
    "start_long = 2.3495425\n",
    "m = folium.Map(location=[start_lat, start_long], zoom_start=13)\n",
    "folium.GeoJson(drawgeoframe[[\"geometry\", \"color\"]], style_function=lambda f: {\"color\": f['properties']['color']}).add_to(m)\n",
    "drawgeoframe[[\"geometry\", \"color\", \"Count\", \"MostCommonTransport\"]].to_file(\"../static/data/exode.geojson\", driver=\"GeoJSON\")\n",
    "folium.GeoJson(drawgeoframe[[\"geom\", \"color\"]].rename(columns={\"geom\": \"geometry\"}), style_function=lambda f: {\"weight\": \"0.5\", \"color\": f['properties']['color']}).add_to(m)\n",
    "drawgeoframe[[\"geom\", \"color\", \"Count\", \"MostCommonTransport\"]].rename(columns={\"geom\": \"geometry\"}).to_file(\"../static/data/exode_lines.geojson\", driver=\"GeoJSON\")\n",
    "m"
   ]
  },
  {
   "cell_type": "code",
   "execution_count": null,
   "id": "72436516",
   "metadata": {},
   "outputs": [],
   "source": [
    "geofence_idf_geometry = geofence_idf.geometry\n",
    "\n",
    "# Convert the DataFrame to a GeoDataFrame\n",
    "gdf = gpd.GeoDataFrame(df, geometry=gpd.points_from_xy(df.starting_longitude, df.starting_latitude), crs=\"EPSG:4326\")\n",
    "\n",
    "# Filter points outside the geofence\n",
    "gdf_from_idf = gdf[~gdf.geometry.within(geofence_idf_geometry)]\n",
    "\n",
    "# Create end_geometry for the end points\n",
    "gdf_from_idf['end_geometry'] = gpd.points_from_xy(gdf_from_idf.ending_longitude, gdf_from_idf.ending_latitude)\n",
    "\n",
    "# Filter points where end location is inside the geofence\n",
    "gdf_enter_idf = gdf_from_idf[gdf_from_idf['end_geometry'].within(geofence_idf_geometry)]\n",
    "\n",
    "# Drop the temporary 'end_geometry' column if not needed\n",
    "gdf_enter_idf = gdf_enter_idf.drop(columns='end_geometry')\n",
    "gdf_enter_idf\n"
   ]
  },
  {
   "cell_type": "code",
   "execution_count": null,
   "id": "cd083f8f",
   "metadata": {},
   "outputs": [],
   "source": [
    "def most_common_value(series):\n",
    "    return series.mode().iloc[0]\n",
    "dfh3 = gdf_enter_idf[gdf_enter_idf[\"start_time\"] > \"2024-05-10\"].h3.geo_to_h3(4, lat_col=\"starting_latitude\", lng_col=\"starting_longitude\", set_index=False)\n",
    "df_unique_user = dfh3.drop_duplicates(subset=['h3_04', 'user_id'])\n",
    "drawgeoframe = df_unique_user[['h3_04', 'top_transportation_mode_tr']].groupby(['h3_04']).agg(Count=('h3_04', np.size), MostCommonTransport=('top_transportation_mode_tr', most_common_value))\n",
    "drawgeoframe=drawgeoframe.reset_index().set_index('h3_04')\n",
    "drawgeoframe = drawgeoframe[drawgeoframe['Count'] > 3]\n",
    "drawgeoframe = drawgeoframe.h3.h3_to_geo()\n",
    "drawgeoframe[\"center_geom\"] = drawgeoframe[\"geometry\"]\n",
    "drawgeoframe = drawgeoframe.h3.h3_to_geo_boundary()\n",
    "drawgeoframe"
   ]
  },
  {
   "cell_type": "code",
   "execution_count": null,
   "id": "8abf9102",
   "metadata": {},
   "outputs": [],
   "source": [
    "fixed_point = Point(2.333333, 48.866667)\n",
    "\n",
    "# Function to create a line from the fixed point to each point\n",
    "def create_line(point):\n",
    "    return LineString([fixed_point, point])\n",
    "\n",
    "# Apply the function to each geometry in the GeoDataFrame\n",
    "drawgeoframe['geom'] = drawgeoframe['center_geom'].apply(create_line)"
   ]
  },
  {
   "cell_type": "code",
   "execution_count": null,
   "id": "0ad883b6",
   "metadata": {},
   "outputs": [],
   "source": [
    "colormap = {\n",
    "    \"PLANE\": \"red\",\n",
    "    \"PASSENGER_CAR\": \"orange\",\n",
    "    \"RAIL_TRIP\": \"green\",\n",
    "    \"HIGH_SPEED_TRAIN\": \"green\",\n",
    "    \"FOOT\": \"black\" # wtf\n",
    "}\n",
    "drawgeoframe[\"color\"] = drawgeoframe[\"MostCommonTransport\"].apply(lambda x: colormap.get(x))\n",
    "\n",
    "start_lat = 48.8915079\n",
    "start_long = 2.3495425\n",
    "m = folium.Map(location=[start_lat, start_long], zoom_start=13)\n",
    "folium.GeoJson(drawgeoframe[[\"geometry\", \"color\"]], style_function=lambda f: {\"color\": f['properties']['color']}).add_to(m)\n",
    "drawgeoframe[[\"geometry\", \"color\", \"Count\", \"MostCommonTransport\"]].to_file(\"../static/data/inxode.geojson\", driver=\"GeoJSON\")\n",
    "folium.GeoJson(drawgeoframe[[\"geom\", \"color\", \"Count\"]].rename(columns={\"geom\": \"geometry\"}), style_function=lambda f: {\"weight\": int(f['properties']['Count'])/100, \"color\": f['properties']['color']}).add_to(m)\n",
    "drawgeoframe[[\"geom\", \"color\", \"Count\", \"MostCommonTransport\"]].rename(columns={\"geom\": \"geometry\"}).to_file(\"../static/data/inxode_lines.geojson\", driver=\"GeoJSON\")\n",
    "m"
   ]
  },
  {
   "cell_type": "code",
   "execution_count": null,
   "id": "a302a006",
   "metadata": {},
   "outputs": [],
   "source": []
  },
  {
   "cell_type": "code",
   "execution_count": null,
   "id": "984762b8",
   "metadata": {},
   "outputs": [],
   "source": []
  }
 ],
 "metadata": {
  "kernelspec": {
   "display_name": "Python 3 (ipykernel)",
   "language": "python",
   "name": "python3"
  },
  "language_info": {
   "codemirror_mode": {
    "name": "ipython",
    "version": 3
   },
   "file_extension": ".py",
   "mimetype": "text/x-python",
   "name": "python",
   "nbconvert_exporter": "python",
   "pygments_lexer": "ipython3",
   "version": "3.9.16"
  }
 },
 "nbformat": 4,
 "nbformat_minor": 5
}
