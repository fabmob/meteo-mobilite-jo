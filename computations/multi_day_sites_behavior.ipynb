{
 "cells": [
  {
   "cell_type": "markdown",
   "metadata": {},
   "source": [
    "**Statistical site data over all days**\n",
    "\n",
    "Reads:\n",
    "* Regular input csv for all days, without gps\n",
    "\n",
    "Outputs:\n",
    "* '../static/data/sites/sites_behavior.json'\n",
    "\n",
    "The output json contains many information on overall visitor behavior per site, such as total trips, total users, average trip duration, favorite transport mode, other sites visited by users and previous site visited before this one\n",
    "\n",
    "\n",
    "TODO: some cleanup / documentation needed\n"
   ]
  },
  {
   "cell_type": "code",
   "execution_count": null,
   "metadata": {},
   "outputs": [],
   "source": [
    "# Configuration\n",
    "OUTPUT_SITE_BEHAVIOR_FILE = '../static/data/sites/sites_behavior.json'"
   ]
  },
  {
   "cell_type": "code",
   "execution_count": null,
   "metadata": {},
   "outputs": [],
   "source": [
    "import pandas as pd\n",
    "import geopandas as gpd\n",
    "import h3pandas\n",
    "from shapely.geometry import Point, Polygon, LineString\n",
    "import json\n",
    "import folium\n",
    "import os\n",
    "import numpy as np"
   ]
  },
  {
   "cell_type": "code",
   "execution_count": null,
   "metadata": {},
   "outputs": [],
   "source": [
    "li = []\n",
    "li.append(pd.read_csv(\"sources/data_france_2024-07-24.csv\"))\n",
    "li.append(pd.read_csv(\"sources/data_france_2024-07-25.csv\"))\n",
    "li.append(pd.read_csv(\"sources/data_france_2024-07-26.csv\"))\n",
    "li.append(pd.read_csv(\"sources/data_france_2024-07-27.csv\"))\n",
    "li.append(pd.read_csv(\"sources/data_france_2024-07-28.csv\"))\n",
    "li.append(pd.read_csv(\"sources/data_france_2024-07-29.csv\"))\n",
    "li.append(pd.read_csv(\"sources/data_france_2024-07-30.csv\"))\n",
    "li.append(pd.read_csv(\"sources/data_france_2024-07-31.csv\"))\n",
    "li.append(pd.read_csv(\"sources/data_france_2024-08-01.csv\"))\n",
    "# li.append(pd.read_csv(\"sources/data_france_2024-08-02.csv\"))\n",
    "# li.append(pd.read_csv(\"sources/data_france_2024-08-03.csv\"))\n",
    "# li.append(pd.read_csv(\"sources/data_france_2024-08-04.csv\"))\n",
    "df_src = pd.concat(li, axis=0, ignore_index=True)"
   ]
  },
  {
   "cell_type": "code",
   "execution_count": null,
   "metadata": {},
   "outputs": [],
   "source": [
    "df_src = df_src.rename(columns={\"moover_id\": \"user_id\"})"
   ]
  },
  {
   "cell_type": "code",
   "execution_count": null,
   "metadata": {},
   "outputs": [],
   "source": [
    "tr = {\n",
    "-10 : \"NOT_DEFINED\",\n",
    "0 : \"UNKNOWN\",\n",
    "1 : \"PASSENGER_CAR\",\n",
    "2 : \"MOTORCYCLE\",\n",
    "3 : \"HEAVY_DUTY_VEHICLE\",\n",
    "4 : \"BUS\",\n",
    "5 : \"COACH\",\n",
    "6 : \"RAIL_TRIP\",\n",
    "7 : \"BOAT_TRIP\",\n",
    "8 : \"BIKE_TRIP\",\n",
    "9 : \"PLANE\",\n",
    "10 : \"SKI\",\n",
    "11 : \"FOOT\",\n",
    "12 : \"IDLE\",\n",
    "13 : \"OTHER\",\n",
    "101 : \"SCOOTER\",\n",
    "102 : \"HIGH_SPEED_TRAIN\"\n",
    "}\n",
    "df_src['transportation_mode_tr'] = df_src['transportation_mode'].apply(lambda x: tr[x])"
   ]
  },
  {
   "cell_type": "code",
   "execution_count": null,
   "metadata": {},
   "outputs": [],
   "source": [
    "df = df_src.groupby(\"journey_id\").agg(\n",
    "    journey_starting_longitude=('starting_longitude', 'first'),\n",
    "    journey_starting_latitude=('starting_latitude', 'first'),\n",
    "    journey_ending_longitude=('ending_longitude', 'last'),\n",
    "    journey_ending_latitude=('ending_latitude', 'last'),\n",
    "    start_time=('start_time', 'first'),\n",
    "    end_time=('end_time', 'last'),\n",
    "    user_id=('user_id', 'last')\n",
    ").reset_index()\n",
    "df"
   ]
  },
  {
   "cell_type": "code",
   "execution_count": null,
   "metadata": {},
   "outputs": [],
   "source": [
    "# Convert columns to datetime\n",
    "df['start_time'] = pd.to_datetime(df['start_time'], format=\"mixed\")\n",
    "df['end_time'] = pd.to_datetime(df['end_time'], format=\"mixed\")\n",
    "\n",
    "# Calculate duration in seconds\n",
    "df['duration'] = (df['end_time'] - df['start_time']).dt.total_seconds()"
   ]
  },
  {
   "cell_type": "code",
   "execution_count": null,
   "metadata": {},
   "outputs": [],
   "source": [
    "dfh3 = df.h3.geo_to_h3(9, lat_col=\"journey_starting_latitude\", lng_col=\"journey_starting_longitude\", set_index=False)\n",
    "dfh3[\"start_h3\"] = dfh3[\"h3_09\"]\n",
    "dfh3 = dfh3.h3.geo_to_h3(9, lat_col=\"journey_ending_latitude\", lng_col=\"journey_ending_longitude\", set_index=False)\n",
    "dfh3[\"end_h3\"] = dfh3[\"h3_09\"]"
   ]
  },
  {
   "cell_type": "code",
   "execution_count": null,
   "metadata": {},
   "outputs": [],
   "source": [
    "# h3 level 9 cells loosely covering every olympic location\n",
    "# For bigger sites, we try to cover the whole site with many cells\n",
    "# There might be imprecisions:\n",
    "# * With people parking far outside the cell (even though the trip should continue with a walking segment)\n",
    "# * With people stopping in the cell, but not going to the Olympic location (very true for locations near train stations)\n",
    "# * With people moving within the cell\n",
    "\n",
    "SITES_OLYMPIQUES = {\n",
    "    #\"saint_lazare\": {\"h3\": [\"891fb475b37ffff\"]},\n",
    "    #\"gare_du_nord\": {\"h3\": [\"891fb4660dbffff\"]},\n",
    "    #\"gare_de_lest\": {\"h3\": [\"891fb466053ffff\", \"891fb4660cfffff\", \"891fb4660cbffff\"]},\n",
    "    \"addidas_arena\": {\"name\": \"Arena Porte de La Chapelle\", \"h3\": [\"891fb4664afffff\", \"891fb4664abffff\", \"891fb466433ffff\"]},\n",
    "    \"pont_alexandre_trois\": {\"name\": \"Pont Alexandre III\", \"h3\": [\"891fb4675d3ffff\"]},\n",
    "    \"invalides\": {\"name\": \"Invalides\", \"h3\": [\"891fb4675dbffff\"]},\n",
    "    \"grand_palais\": {\"name\": \"Grand Palais\", \"h3\": [\"891fb475b6bffff\"]},\n",
    "    \"tour_eiffel\": {\"name\": \"Stade Tour Eiffel\", \"h3\": [\"891fb46741bffff\", \"891fb467413ffff\", \"891fb467403ffff\", \"891fb46740bffff\"]},\n",
    "    \"trocadero\": {\"name\": \"Trocadéro\", \"h3\": [\"891fb4674d7ffff\"]},\n",
    "    \"grand_palais_ephemere\": {\"name\": \"Arena Champ-de-Mars\", \"h3\": [\"891fb467477ffff\"]},\n",
    "    \"place_concorde\": {\"name\": \"La Concorde\", \"h3\": [\"891fb46759bffff\"]},\n",
    "    \"porte_versailles\": {\"name\": \"Arena Paris Sud\", \"h3\": [\"891fb467673ffff\"]},\n",
    "    \"arena_bercy\": {\"name\": \"Arena Bercy\", \"h3\": [\"891fb46440fffff\"]},\n",
    "    \"parc_des_princes\": {\"name\": \"Parc des Princes\", \"h3\": [\"891fb462b8bffff\",\"891fb462b8fffff\", \"891fb462b13ffff\"]},\n",
    "    \"rolland_garros\": {\"name\": \"Stade Roland-Garros\", \"h3\": [\"891fb462867ffff\"]},\n",
    "    \"la_defense_arena\": {\"name\": \"Paris La Défense Arena\", \"h3\": [\"891fb475313ffff\", \"891fb47538fffff\"]},\n",
    "    \"stade_de_france\": {\"name\": \"Stade de France\", \"h3\": [\"891fb474b83ffff\", \"891fb474b9bffff\", \"891fb474b93ffff\", \"891fb474b97ffff\", \"891fb474b87ffff\"]},\n",
    "    \"villepinte\" : {\"name\": \"Arena Paris Nord\", \"h3\": [\"891fb428197ffff\", \"891fb42aa5bffff\" , \"891fb42aa4bffff\", \"891fb42aa43ffff\", \"891fb42aa57ffff\", \"891fb4281b3ffff\", \"891fb42aa4fffff\", \"891fb42aa47ffff\", \"891fb42aa0bffff\", \"891fb4281b7ffff\", \"891fb42aa7bffff\", \"891fb42aa73ffff\", \"891fb42aa0fffff\", \"891fb42aa6bffff\", \"891fb42aa63ffff\", \"891fb42aa77ffff\", \"891fb42aa3bffff\", \"891fb42aa67ffff\", \"891fb42aa2bffff\"]},\n",
    "    \"centre_aquatique_st_denis\" : {\"name\": \"Centre Aquatique\", \"h3\": [\"891fb474b9bffff\"]},\n",
    "    \"tir_chateauroux\" : {\"name\": \"Centre National de Tir de Châteauroux\", \"h3\": [\"89186dd5027ffff\", \"89186dd51cbffff\", \"89186dd515bffff\", \"89186dd5153ffff\", \"89186dd51cfffff\", \"89186dd514bffff\", \"89186dd5143ffff\", \"89186dd5157ffff\", \"89186dd514fffff\", \"89186dd5147ffff\", \"89186dd510bffff\", \"89186dd5173ffff\", \"89186dd510fffff\"]},\n",
    "    \"chateau_de_versailles\" : {\"name\": \"Château de Versailles\", \"h3\": [\"891fb4632d3ffff\", \"891fb4632c3ffff\", \"891fb4632d7ffff\", \"891fb4632c7ffff\"]},\n",
    "    \"colline_elancourt\" : {\"name\": \"Colline d'Elancourt\", \"h3\": [\"891fb4782afffff\", \"891fb478237ffff\", \"891fb478233ffff\", \"891fb4782abffff\", \"891fb478207ffff\", \"891fb47823bffff\", \"891fb4783c3ffff\"]},\n",
    "    \"hotel_de_ville\" : {\"name\": \"Hôtel de Ville\", \"h3\": [\"891fb466257ffff\"]},\n",
    "    \"golf_national\" : {\"name\": \"Golf National\", \"h3\": [\"891fb46a437ffff\", \"891fb46a5cbffff\", \"891fb46a5c3ffff\", \"891fb46a5cfffff\", \"891fb46a51bffff\", \"891fb46a503ffff\"]},\n",
    "    \"marina_marseille\" : {\"name\": \"Marina de Marseille\", \"h3\": [\"89396802127ffff\", \"89396802c5bffff\", \"8939680212fffff\", \"89396802e97ffff\", \"89396802c4bffff\"]},\n",
    "    \"bourget\" : {\"name\": \"Site d'escalade Bourget\", \"h3\": [\"891fb429437ffff\", \"891fb429423ffff\", \"891fb429427ffff\"]},\n",
    "    \"saint_quentin\" : {\"name\": \"Saint-Quentin-en-Yvelines\", \"h3\": [\"891fb478e37ffff\", \"891fb4788cbffff\", \"891fb4788cfffff\", \"891fb478e23ffff\", \"891fb478e27ffff\", \"891fb478853ffff\"]},\n",
    "    \"bordeaux\" : {\"name\": \"Stade de Bordeaux\", \"h3\": [\"89186b6c553ffff\", \"89186b6c5cfffff\", \"89186b6c557ffff\", \"89186b6c51bffff\", \"89186b6c5cbffff\", \"89186b6c5c3ffff\"]},\n",
    "    \"nantes\" : {\"name\": \"Stade de la Beaujoire\", \"h3\": [\"8918458458fffff\", \"89184584587ffff\", \"89184584583ffff\", \"89184584597ffff\", \"89184586e4bffff\"]},\n",
    "    \"lyon\" : {\"name\": \"Stade de Lyon\", \"h3\": [\"891f9025dafffff\", \"891f9024adbffff\", \"891f9025d33ffff\", \"891f9025d37ffff\", \"891f9024acbffff\", \"891f9025d23ffff\", \"891f9025d27ffff\", \"891f9024a5bffff\"]},\n",
    "    \"stade_marseille\" : {\"name\": \"Stade de Marseille\", \"h3\": [\"89396802c2bffff\", \"89396802c2fffff\", \"89396802893ffff\", \"89396802897ffff\"]},\n",
    "    \"nice\" : {\"name\": \"Stade de Nice\", \"h3\": [\"893969a001bffff\", \"893969a0057ffff\", \"893969a000bffff\", \"893969a0003ffff\"]},\n",
    "    \"saint_etienne\" : {\"name\": \"Stade Geoffroy-Guichard\", \"h3\": [\"891f9060cc7ffff\", \"891f9060ccfffff\", \"891f9060c1bffff\"]},\n",
    "    \"vaires_sur_marne\" : {\"name\": \"Stade Nautique de Vaires-sur-Marne\", \"h3\": [\"891fb092e77ffff\", \"891fb092e2fffff\", \"891fb09285bffff\", \"891fb092e63ffff\", \"891fb092e67ffff\", \"891fb092a93ffff\", \"891fb092a97ffff\", \"891fb092e6fffff\", \"891fb092a9bffff\", \"891fb092a83ffff\", \"891fb092ad7ffff\", \"891fb092a8bffff\", \"891fb092a8fffff\", \"891fb092abbffff\"]},\n",
    "    \"lille\" : {\"name\": \"Stade Pierre Mauroy\", \"h3\": [\"89194d28ac7ffff\", \"89194d28a8bffff\", \"89194d28a83ffff\", \"89194d28a1bffff\", \"89194d28a13ffff\", \"89194d28a8fffff\", \"89194d28a03ffff\", \"89194d28a17ffff\"]},\n",
    "    \"colombes\" : {\"name\": \"Stade Yves-du-Manoir\", \"h3\": [\"891fb4742c7ffff\", \"891fb474213ffff\", \"891fb4742cfffff\", \"891fb47421bffff\", \"891fb474203ffff\", \"891fb474257ffff\", \"891fb47420bffff\"]},\n",
    "    #\"tahiti\" : {\"name\": \"Teahupo'o, Tahiti\", \"h3\": []}\n",
    "}"
   ]
  },
  {
   "cell_type": "code",
   "execution_count": null,
   "metadata": {},
   "outputs": [],
   "source": [
    "# Create an inverted dictionary for fast lookups\n",
    "h3_to_site = {}\n",
    "for site, info in SITES_OLYMPIQUES.items():\n",
    "    for h3 in info[\"h3\"]:\n",
    "        h3_to_site[h3] = info[\"name\"]"
   ]
  },
  {
   "cell_type": "code",
   "execution_count": null,
   "metadata": {},
   "outputs": [],
   "source": [
    "# Define the optimized find_site function\n",
    "def find_site(h3cell):\n",
    "    return h3_to_site.get(h3cell, None)\n",
    "dfh3[\"start_site\"] = dfh3[\"start_h3\"].apply(find_site)\n",
    "dfh3[\"end_site\"] = dfh3[\"end_h3\"].apply(find_site)"
   ]
  },
  {
   "cell_type": "code",
   "execution_count": null,
   "metadata": {},
   "outputs": [],
   "source": [
    "df_filtered = dfh3[dfh3[\"end_site\"].notna()][dfh3[\"end_site\"] != dfh3[\"start_site\"]]\n",
    "df_filtered"
   ]
  },
  {
   "cell_type": "code",
   "execution_count": null,
   "metadata": {},
   "outputs": [],
   "source": [
    "# Sort the DataFrame by user_id and end_time\n",
    "df_filtered = df_filtered.sort_values(by=['user_id', 'end_time'])\n",
    "\n",
    "# Create the previous_site and previous_end_time columns\n",
    "df_filtered['previous_site'] = df_filtered.groupby('user_id')['end_site'].shift(1)\n",
    "df_filtered['previous_end_time'] = df_filtered.groupby('user_id')['end_time'].shift(1)\n",
    "\n",
    "# Calculate time_since_previous_site\n",
    "df_filtered['time_since_previous_site'] = df_filtered['end_time'] - df_filtered['previous_end_time']"
   ]
  },
  {
   "cell_type": "code",
   "execution_count": null,
   "metadata": {},
   "outputs": [],
   "source": [
    "df_filtered['previous_site'] = df_filtered['previous_site'].fillna(\"Aucun\")"
   ]
  },
  {
   "cell_type": "code",
   "execution_count": null,
   "metadata": {},
   "outputs": [],
   "source": [
    "df_filtered"
   ]
  },
  {
   "cell_type": "code",
   "execution_count": null,
   "metadata": {},
   "outputs": [],
   "source": [
    "gp = df_filtered.groupby([\"end_site\", \"previous_site\"]).agg(TotalOccurence=(\"journey_id\", \"count\"), UniqueUsers=(\"user_id\", \"nunique\"), MeanDuration=(\"time_since_previous_site\", \"mean\")).sort_values(by=['end_site', 'TotalOccurence'])\n",
    "# with pd.option_context('display.max_rows', None, 'display.max_columns', None):\n",
    "#     display(gp)\n",
    "gp"
   ]
  },
  {
   "cell_type": "code",
   "execution_count": null,
   "metadata": {},
   "outputs": [],
   "source": [
    "df_filter = dfh3[dfh3[\"end_site\"].notna()]\n",
    "df_filter = df_filter[df_filter[\"end_site\"] != df_filter[\"start_site\"]]\n",
    "#display(df_filter[df_filter[\"end_site\"] == \"Arena Paris Nord\"].sort_values(by=\"user_id\"))\n",
    "merged = df_filter.reset_index().merge(df_filter.reset_index(), on='user_id')\n",
    "merged = merged[merged.index_x != merged.index_y]\n",
    "gp2 = merged.groupby([\"end_site_x\", \"end_site_y\"]).agg(UniqueJourneys=(\"journey_id_y\", \"nunique\"), UniqueUsers=(\"user_id\", 'nunique'))\n",
    "#gp2[\"AvgVisits\"] = gp2[\"UniqueJourneys\"] / gp2[\"UniqueUsers\"]\n",
    "\n",
    "#with pd.option_context('display.max_rows', None, 'display.max_columns', None):\n",
    "#    display(gp2.sort_values(by=[\"end_site_x\", \"UniqueJourneys\"], ascending=[True, False]))\n",
    "#display(gp2[gp2.index.isin([\"Arena Paris Nord\"], level=0)].sort_values(by=[\"end_site_x\", \"UniqueJourneys\"], ascending=[True, False]))\n",
    "# display(df_filter[df_filter['user_id'] == 1117])\n",
    "# display(merged[merged['user_id'] == 1117])\n",
    "\n",
    "# display(df_filter[df_filter['user_id'] == 30369])\n",
    "# display(merged[merged['user_id'] == 30369])"
   ]
  },
  {
   "cell_type": "code",
   "execution_count": null,
   "metadata": {},
   "outputs": [],
   "source": [
    "# import branca.colormap as cm\n",
    "# colormap = cm.LinearColormap([\"green\", 'yellow', \"red\"], vmin=1, vmax=gp[\"UniqueUsers\"].max())\n",
    "# unstack = gp[\"UniqueUsers\"].unstack()\n",
    "# def color(val):\n",
    "#     if not np.isnan(val):\n",
    "#         return 'background-color: %s' % colormap(val)\n",
    "#     return \"background-color: lightgray\"\n",
    "# unstack.style.map(color).format(precision=0)"
   ]
  },
  {
   "cell_type": "code",
   "execution_count": null,
   "metadata": {},
   "outputs": [],
   "source": [
    "df_filter"
   ]
  },
  {
   "cell_type": "code",
   "execution_count": null,
   "metadata": {},
   "outputs": [],
   "source": [
    "totals = df_filter.groupby(\"end_site\").agg(TotalUniqueJourneys=(\"journey_id\", \"nunique\"), TotalUniqueUsers=(\"user_id\", 'nunique'), MeanTripDurationSeconds=(\"duration\", \"median\"))\n",
    "totals"
   ]
  },
  {
   "cell_type": "code",
   "execution_count": null,
   "metadata": {},
   "outputs": [],
   "source": [
    "# Convert columns to datetime\n",
    "df_src['start_time'] = pd.to_datetime(df_src['start_time'], format=\"mixed\")\n",
    "df_src['end_time'] = pd.to_datetime(df_src['end_time'], format=\"mixed\")\n",
    "\n",
    "# Calculate duration in seconds\n",
    "df_src['duration'] = (df_src['end_time'] - df_src['start_time']).dt.total_seconds()\n",
    "\n",
    "agg_duration = df_src.groupby(['journey_id', 'transportation_mode_tr']).agg(\n",
    "    JourneyTransportDuration=('duration', 'sum')\n",
    ").reset_index()\n",
    "#agg_duration\n",
    "# # Sort the duration aggregation and find the top two transportation modes for each journey\n",
    "# agg_duration_sorted = agg_duration.sort_values(by=['journey_id', 'total_duration'], ascending=[True, False])\n",
    "\n",
    "# # Get the top transportation modes for each journey\n",
    "# agg_duration_top = agg_duration_sorted.groupby('journey_id').head(1).reset_index(drop=True)\n",
    "# agg_duration_top"
   ]
  },
  {
   "cell_type": "code",
   "execution_count": null,
   "metadata": {},
   "outputs": [],
   "source": [
    "merge_back = df_filter.merge(agg_duration, how='left', on=\"journey_id\")\n",
    "mb = merge_back.groupby([\"end_site\", \"transportation_mode_tr\"]).agg(MeanTransportDuration=(\"JourneyTransportDuration\", 'median'), MeanJourneyDuration=(\"duration\", 'median'), Count=(\"journey_id\", \"count\"))\n",
    "mb_sorted = mb.sort_values(by=[\"end_site\",\"Count\"], ascending=[True, False]).reset_index()\n",
    "gp3 = mb_sorted[mb_sorted[\"transportation_mode_tr\"] != \"FOOT\"].groupby('end_site').head(1)"
   ]
  },
  {
   "cell_type": "code",
   "execution_count": null,
   "metadata": {},
   "outputs": [],
   "source": [
    "gp"
   ]
  },
  {
   "cell_type": "code",
   "execution_count": null,
   "metadata": {},
   "outputs": [],
   "source": [
    "gp2"
   ]
  },
  {
   "cell_type": "code",
   "execution_count": null,
   "metadata": {},
   "outputs": [],
   "source": [
    "gp3"
   ]
  },
  {
   "cell_type": "code",
   "execution_count": null,
   "metadata": {},
   "outputs": [],
   "source": [
    "result = {}\n",
    "\n",
    "for index, row in gp.reset_index().iterrows():\n",
    "    end_site = row['end_site']\n",
    "    previous_site = row['previous_site']\n",
    "    total_occurrence = row['TotalOccurence']\n",
    "    mean_duration = row['MeanDuration']\n",
    "    \n",
    "    if end_site not in result:\n",
    "        result[end_site] = {}\n",
    "    \n",
    "    result[end_site][previous_site] = {\n",
    "        'times_this_was_the_previous_visited_site': total_occurrence,\n",
    "        'mean_duration_between_visits_in_hours': mean_duration.total_seconds() / 60 / 60\n",
    "    }\n",
    "    if np.isnan(result[end_site][previous_site]['mean_duration_between_visits_in_hours']):\n",
    "        result[end_site][previous_site]['mean_duration_between_visits_in_hours'] = 0\n",
    "\n",
    "for index, row in gp2.reset_index().iterrows():\n",
    "    end_site = row['end_site_x']\n",
    "    other_site = row['end_site_y']\n",
    "    \n",
    "    if end_site not in result:\n",
    "        result[end_site] = {}\n",
    "    \n",
    "    if other_site not in result[end_site]:\n",
    "        result[end_site][other_site] = {}\n",
    "    \n",
    "    result[end_site][other_site][\"times_this_was_also_visited\"] = row[\"UniqueJourneys\"]\n",
    "    result[end_site][other_site][\"unique_users_who_also_visited\"] = row[\"UniqueUsers\"]\n",
    "\n",
    "for index, row in totals.reset_index().iterrows():\n",
    "    end_site = row['end_site']\n",
    "    \n",
    "    if end_site not in result:\n",
    "        result[end_site] = {}\n",
    "    \n",
    "    result[end_site][\"total_unique_journeys\"] = row[\"TotalUniqueJourneys\"]\n",
    "    result[end_site][\"total_unique_users\"] = row[\"TotalUniqueUsers\"]\n",
    "    result[end_site][\"average_visits_per_user\"] = row[\"TotalUniqueJourneys\"] / row[\"TotalUniqueUsers\"]\n",
    "    result[end_site][\"mean_trip_duration_seconds\"] = row[\"MeanTripDurationSeconds\"]\n",
    "\n",
    "for index, row in gp3.reset_index().iterrows():\n",
    "    end_site = row['end_site']\n",
    "    \n",
    "    if end_site not in result:\n",
    "        result[end_site] = {}\n",
    "    \n",
    "    result[end_site][\"most_common_transport\"] = row[\"transportation_mode_tr\"]\n",
    "    result[end_site][\"most_common_transport_total_unique_journeys\"] = row[\"Count\"]\n",
    "    result[end_site][\"mean_trip_duration_seconds_including_most_common_transport\"] = row[\"MeanJourneyDuration\"]\n",
    "    result[end_site][\"mean_trip_duration_seconds_with_most_common_transport\"] = row[\"MeanTransportDuration\"]\n"
   ]
  },
  {
   "cell_type": "code",
   "execution_count": null,
   "metadata": {},
   "outputs": [],
   "source": [
    "with open(OUTPUT_SITE_BEHAVIOR_FILE, 'w') as f:\n",
    "    f.write(json.dumps(result, indent=4))"
   ]
  },
  {
   "cell_type": "code",
   "execution_count": null,
   "metadata": {},
   "outputs": [],
   "source": []
  }
 ],
 "metadata": {
  "kernelspec": {
   "display_name": "emission",
   "language": "python",
   "name": "python3"
  },
  "language_info": {
   "codemirror_mode": {
    "name": "ipython",
    "version": 3
   },
   "file_extension": ".py",
   "mimetype": "text/x-python",
   "name": "python",
   "nbconvert_exporter": "python",
   "pygments_lexer": "ipython3",
   "version": "3.9.16"
  }
 },
 "nbformat": 4,
 "nbformat_minor": 2
}
