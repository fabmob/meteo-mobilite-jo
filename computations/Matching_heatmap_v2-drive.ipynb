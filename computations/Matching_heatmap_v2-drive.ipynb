{
 "cells": [
  {
   "cell_type": "markdown",
   "id": "29d594a1",
   "metadata": {},
   "source": [
    "**Computes road usage using map matching technology (nrel/mappymatch)**\n",
    "\n",
    "Map matching is a computation intensive task, and can give imprecise results when GPS data wasn't recorded at high enough frequency.\n",
    "\n",
    "**Input**: \"sources/data.csv\" csv using the following columns:\n",
    "* `transportation_mode`: used mode of transport for the trip, only passenger_car (1) and bike_trip (8) are considered here\n",
    "* `start_time`: datetime of begining of trip\n",
    "* `end_time`: datetime of end of trip\n",
    "* `trace_gps`: list of (lon, lat) tuples\n",
    "* `longitude`, `latitude`: coords of starting point (also included as first point of `trace_gps`)\n",
    "\n",
    "**Input**: \"sources/paris.geojson\" Shape representation of Paris, to filter results to the inner city and improve performance\n",
    "\n",
    "**Output**: geoJSON files \"../static/data/car.geojson\" and \"../static/data/bike.geojson containing road shapes with the following metadata:\n",
    "* `road_id`: An identifier for the road, expressed as two points\n",
    "* `count`: Total number of trips on the road segment\n",
    "* `stroke`: A color representation of `count`, from green to red\n",
    "\n",
    "For anonymity, there must be at least 5 trips in a given road for data to be considered\n"
   ]
  },
  {
   "cell_type": "code",
   "execution_count": null,
   "id": "7a3eb413",
   "metadata": {},
   "outputs": [],
   "source": [
    "import pandas as pd\n",
    "from mappymatch.constructs.trace import Trace\n",
    "from mappymatch.utils.plot import plot_trace\n",
    "from mappymatch.constructs.geofence import Geofence\n",
    "from mappymatch.maps.nx.nx_map import NxMap, NetworkType\n",
    "from mappymatch.utils.plot import plot_map\n",
    "from mappymatch.matchers.lcss.lcss import LCSSMatcher\n",
    "from mappymatch.utils.plot import plot_matches\n",
    "from mappymatch.utils.plot import plot_path\n",
    "from mappymatch.utils.crs import LATLON_CRS, XY_CRS\n",
    "from shapely.geometry import Point\n",
    "import geopandas as gpd\n",
    "import folium\n",
    "import json\n"
   ]
  },
  {
   "cell_type": "code",
   "execution_count": null,
   "id": "cc585af2",
   "metadata": {},
   "outputs": [],
   "source": [
    "geofence = Geofence.from_geojson(\"sources/paris.geojson\")"
   ]
  },
  {
   "cell_type": "code",
   "execution_count": null,
   "id": "68a1ab9e",
   "metadata": {},
   "outputs": [],
   "source": [
    "nx_map = NxMap.from_geofence(geofence, network_type=NetworkType.DRIVE)"
   ]
  },
  {
   "cell_type": "code",
   "execution_count": null,
   "id": "907a46e8",
   "metadata": {
    "scrolled": true
   },
   "outputs": [],
   "source": [
    "#plot_map(nx_map)"
   ]
  },
  {
   "cell_type": "code",
   "execution_count": null,
   "id": "a7ca71b6",
   "metadata": {},
   "outputs": [],
   "source": [
    "matcher = LCSSMatcher(nx_map)"
   ]
  },
  {
   "cell_type": "code",
   "execution_count": null,
   "id": "d20d10ca",
   "metadata": {},
   "outputs": [],
   "source": [
    "df = pd.read_csv(\"sources/data.csv\")"
   ]
  },
  {
   "cell_type": "code",
   "execution_count": null,
   "id": "a6d3c758",
   "metadata": {},
   "outputs": [],
   "source": [
    "#df_in_paris = df[df.apply(lambda x: Point(x.longitude, x.latitude).within(geofence.geometry), axis=1)] \n",
    "df_in_paris = df"
   ]
  },
  {
   "cell_type": "code",
   "execution_count": null,
   "id": "2844305e",
   "metadata": {},
   "outputs": [],
   "source": [
    "df_in_paris_car = df_in_paris[df_in_paris['transportation_mode'] == 1] # 1 = passenger car\n",
    "df_in_paris_cycle = df_in_paris[df_in_paris['transportation_mode'] == 8] # 8 = bike trip"
   ]
  },
  {
   "cell_type": "code",
   "execution_count": null,
   "id": "2132c0fd",
   "metadata": {},
   "outputs": [],
   "source": [
    "%%time\n",
    "def gps_to_trace(gps):\n",
    "    t = json.loads(gps)\n",
    "    ddf = pd.DataFrame(t, columns=['lon','lat'])\n",
    "    ddf = ddf[ddf.apply(lambda x: Point(x.lon, x.lat).within(geofence.geometry), axis=1)]\n",
    "    if ddf.shape[0] == 0:\n",
    "        return None\n",
    "    trace = Trace.from_dataframe(ddf, lat_column='lat', lon_column='lon')\n",
    "    return trace\n",
    "df_in_paris_car['trace'] = df_in_paris_car['trace_gps'].apply(gps_to_trace)\n",
    "df_in_paris_cycle['trace'] = df_in_paris_cycle['trace_gps'].apply(gps_to_trace)"
   ]
  },
  {
   "cell_type": "code",
   "execution_count": null,
   "id": "785c01ca",
   "metadata": {},
   "outputs": [],
   "source": [
    "df_in_paris_car = df_in_paris_car[df_in_paris_car['trace'].notnull()]\n",
    "df_in_paris_cycle = df_in_paris_cycle[df_in_paris_cycle['trace'].notnull()]"
   ]
  },
  {
   "cell_type": "code",
   "execution_count": null,
   "id": "aea233fa",
   "metadata": {},
   "outputs": [],
   "source": [
    "#ddf = pd.DataFrame(df.iloc[11012]['trace_gps'], columns=['lon','lat'])\n",
    "#trace = Trace.from_dataframe(ddf, lat_column='lat', lon_column='lon')\n",
    "#df.iloc[11006]\n",
    "m = plot_trace(df_in_paris_car.iloc[0]['trace'])\n",
    "c = 0\n",
    "for t in df_in_paris_car['trace']:\n",
    "    c += 1\n",
    "    if c > 10:\n",
    "        break\n",
    "    plot_trace(t, m=m)\n",
    "m"
   ]
  },
  {
   "cell_type": "code",
   "execution_count": null,
   "id": "ee963807",
   "metadata": {},
   "outputs": [],
   "source": [
    "%%time\n",
    "\n",
    "#trace = df.iloc[11007]['trace']\n",
    "#df_in_paris_sample = df_in_paris#.sample(n=100)\n",
    "match_results_car = matcher.match_trace_batch(df_in_paris_car['trace'], processes=4)"
   ]
  },
  {
   "cell_type": "code",
   "execution_count": null,
   "id": "1ea30044",
   "metadata": {},
   "outputs": [],
   "source": [
    "%%time\n",
    "\n",
    "match_results_cycle = matcher.match_trace_batch(df_in_paris_cycle['trace'], processes=4)"
   ]
  },
  {
   "cell_type": "code",
   "execution_count": null,
   "id": "a01452dc",
   "metadata": {},
   "outputs": [],
   "source": [
    "import folium\n",
    "start_lat = 48.8915079\n",
    "start_long = 2.3495425\n",
    "curr_map = folium.Map(location = [start_lat, start_long], zoom_start = 17)\n",
    "for i in range(0, 10):\n",
    "    try:\n",
    "        plot_trace(df_in_paris_car.iloc[i]['trace'], point_color=\"blue\", m=plot_path(match_results_car[i].path, crs=df_in_paris_car.iloc[i]['trace'].crs, m=curr_map))\n",
    "    except:\n",
    "        pass\n",
    "curr_map"
   ]
  },
  {
   "cell_type": "code",
   "execution_count": null,
   "id": "a2b45a74",
   "metadata": {
    "scrolled": false
   },
   "outputs": [],
   "source": [
    "def combine(match_results):\n",
    "    df_combined = match_results[0].path_to_dataframe()\n",
    "    for match in match_results[1:]:\n",
    "        df_combined = pd.concat([df_combined, match.path_to_dataframe()], ignore_index=True)\n",
    "    road_counts = df_combined['road_id'].value_counts().reset_index()\n",
    "    road_counts.columns = ['road_id', 'count']\n",
    "    df_combined = df_combined.merge(road_counts, on='road_id')\n",
    "    return df_combined\n",
    "\n",
    "df_combined_car = combine(match_results_car)\n",
    "df_combined_cycle = combine(match_results_cycle)\n"
   ]
  },
  {
   "cell_type": "code",
   "execution_count": null,
   "id": "69d3927d",
   "metadata": {},
   "outputs": [],
   "source": [
    "df_combined_car_filter = df_combined_car[df_combined_car['count']>4]\n",
    "gdf_car = gpd.GeoDataFrame(df_combined_car_filter, geometry=df_combined_car_filter.geom, crs=XY_CRS)\n",
    "gdf_car = gdf_car.to_crs(LATLON_CRS)\n",
    "\n",
    "df_combined_cycle_filter = df_combined_cycle[df_combined_cycle['count']>4]\n",
    "gdf_cycle = gpd.GeoDataFrame(df_combined_cycle_filter, geometry=df_combined_cycle_filter.geom, crs=XY_CRS)\n",
    "gdf_cycle = gdf_cycle.to_crs(LATLON_CRS)"
   ]
  },
  {
   "cell_type": "code",
   "execution_count": null,
   "id": "5e6b8433",
   "metadata": {},
   "outputs": [],
   "source": [
    "# Export as geojson\n",
    "import branca.colormap as cm\n",
    "\n",
    "def convert_geojson(gdf, file):\n",
    "    # cleanup\n",
    "    gdf[\"road_id\"] = gdf[\"road_id\"].apply(str)\n",
    "    gdf[\"geom\"] = None\n",
    "\n",
    "    # Colorize\n",
    "    colormap = cm.LinearColormap([\"green\", \"yellow\", \"red\"], vmin=0, vmax=gdf[\"count\"].max())\n",
    "\n",
    "    gdf[\"stroke\"] = gdf[\"count\"].apply(lambda x: colormap(x)[:-2])\n",
    "\n",
    "    # Export\n",
    "    gdf.to_file(file, driver=\"GeoJSON\")\n",
    "\n",
    "convert_geojson(gdf_car, \"../static/data/car.geojson\")\n",
    "convert_geojson(gdf_cycle, \"../static/data/cycle.geojson\")"
   ]
  },
  {
   "cell_type": "code",
   "execution_count": null,
   "id": "d98a88fd",
   "metadata": {
    "scrolled": true
   },
   "outputs": [],
   "source": [
    "m = folium.Map(location=[start_lat, start_long], zoom_start=13)\n",
    "folium.TileLayer('openstreetmap').add_to(m)\n",
    "folium.TileLayer('cartodbdark_matter').add_to(m)\n",
    "# other mapping code (e.g. lines, markers etc.)\n",
    "folium.GeoJson(gdf_car, style_function=lambda f: {\"color\": f['properties']['stroke']}).add_to(m)\n",
    "folium.GeoJson(gdf_cycle, style_function=lambda f: {\"color\": f['properties']['stroke']}).add_to(m)\n",
    "folium.LayerControl().add_to(m)\n",
    "m"
   ]
  },
  {
   "cell_type": "code",
   "execution_count": null,
   "id": "35259345",
   "metadata": {},
   "outputs": [],
   "source": []
  }
 ],
 "metadata": {
  "kernelspec": {
   "display_name": "Python 3 (ipykernel)",
   "language": "python",
   "name": "python3"
  },
  "language_info": {
   "codemirror_mode": {
    "name": "ipython",
    "version": 3
   },
   "file_extension": ".py",
   "mimetype": "text/x-python",
   "name": "python",
   "nbconvert_exporter": "python",
   "pygments_lexer": "ipython3",
   "version": "3.9.16"
  }
 },
 "nbformat": 4,
 "nbformat_minor": 5
}
