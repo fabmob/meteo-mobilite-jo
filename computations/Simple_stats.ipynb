{
 "cells": [
  {
   "cell_type": "markdown",
   "id": "94bf5bd2",
   "metadata": {},
   "source": [
    "**Computes simple modal share statistics**\n",
    "\n",
    "**Input**: \"sources/data.csv\" csv using the following columns:\n",
    "* `transportation_mode`: used mode of transport for the trip (see table below)\n",
    "* `start_time`: datetime of begining of trip\n",
    "* `end_time`: datetime of end of trip\n",
    "* `trace_gps`: list of (lon, lat) tuples\n",
    "* `longitude`, `latitude`: coords of starting point (also included as first point of `trace_gps`)\n",
    "\n",
    "**Input**: \"sources/paris.geojson\" Shape representation of Paris, to filter results to the inner city\n",
    "\n",
    "**Output**: JSON file \"../static/data/modal_share_gps.json\" modal share per transport mode:\n",
    "```json\n",
    "{\n",
    "    \"BIKE_TRIP\":0.0538816023,\n",
    "    \"BUS\":0.0159517901,\n",
    "    \"FOOT\":0.6593406593,\n",
    "    \"HIGH_SPEED_TRAIN\":0.0001772421,\n",
    "    \"MOTORCYCLE\":0.0024813896,\n",
    "    \"PASSENGER_CAR\":0.066111308,\n",
    "    \"RAIL_TRIP\":0.193371145,\n",
    "    \"SCOOTER\":0.003190358,\n",
    "    \"UNKNOWN\":0.0054945055\n",
    "}\n",
    "```\n",
    "\n",
    "Also displays a few graphs on the way, that should be exported as json for frontend"
   ]
  },
  {
   "cell_type": "code",
   "execution_count": null,
   "id": "af4306ee",
   "metadata": {},
   "outputs": [],
   "source": [
    "import pandas as pd\n",
    "import geopandas as gpd"
   ]
  },
  {
   "cell_type": "code",
   "execution_count": null,
   "id": "f14b54bc",
   "metadata": {},
   "outputs": [],
   "source": [
    "df = pd.read_csv(\"sources/data.csv\")"
   ]
  },
  {
   "cell_type": "code",
   "execution_count": null,
   "id": "5e52d6df",
   "metadata": {},
   "outputs": [],
   "source": [
    "df"
   ]
  },
  {
   "cell_type": "code",
   "execution_count": null,
   "id": "d764d989",
   "metadata": {},
   "outputs": [],
   "source": [
    "tr = {\n",
    "-10 : \"NOT_DEFINED\",\n",
    "0 : \"UNKNOWN\",\n",
    "1 : \"PASSENGER_CAR\",\n",
    "2 : \"MOTORCYCLE\",\n",
    "3 : \"HEAVY_DUTY_VEHICLE\",\n",
    "4 : \"BUS\",\n",
    "5 : \"COACH\",\n",
    "6 : \"RAIL_TRIP\",\n",
    "7 : \"BOAT_TRIP\",\n",
    "8 : \"BIKE_TRIP\",\n",
    "9 : \"PLANE\",\n",
    "10 : \"SKI\",\n",
    "11 : \"FOOT\",\n",
    "12 : \"IDLE\",\n",
    "13 : \"OTHER\",\n",
    "101 : \"SCOOTER\",\n",
    "102 : \"HIGH_SPEED_TRAIN\"\n",
    "}\n",
    "df['transportation_mode_tr'] = df['transportation_mode'].apply(lambda x: tr[x])"
   ]
  },
  {
   "cell_type": "code",
   "execution_count": null,
   "id": "651d2222",
   "metadata": {},
   "outputs": [],
   "source": [
    "df.groupby(['transportation_mode_tr']).size().plot.pie(autopct='%1.1f%%')"
   ]
  },
  {
   "cell_type": "code",
   "execution_count": null,
   "id": "d442bbce",
   "metadata": {},
   "outputs": [],
   "source": [
    "times = pd.to_datetime(df.start_time)\n",
    "dfp = df[['start_time', 'transportation_mode_tr']].pivot_table(index=times.dt.hour, columns='transportation_mode_tr', aggfunc='count')\n",
    "dfp"
   ]
  },
  {
   "cell_type": "code",
   "execution_count": null,
   "id": "72fed1c4",
   "metadata": {},
   "outputs": [],
   "source": [
    "dfp.plot.bar(stacked=True)"
   ]
  },
  {
   "cell_type": "code",
   "execution_count": null,
   "id": "a305d494",
   "metadata": {},
   "outputs": [],
   "source": [
    "from mappymatch.constructs.geofence import Geofence\n",
    "from shapely.geometry import Point\n",
    "geofence = Geofence.from_geojson(\"sources/paris.geojson\")"
   ]
  },
  {
   "cell_type": "code",
   "execution_count": null,
   "id": "ad116241",
   "metadata": {},
   "outputs": [],
   "source": [
    "df_in_paris = df[df.apply(lambda x: Point(x.longitude, x.latitude).within(geofence.geometry), axis=1)]"
   ]
  },
  {
   "cell_type": "code",
   "execution_count": null,
   "id": "c9d15b71",
   "metadata": {},
   "outputs": [],
   "source": [
    "import json\n",
    "def filter_end(frame):\n",
    "    t = json.loads(frame['trace_gps'])[-1]\n",
    "    return Point(t[0], t[1]).within(geofence.geometry)\n",
    "df_in_paris_end = df_in_paris[df_in_paris.apply(filter_end, axis=1)]\n",
    "df_in_paris_end"
   ]
  },
  {
   "cell_type": "code",
   "execution_count": null,
   "id": "4da37cc4",
   "metadata": {},
   "outputs": [],
   "source": [
    "df_in_paris_end.groupby(['transportation_mode_tr']).size().plot.pie(autopct='%1.1f%%')"
   ]
  },
  {
   "cell_type": "code",
   "execution_count": null,
   "id": "93986bfe",
   "metadata": {},
   "outputs": [],
   "source": [
    "df_in_paris_end[(df_in_paris_end['transportation_mode_tr'] != 'RAIL_TRIP') & (df_in_paris_end['transportation_mode_tr'] != 'FOOT')].groupby(['transportation_mode_tr']).size().plot.pie(autopct='%1.1f%%')"
   ]
  },
  {
   "cell_type": "code",
   "execution_count": null,
   "id": "31e7eaa5",
   "metadata": {},
   "outputs": [],
   "source": [
    "modal_share_gps = (df_in_paris_end.groupby(['transportation_mode_tr']).size() / len(df_in_paris_end)).to_json()\n",
    "modal_share_gps"
   ]
  },
  {
   "cell_type": "code",
   "execution_count": null,
   "id": "7e5b0336",
   "metadata": {},
   "outputs": [],
   "source": [
    "with open('../static/data/modal_share_gps.json', 'w') as f:\n",
    "    f.write(modal_share_gps)\n"
   ]
  }
 ],
 "metadata": {
  "kernelspec": {
   "display_name": "Python 3 (ipykernel)",
   "language": "python",
   "name": "python3"
  },
  "language_info": {
   "codemirror_mode": {
    "name": "ipython",
    "version": 3
   },
   "file_extension": ".py",
   "mimetype": "text/x-python",
   "name": "python",
   "nbconvert_exporter": "python",
   "pygments_lexer": "ipython3",
   "version": "3.9.16"
  }
 },
 "nbformat": 4,
 "nbformat_minor": 5
}
