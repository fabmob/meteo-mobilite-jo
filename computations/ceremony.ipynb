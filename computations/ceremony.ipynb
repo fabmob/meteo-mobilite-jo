{
  "cells": [
    {
      "cell_type": "markdown",
      "id": "82f331bd",
      "metadata": {},
      "source": [
        "**Computes stats for the opening ceremony**\n",
        "\n",
        "Reads:\n",
        "* Regular input csv, with gps 'data.csv'\n",
        "* regular day data csv (generated with the same script) 'sources/h3_modal_mars.csv'\n",
        "\n",
        "Outputs:\n",
        "* '../static/data/ceremony/modal_share.json'\n",
        "* \"../static/data/ceremony_h3_modal_share.geojson\"\n",
        "* \"../static/data/ceremony_h3_modal_change.geojson\"\n",
        "\n"
      ]
    },
    {
      "cell_type": "code",
      "execution_count": null,
      "id": "53fc8aeb",
      "metadata": {},
      "outputs": [],
      "source": [
        "import pandas as pd\n",
        "import geopandas as gpd\n",
        "import h3pandas\n",
        "from shapely.geometry import Point, Polygon, LineString\n",
        "from shapely.vectorized import contains\n",
        "import json\n",
        "import folium\n",
        "import os\n",
        "import numpy as np\n",
        "from folium.plugins import GroupedLayerControl\n",
        "import branca.colormap as cm\n",
        "from mappymatch.constructs.geofence import Geofence"
      ]
    },
    {
      "cell_type": "code",
      "execution_count": null,
      "id": "def3f495",
      "metadata": {},
      "outputs": [],
      "source": [
        "# Red zone = no motorized transport\n",
        "# Black zone = no movement, except ticket holders\n",
        "red_zone = Geofence.from_geojson(\"sources/ceremony_red.geojson\")\n",
        "black_zone = Geofence.from_geojson(\"sources/ceremony_silt.geojson\")\n",
        "paris = Geofence.from_geojson(\"sources/paris.geojson\")"
      ]
    },
    {
      "cell_type": "code",
      "execution_count": null,
      "id": "629e1620",
      "metadata": {},
      "outputs": [],
      "source": [
        "df = pd.read_csv(\"sources/data.csv\")"
      ]
    },
    {
      "cell_type": "code",
      "execution_count": null,
      "id": "b2ac6d67",
      "metadata": {},
      "outputs": [],
      "source": [
        "df"
      ]
    },
    {
      "cell_type": "code",
      "execution_count": null,
      "id": "91aa57dd",
      "metadata": {},
      "outputs": [],
      "source": [
        "tr = {\n",
        "-10 : \"NOT_DEFINED\",\n",
        "0 : \"UNKNOWN\",\n",
        "1 : \"PASSENGER_CAR\",\n",
        "2 : \"MOTORCYCLE\",\n",
        "3 : \"HEAVY_DUTY_VEHICLE\",\n",
        "4 : \"BUS\",\n",
        "5 : \"COACH\",\n",
        "6 : \"RAIL_TRIP\",\n",
        "7 : \"BOAT_TRIP\",\n",
        "8 : \"BIKE_TRIP\",\n",
        "9 : \"PLANE\",\n",
        "10 : \"SKI\",\n",
        "11 : \"FOOT\",\n",
        "12 : \"IDLE\",\n",
        "13 : \"OTHER\",\n",
        "101 : \"SCOOTER\",\n",
        "102 : \"HIGH_SPEED_TRAIN\"\n",
        "}\n",
        "tre = {\n",
        "    -10: \"\",\n",
        "    1: \"Essence\",\n",
        "    2: \"Diesel\",\n",
        "    3: \"Electrique\",\n",
        "    4: \"Essence Hybride\",\n",
        "    5: \"Diesiel Hybride\"\n",
        "}\n",
        "df['transportation_mode_tr'] = df['transportation_mode'].apply(lambda x: tr[x])\n",
        "df['engine_type_tr'] = df['engine_type'].apply(lambda x: tre[x]) # Unused"
      ]
    },
    {
      "cell_type": "code",
      "execution_count": null,
      "id": "0e543b85",
      "metadata": {},
      "outputs": [],
      "source": [
        "# Convert columns to datetime\n",
        "df['start_time'] = pd.to_datetime(df['start_time'], format='mixed')\n",
        "df['end_time'] = pd.to_datetime(df['end_time'], format='mixed')\n",
        "\n",
        "# Calculate duration in seconds\n",
        "df['duration'] = (df['end_time'] - df['start_time']).dt.total_seconds()"
      ]
    },
    {
      "cell_type": "code",
      "execution_count": null,
      "id": "c25a4a95",
      "metadata": {},
      "outputs": [],
      "source": [
        "journey_df = df.groupby(\"journey_id\").agg(\n",
        "    journey_starting_longitude=('starting_longitude', 'first'),\n",
        "    journey_starting_latitude=('starting_latitude', 'first'),\n",
        "    journey_ending_longitude=('ending_longitude', 'last'),\n",
        "    journey_ending_latitude=('ending_latitude', 'last'),\n",
        ").reset_index()\n",
        "df = pd.merge(df, journey_df, on=\"journey_id\")\n",
        "df"
      ]
    },
    {
      "cell_type": "code",
      "execution_count": null,
      "id": "3a1f645e",
      "metadata": {},
      "outputs": [],
      "source": [
        "df[\"begins_in_red_zone\"] = contains(red_zone.geometry, df[\"journey_starting_longitude\"], df[\"journey_starting_latitude\"])\n",
        "df[\"ends_in_red_zone\"] = contains(red_zone.geometry, df[\"journey_ending_longitude\"], df[\"journey_ending_latitude\"])\n",
        "df[\"red_zone\"] = df[\"begins_in_red_zone\"] & df[\"ends_in_red_zone\"]\n",
        "df[\"begins_in_black_zone\"] = contains(black_zone.geometry, df[\"journey_starting_longitude\"], df[\"journey_starting_latitude\"])\n",
        "df[\"ends_in_black_zone\"] = contains(black_zone.geometry, df[\"journey_ending_longitude\"], df[\"journey_ending_latitude\"])\n",
        "df[\"black_zone\"] = df[\"begins_in_black_zone\"] & df[\"ends_in_black_zone\"]"
      ]
    },
    {
      "cell_type": "code",
      "execution_count": null,
      "id": "dce2c911",
      "metadata": {},
      "outputs": [],
      "source": [
        "df[df[\"ends_in_black_zone\"]]"
      ]
    },
    {
      "cell_type": "markdown",
      "id": "1e86ddd3",
      "metadata": {},
      "source": [
        "### Compute general modal share stats, not using gps data"
      ]
    },
    {
      "cell_type": "code",
      "execution_count": null,
      "id": "821cc0dd",
      "metadata": {},
      "outputs": [],
      "source": [
        "# General stats\n",
        "def compute_stats(filtered_df):\n",
        "    mode_share = filtered_df.groupby(['transportation_mode_tr']).agg(Count=('journey_id', 'nunique'), Duration=('duration', 'sum'), Distance=('distance_km', 'sum'))\n",
        "    mode_share_dict = mode_share.to_dict()\n",
        "    mode_share_dict['Total_Count'] = filtered_df[\"journey_id\"].nunique()\n",
        "    mode_share_dict['Total_Users'] = filtered_df[\"user_id\"].nunique()\n",
        "    mode_share_dict['Total_Duration'] = filtered_df[\"duration\"].sum()\n",
        "    mode_share_dict['Total_Distance'] = filtered_df[\"distance_km\"].sum()\n",
        "    mode_share_dict['Total_Emission'] = filtered_df[\"emission_kg\"].sum()\n",
        "    mode_share_percents_count = mode_share[\"Count\"] / mode_share_dict['Total_Count']\n",
        "    mode_share_percents_duration = mode_share[\"Duration\"] / mode_share_dict['Total_Duration']\n",
        "    mode_share_percents_distance = mode_share[\"Distance\"] / mode_share_dict['Total_Distance']\n",
        "\n",
        "    return {\n",
        "        \"stats\": mode_share_dict,\n",
        "        \"percents_count\": mode_share_percents_count.to_dict(),\n",
        "        \"percents_duration\": mode_share_percents_duration.to_dict(),\n",
        "        \"percents_distance\": mode_share_percents_distance.to_dict()\n",
        "    }\n",
        "\n",
        "mode_share = {\n",
        "    \"all\": compute_stats(df),\n",
        "    \"red_zone\": compute_stats(df[df[\"red_zone\"]]),\n",
        "    \"black_zone\": compute_stats(df[df[\"black_zone\"]]),\n",
        "}\n",
        "os.makedirs(os.path.dirname(f'../static/data/ceremony/'), exist_ok=True)\n",
        "with open(f'../static/data/ceremony/modal_share.json', 'w') as f:\n",
        "    f.write(json.dumps(mode_share))\n",
        "mode_share"
      ]
    },
    {
      "cell_type": "markdown",
      "id": "1a34b086",
      "metadata": {},
      "source": [
        "### Compute h3 cell stats, using gps"
      ]
    },
    {
      "cell_type": "code",
      "execution_count": null,
      "id": "140d54cf",
      "metadata": {},
      "outputs": [],
      "source": [
        "# Note: this should be the same source as the initial csv\n",
        "df_src = pd.read_csv(\"sources/data_idf 21-23 mars 24.csv\")"
      ]
    },
    {
      "cell_type": "code",
      "execution_count": null,
      "id": "8bea3fc3",
      "metadata": {},
      "outputs": [],
      "source": [
        "df_src = df_src.rename(columns={\"moover_id\": \"user_id\"})"
      ]
    },
    {
      "cell_type": "code",
      "execution_count": null,
      "id": "8b2f02b4",
      "metadata": {},
      "outputs": [],
      "source": [
        "# Filter starting points in paris, for performance, might not be needed\n",
        "df_src[\"in_paris\"] = contains(paris.geometry, df_src[\"longitude\"], df_src[\"latitude\"])\n",
        "df_src_s = df_src[df_src[\"in_paris\"]]\n",
        "df_src_s"
      ]
    },
    {
      "cell_type": "code",
      "execution_count": null,
      "id": "09a3a9cf",
      "metadata": {},
      "outputs": [],
      "source": [
        "# Extract relevant columns from the DataFrame\n",
        "trace_gps_col = df_src_s['trace_gps'].apply(json.loads)\n",
        "user_id_col = df_src_s['user_id']\n",
        "transportation_mode_col = df_src_s['transportation_mode']\n",
        "isNMT_col = transportation_mode_col.isin([11, 8]).astype(int)"
      ]
    },
    {
      "cell_type": "code",
      "execution_count": null,
      "id": "06593165",
      "metadata": {},
      "outputs": [],
      "source": [
        "# Calculate number of points for each trace\n",
        "num_points_col = trace_gps_col.apply(len)\n",
        "\n",
        "# Preallocate arrays for the final DataFrame\n",
        "total_points = num_points_col.sum()\n",
        "lon = np.empty(total_points)\n",
        "lat = np.empty(total_points)\n",
        "hour = np.empty(total_points, dtype=int)\n",
        "trace_id = np.empty(total_points, dtype=int)\n",
        "isNMT = np.empty(total_points, dtype=int)\n",
        "user_id = np.empty(total_points, dtype=object)\n",
        "transportation_mode = np.empty(total_points, dtype=int)\n",
        "\n",
        "# Fill the arrays\n",
        "index = 0\n",
        "for idx, (trace_gps, user_id_val, transportation_mode_val, isNMT_val, num_points) in enumerate(zip(trace_gps_col, user_id_col, transportation_mode_col, isNMT_col, num_points_col)):\n",
        "    trace_id[index:index+num_points] = idx\n",
        "    isNMT[index:index+num_points] = isNMT_val\n",
        "    user_id[index:index+num_points] = user_id_val\n",
        "    transportation_mode[index:index+num_points] = transportation_mode_val\n",
        "    \n",
        "    trace_gps_array = np.array(trace_gps)\n",
        "    lon[index:index+num_points] = trace_gps_array[:, 0]\n",
        "    lat[index:index+num_points] = trace_gps_array[:, 1]\n",
        "    \n",
        "    index += num_points\n",
        "\n",
        "# Create the final DataFrame\n",
        "new_df = pd.DataFrame({\n",
        "    'lon': lon,\n",
        "    'lat': lat,\n",
        "    'trace_id': trace_id,\n",
        "    'isNMT': isNMT,\n",
        "    'user_id': user_id,\n",
        "    'transportation_mode': transportation_mode\n",
        "})\n",
        "new_df\n"
      ]
    },
    {
      "cell_type": "code",
      "execution_count": null,
      "id": "75287f26",
      "metadata": {},
      "outputs": [],
      "source": [
        "# Filter only points in paris, for performance, might not be needed\n",
        "new_df[\"in_paris\"] = contains(paris.geometry, new_df[\"lon\"], new_df[\"lat\"])\n",
        "new_df = new_df[new_df[\"in_paris\"]]"
      ]
    },
    {
      "cell_type": "code",
      "execution_count": null,
      "id": "cf35508e",
      "metadata": {},
      "outputs": [],
      "source": [
        "dfh3 = new_df.h3.geo_to_h3(9, lat_col=\"lat\", lng_col=\"lon\", set_index=False)"
      ]
    },
    {
      "cell_type": "code",
      "execution_count": null,
      "id": "0d623ed9",
      "metadata": {},
      "outputs": [],
      "source": [
        "df_unique_user = dfh3.drop_duplicates(subset=['h3_09', 'user_id'])\n",
        "drawgeoframe = df_unique_user[['h3_09', 'isNMT']].groupby(['h3_09']).agg(Count=('isNMT', np.size), Sum=('isNMT', 'sum'))\n",
        "drawgeoframe=drawgeoframe.reset_index().set_index('h3_09')"
      ]
    },
    {
      "cell_type": "code",
      "execution_count": null,
      "id": "4472deb7",
      "metadata": {},
      "outputs": [],
      "source": [
        "drawgeoframe = drawgeoframe.h3.h3_to_geo_boundary()"
      ]
    },
    {
      "cell_type": "code",
      "execution_count": null,
      "id": "0dfadc79",
      "metadata": {},
      "outputs": [],
      "source": [
        "drawgeoframe['percent'] = drawgeoframe['Sum']*100 / drawgeoframe['Count']\n",
        "drawgeoframe = drawgeoframe[drawgeoframe['Count'] > 3]\n",
        "drawgeoframe"
      ]
    },
    {
      "cell_type": "code",
      "execution_count": null,
      "id": "b2dbc5b2",
      "metadata": {},
      "outputs": [],
      "source": [
        "colormap = cm.LinearColormap([\"red\", \"yellow\", \"green\"], vmin=0, vmax=100)\n",
        "drawgeoframe[\"color\"] = drawgeoframe[\"percent\"].apply(lambda x: colormap(x)[:-2])\n",
        "\n",
        "start_lat = 48.8915079\n",
        "start_long = 2.3495425\n",
        "m = folium.Map(location=[start_lat, start_long], zoom_start=13)\n",
        "folium.TileLayer('openstreetmap').add_to(m)\n",
        "folium.TileLayer('cartodbdark_matter').add_to(m)\n",
        "\n",
        "folium.GeoJson(drawgeoframe, style_function=lambda f: {\"color\": f['properties']['color']}).add_to(m)\n",
        "m"
      ]
    },
    {
      "cell_type": "code",
      "execution_count": null,
      "id": "3dc16790",
      "metadata": {},
      "outputs": [],
      "source": [
        "drawgeoframe.to_file(\"../static/data/ceremony_h3_modal_share.geojson\", driver=\"GeoJSON\")"
      ]
    },
    {
      "cell_type": "markdown",
      "id": "44870576",
      "metadata": {},
      "source": [
        "### Evolutions compared to a normal day"
      ]
    },
    {
      "cell_type": "code",
      "execution_count": null,
      "id": "30c083bb",
      "metadata": {},
      "outputs": [],
      "source": [
        "ceremony_geodataframe = drawgeoframe\n",
        "regularday_geodataframe = pd.read_csv(\"sources/h3_modal_mars.csv\")"
      ]
    },
    {
      "cell_type": "code",
      "execution_count": null,
      "id": "6b688c27",
      "metadata": {},
      "outputs": [],
      "source": [
        "merged = ceremony_geodataframe.merge(regularday_geodataframe, how='inner', on='h3_09')\n",
        "merged[\"modal_share_percent_diff\"] = merged[\"percent_x\"] - merged[\"percent_y\"]\n",
        "merged[\"Count_percent_diff\"] = (merged[\"Count_x\"] - merged[\"Count_y\"]) * 100.0 / merged[\"Count_y\"]\n",
        "\n",
        "final = merged[[\"geometry_x\", \"modal_share_percent_diff\", \"Count_percent_diff\", \"percent_x\", \"percent_y\", \"Count_x\", \"Count_y\"]]\n",
        "final = final.rename(columns={\"geometry_x\": \"geometry\", \"percent_x\": \"modal_share_percent_ceremony\", \"percent_y\": \"modal_share_percent_regularday\", \"Count_x\": \"count_ceremony\", \"Count_y\": \"Count_regularday\"})\n",
        "\n",
        "colormap = cm.LinearColormap([\"red\", \"white\", \"green\"], vmin=-50, vmax=50)\n",
        "final[\"color\"] = final[\"modal_share_percent_diff\"].apply(lambda x: colormap(x)[:-2])\n",
        "final = gpd.GeoDataFrame(final, crs=\"EPSG:4326\")\n",
        "final"
      ]
    },
    {
      "cell_type": "code",
      "execution_count": null,
      "id": "53278767",
      "metadata": {},
      "outputs": [],
      "source": [
        "final.to_file(\"../static/data/ceremony_h3_modal_change.geojson\", driver=\"GeoJSON\")"
      ]
    },
    {
      "cell_type": "code",
      "execution_count": null,
      "id": "462e9469",
      "metadata": {},
      "outputs": [],
      "source": []
    }
  ],
  "metadata": {
    "kernelspec": {
      "display_name": "Python 3 (ipykernel)",
      "language": "python",
      "name": "python3"
    },
    "language_info": {
      "codemirror_mode": {
        "name": "ipython",
        "version": 3
      },
      "file_extension": ".py",
      "mimetype": "text/x-python",
      "name": "python",
      "nbconvert_exporter": "python",
      "pygments_lexer": "ipython3",
      "version": "3.9.16"
    }
  },
  "nbformat": 4,
  "nbformat_minor": 5
}
