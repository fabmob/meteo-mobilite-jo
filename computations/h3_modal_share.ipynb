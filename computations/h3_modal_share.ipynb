{
 "cells": [
  {
   "cell_type": "markdown",
   "id": "2f87aa66",
   "metadata": {},
   "source": [
    "**Computes the share of motorized transport for each h3 cell (level 9)**\n",
    "\n",
    "**Input**: csv using the following columns:\n",
    "* `transportation_mode`: used mode of transport for the trip (see table below)\n",
    "* `start_time`: datetime of begining of trip\n",
    "* `end_time`: datetime of end of trip\n",
    "* `user_id`: Id of the traveling user, used to make sure results include more than one user per geographic division\n",
    "* `trace_gps`: list of (lon, lat) tuples\n",
    "\n",
    "**Output**: geoJSON file \"../static/data/h3_modal_share.geojson\" containing h3 cell shapes with the following metadata:\n",
    "* `percent`: 0% = all trips were by foot or bicyle, 100% = all trips were motorized\n",
    "* `color`: A color representation of `percent`, from green to red\n",
    "* `Sum`: Number of trips in cell made using foot or bicycle\n",
    "* `Count`: Total number of trips in cell\n",
    "\n",
    "For anonymity, users are counted only once per cell, and there must be at least 4 trips in a given cell for data to be considered"
   ]
  },
  {
   "cell_type": "code",
   "execution_count": null,
   "id": "ffd7b9d7",
   "metadata": {},
   "outputs": [],
   "source": [
    "import pandas as pd\n",
    "import geopandas as gpd\n",
    "import numpy as np\n",
    "import h3pandas\n",
    "from shapely.geometry import Point, Polygon, LineString\n",
    "import json\n",
    "import folium"
   ]
  },
  {
   "cell_type": "code",
   "execution_count": null,
   "id": "3682b8f9",
   "metadata": {},
   "outputs": [],
   "source": [
    "df_src = pd.read_csv(\"sources/data_example.csv\")"
   ]
  },
  {
   "cell_type": "code",
   "execution_count": null,
   "id": "eef1ed4d",
   "metadata": {},
   "outputs": [],
   "source": [
    "tr = {\n",
    "-10 : \"NOT_DEFINED\",\n",
    "0 : \"UNKNOWN\",\n",
    "1 : \"PASSENGER_CAR\",\n",
    "2 : \"MOTORCYCLE\",\n",
    "3 : \"HEAVY_DUTY_VEHICLE\",\n",
    "4 : \"BUS\",\n",
    "5 : \"COACH\",\n",
    "6 : \"RAIL_TRIP\",\n",
    "7 : \"BOAT_TRIP\",\n",
    "8 : \"BIKE_TRIP\",\n",
    "9 : \"PLANE\",\n",
    "10 : \"SKI\",\n",
    "11 : \"FOOT\",\n",
    "12 : \"IDLE\",\n",
    "13 : \"OTHER\",\n",
    "101 : \"SCOOTER\",\n",
    "102 : \"HIGH_SPEED_TRAIN\"\n",
    "}\n",
    "df_src['transportation_mode_tr'] = df_src['transportation_mode'].apply(lambda x: tr[x])"
   ]
  },
  {
   "cell_type": "code",
   "execution_count": null,
   "id": "ca167096",
   "metadata": {},
   "outputs": [],
   "source": [
    "rows = []\n",
    "for idx, row in df_src.iterrows():\n",
    "    trace_gps_list = json.loads(row['trace_gps'])\n",
    "    num_coords = len(trace_gps_list)\n",
    "    date_range = pd.date_range(start=row['start_time'], end=row['end_time'], periods=num_coords)\n",
    "    isNMT = 0\n",
    "    if (row['transportation_mode']==11 or row['transportation_mode']==8):\n",
    "        isNMT = 1\n",
    "    for coord, date in zip(trace_gps_list, date_range):\n",
    "        rows.append({'lon': coord[0], 'lat': coord[1], 'date': date, 'trace_id': idx, 'isNMT':isNMT, 'user_id': row['user_id'], 'transportation_mode': row['transportation_mode']})\n",
    "\n",
    "new_df = pd.DataFrame(rows)\n",
    "new_df"
   ]
  },
  {
   "cell_type": "code",
   "execution_count": null,
   "id": "3e9468dd",
   "metadata": {},
   "outputs": [],
   "source": [
    "dfh3 = new_df.h3.geo_to_h3(9, lat_col=\"lat\", lng_col=\"lon\", set_index=False)"
   ]
  },
  {
   "cell_type": "code",
   "execution_count": null,
   "id": "3e34c0f3",
   "metadata": {},
   "outputs": [],
   "source": [
    "df_unique_user = dfh3.drop_duplicates(subset=['h3_09', 'user_id'])\n",
    "drawgeoframe = df_unique_user[['h3_09', 'isNMT']].groupby(['h3_09']).agg(Count=('isNMT', np.size), Sum=('isNMT', np.sum))\n",
    "drawgeoframe"
   ]
  },
  {
   "cell_type": "code",
   "execution_count": null,
   "id": "7b5a10c0",
   "metadata": {},
   "outputs": [],
   "source": [
    "drawgeoframe = drawgeoframe.h3.h3_to_geo_boundary()"
   ]
  },
  {
   "cell_type": "code",
   "execution_count": null,
   "id": "6c8995d0",
   "metadata": {},
   "outputs": [],
   "source": [
    "drawgeoframe['percent'] = drawgeoframe['Sum']*100 / drawgeoframe['Count']\n",
    "drawgeoframe = drawgeoframe[drawgeoframe['Count'] > 3]\n",
    "drawgeoframe"
   ]
  },
  {
   "cell_type": "code",
   "execution_count": null,
   "id": "d9e799d8",
   "metadata": {},
   "outputs": [],
   "source": [
    "import folium\n",
    "import branca.colormap as cm\n",
    "colormap = cm.LinearColormap([\"red\", \"yellow\", \"green\"], vmin=0, vmax=100)\n",
    "drawgeoframe[\"color\"] = drawgeoframe[\"percent\"].apply(lambda x: colormap(x)[:-2])\n",
    "\n",
    "start_lat = 48.8915079\n",
    "start_long = 2.3495425\n",
    "m = folium.Map(location=[start_lat, start_long], zoom_start=13)\n",
    "folium.TileLayer('openstreetmap').add_to(m)\n",
    "folium.TileLayer('cartodbdark_matter').add_to(m)\n",
    "folium.GeoJson(drawgeoframe, style_function=lambda f: {\"color\": f['properties']['color']}).add_to(m)\n",
    "folium.LayerControl().add_to(m)\n",
    "m"
   ]
  },
  {
   "cell_type": "code",
   "execution_count": null,
   "id": "10e20d93",
   "metadata": {},
   "outputs": [],
   "source": [
    "drawgeoframe.to_file(\"../static/data/h3_modal_share2.geojson\", driver=\"GeoJSON\")"
   ]
  }
 ],
 "metadata": {
  "kernelspec": {
   "display_name": "Python 3 (ipykernel)",
   "language": "python",
   "name": "python3"
  },
  "language_info": {
   "codemirror_mode": {
    "name": "ipython",
    "version": 3
   },
   "file_extension": ".py",
   "mimetype": "text/x-python",
   "name": "python",
   "nbconvert_exporter": "python",
   "pygments_lexer": "ipython3",
   "version": "3.9.16"
  }
 },
 "nbformat": 4,
 "nbformat_minor": 5
}
